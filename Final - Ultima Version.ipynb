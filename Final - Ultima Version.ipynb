{
 "cells": [
  {
   "cell_type": "markdown",
   "id": "ffff94b8-43f2-4d51-a848-95d5042274ae",
   "metadata": {},
   "source": [
    "### Un proceso de Big Data para la predicción de cantidad de casos de Infecciones Respiratorias Agudas en función del Clima"
   ]
  },
  {
   "cell_type": "code",
   "execution_count": 128,
   "id": "2419e6b9-e1ee-4487-bb6e-7e65c864a3e7",
   "metadata": {},
   "outputs": [],
   "source": [
    "#Importamos la libreria de pandas\n",
    "import pandas as pd"
   ]
  },
  {
   "cell_type": "markdown",
   "id": "554e9aa0-cd67-4449-b59d-296c6fffeff3",
   "metadata": {},
   "source": [
    "## Datasets de enfermedades respiratorias"
   ]
  },
  {
   "cell_type": "code",
   "execution_count": 129,
   "id": "5b1bca34-ebaa-498f-b4ba-06a4aa235ffa",
   "metadata": {},
   "outputs": [],
   "source": [
    "#Leemos los datasets originales correspondientes a las enfermedades respiratorias\n",
    "df_respiratorias2022_2023 = pd.read_csv(\"./Respiratorias2022-2023 SUCIO.csv\")\n",
    "df_respiratorias2020_2021 = pd.read_csv(\"./Respiratorias2020-2021 SUCIO.csv\")\n",
    "df_respiratorias2019 = pd.read_csv(\"./Respiratorias2018-2019 SUCIO.csv\")"
   ]
  },
  {
   "cell_type": "code",
   "execution_count": 130,
   "id": "2b3bce82-9d48-4af4-9e7e-ce3e8a101325",
   "metadata": {},
   "outputs": [
    {
     "name": "stdout",
     "output_type": "stream",
     "text": [
      "<class 'pandas.core.frame.DataFrame'>\n",
      "RangeIndex: 557855 entries, 0 to 557854\n",
      "Data columns (total 10 columns):\n",
      " #   Column                   Non-Null Count   Dtype \n",
      "---  ------                   --------------   ----- \n",
      " 0   departamento_id          557855 non-null  int64 \n",
      " 1   departamento_nombre      557855 non-null  object\n",
      " 2   provincia_id             557855 non-null  int64 \n",
      " 3   provincia_nombre         557855 non-null  object\n",
      " 4   año                      557855 non-null  int64 \n",
      " 5   semanas_epidemiologicas  557855 non-null  int64 \n",
      " 6   evento_nombre            557855 non-null  object\n",
      " 7   grupo_edad_id            557855 non-null  int64 \n",
      " 8   grupo_edad_desc          557855 non-null  object\n",
      " 9   cantidad_casos           557855 non-null  int64 \n",
      "dtypes: int64(6), object(4)\n",
      "memory usage: 42.6+ MB\n"
     ]
    },
    {
     "data": {
      "text/html": [
       "<div>\n",
       "<style scoped>\n",
       "    .dataframe tbody tr th:only-of-type {\n",
       "        vertical-align: middle;\n",
       "    }\n",
       "\n",
       "    .dataframe tbody tr th {\n",
       "        vertical-align: top;\n",
       "    }\n",
       "\n",
       "    .dataframe thead th {\n",
       "        text-align: right;\n",
       "    }\n",
       "</style>\n",
       "<table border=\"1\" class=\"dataframe\">\n",
       "  <thead>\n",
       "    <tr style=\"text-align: right;\">\n",
       "      <th></th>\n",
       "      <th>departamento_id</th>\n",
       "      <th>provincia_id</th>\n",
       "      <th>año</th>\n",
       "      <th>semanas_epidemiologicas</th>\n",
       "      <th>grupo_edad_id</th>\n",
       "      <th>cantidad_casos</th>\n",
       "    </tr>\n",
       "  </thead>\n",
       "  <tbody>\n",
       "    <tr>\n",
       "      <th>count</th>\n",
       "      <td>557855.000000</td>\n",
       "      <td>557855.000000</td>\n",
       "      <td>557855.000000</td>\n",
       "      <td>557855.000000</td>\n",
       "      <td>557855.000000</td>\n",
       "      <td>557855.000000</td>\n",
       "    </tr>\n",
       "    <tr>\n",
       "      <th>mean</th>\n",
       "      <td>160.489950</td>\n",
       "      <td>34.651115</td>\n",
       "      <td>2022.597103</td>\n",
       "      <td>25.592935</td>\n",
       "      <td>6.933976</td>\n",
       "      <td>6.234256</td>\n",
       "    </tr>\n",
       "    <tr>\n",
       "      <th>std</th>\n",
       "      <td>211.194573</td>\n",
       "      <td>27.826484</td>\n",
       "      <td>0.612642</td>\n",
       "      <td>14.418149</td>\n",
       "      <td>3.885756</td>\n",
       "      <td>13.016889</td>\n",
       "    </tr>\n",
       "    <tr>\n",
       "      <th>min</th>\n",
       "      <td>1.000000</td>\n",
       "      <td>2.000000</td>\n",
       "      <td>2022.000000</td>\n",
       "      <td>1.000000</td>\n",
       "      <td>1.000000</td>\n",
       "      <td>1.000000</td>\n",
       "    </tr>\n",
       "    <tr>\n",
       "      <th>25%</th>\n",
       "      <td>35.000000</td>\n",
       "      <td>6.000000</td>\n",
       "      <td>2022.000000</td>\n",
       "      <td>13.000000</td>\n",
       "      <td>3.000000</td>\n",
       "      <td>1.000000</td>\n",
       "    </tr>\n",
       "    <tr>\n",
       "      <th>50%</th>\n",
       "      <td>70.000000</td>\n",
       "      <td>26.000000</td>\n",
       "      <td>2023.000000</td>\n",
       "      <td>25.000000</td>\n",
       "      <td>7.000000</td>\n",
       "      <td>2.000000</td>\n",
       "    </tr>\n",
       "    <tr>\n",
       "      <th>75%</th>\n",
       "      <td>147.000000</td>\n",
       "      <td>58.000000</td>\n",
       "      <td>2023.000000</td>\n",
       "      <td>38.000000</td>\n",
       "      <td>10.000000</td>\n",
       "      <td>6.000000</td>\n",
       "    </tr>\n",
       "    <tr>\n",
       "      <th>max</th>\n",
       "      <td>882.000000</td>\n",
       "      <td>94.000000</td>\n",
       "      <td>2024.000000</td>\n",
       "      <td>52.000000</td>\n",
       "      <td>17.000000</td>\n",
       "      <td>604.000000</td>\n",
       "    </tr>\n",
       "  </tbody>\n",
       "</table>\n",
       "</div>"
      ],
      "text/plain": [
       "       departamento_id   provincia_id            año  semanas_epidemiologicas  grupo_edad_id  cantidad_casos\n",
       "count    557855.000000  557855.000000  557855.000000            557855.000000  557855.000000   557855.000000\n",
       "mean        160.489950      34.651115    2022.597103                25.592935       6.933976        6.234256\n",
       "std         211.194573      27.826484       0.612642                14.418149       3.885756       13.016889\n",
       "min           1.000000       2.000000    2022.000000                 1.000000       1.000000        1.000000\n",
       "25%          35.000000       6.000000    2022.000000                13.000000       3.000000        1.000000\n",
       "50%          70.000000      26.000000    2023.000000                25.000000       7.000000        2.000000\n",
       "75%         147.000000      58.000000    2023.000000                38.000000      10.000000        6.000000\n",
       "max         882.000000      94.000000    2024.000000                52.000000      17.000000      604.000000"
      ]
     },
     "execution_count": 130,
     "metadata": {},
     "output_type": "execute_result"
    }
   ],
   "source": [
    "## Observamos las propiedades del dataset del 2022 al 2023\n",
    "df_respiratorias2022_2023.shape         # Dimensiones (filas, columnas)\n",
    "df_respiratorias2022_2023.columns       # Lista de nombres de columnas\n",
    "df_respiratorias2022_2023.dtypes        # Tipos de datos por columna\n",
    "df_respiratorias2022_2023.info()        # Resumen: tipos de datos, no nulos\n",
    "df_respiratorias2022_2023.describe()    # Estadísticas básicas (solo numéricas)"
   ]
  },
  {
   "cell_type": "markdown",
   "id": "ed97e7b6-2c68-42f4-87cb-c9a8a4147db6",
   "metadata": {},
   "source": [
    "El dataset \"df_respiratorias2022_2023\" contiene  557855 filas. <br> Los nombres de las columnas son: deparmanto_id, departamento_nombre, provincia_id, provincia_nombre, año, semanas_epidemiologicas, evento_nombre, grupo_edad_id, grupo_edad_desc, cantidad_casos <br> Para cada columna, además, se indica la cantidad de datos no-nulos y el tipo de dato (int64 u object) <br> Por ultimo, se muestran las estadisticas basicas de cada columna como la cuenta, la media, la desviación estándar, el valor mínimo, los cuartiles (25%, 50%, 75%) y el valor máximo."
   ]
  },
  {
   "cell_type": "markdown",
   "id": "e0f5d67c-678e-46d8-9b0d-160cb51fd2f8",
   "metadata": {},
   "source": [
    "Observamos lo mismo para los otros dfs"
   ]
  },
  {
   "cell_type": "code",
   "execution_count": 131,
   "id": "8d0289bc-3ade-4b54-8b9c-71263fa6c5ac",
   "metadata": {},
   "outputs": [
    {
     "name": "stdout",
     "output_type": "stream",
     "text": [
      "<class 'pandas.core.frame.DataFrame'>\n",
      "RangeIndex: 277413 entries, 0 to 277412\n",
      "Data columns (total 10 columns):\n",
      " #   Column                   Non-Null Count   Dtype \n",
      "---  ------                   --------------   ----- \n",
      " 0   departamento_id          277413 non-null  int64 \n",
      " 1   departamento_nombre      277413 non-null  object\n",
      " 2   provincia_id             277413 non-null  int64 \n",
      " 3   provincia_nombre         277413 non-null  object\n",
      " 4   año                      277413 non-null  int64 \n",
      " 5   semanas_epidemiologicas  277413 non-null  int64 \n",
      " 6   evento_nombre            277413 non-null  object\n",
      " 7   grupo_edad_id            277413 non-null  int64 \n",
      " 8   grupo_edad_desc          277413 non-null  object\n",
      " 9   cantidad_casos           277413 non-null  int64 \n",
      "dtypes: int64(6), object(4)\n",
      "memory usage: 21.2+ MB\n"
     ]
    },
    {
     "data": {
      "text/html": [
       "<div>\n",
       "<style scoped>\n",
       "    .dataframe tbody tr th:only-of-type {\n",
       "        vertical-align: middle;\n",
       "    }\n",
       "\n",
       "    .dataframe tbody tr th {\n",
       "        vertical-align: top;\n",
       "    }\n",
       "\n",
       "    .dataframe thead th {\n",
       "        text-align: right;\n",
       "    }\n",
       "</style>\n",
       "<table border=\"1\" class=\"dataframe\">\n",
       "  <thead>\n",
       "    <tr style=\"text-align: right;\">\n",
       "      <th></th>\n",
       "      <th>departamento_id</th>\n",
       "      <th>provincia_id</th>\n",
       "      <th>año</th>\n",
       "      <th>semanas_epidemiologicas</th>\n",
       "      <th>grupo_edad_id</th>\n",
       "      <th>cantidad_casos</th>\n",
       "    </tr>\n",
       "  </thead>\n",
       "  <tbody>\n",
       "    <tr>\n",
       "      <th>count</th>\n",
       "      <td>277413.000000</td>\n",
       "      <td>277413.000000</td>\n",
       "      <td>277413.000000</td>\n",
       "      <td>277413.000000</td>\n",
       "      <td>277413.000000</td>\n",
       "      <td>277413.000000</td>\n",
       "    </tr>\n",
       "    <tr>\n",
       "      <th>mean</th>\n",
       "      <td>139.071806</td>\n",
       "      <td>36.213451</td>\n",
       "      <td>2020.578823</td>\n",
       "      <td>24.581364</td>\n",
       "      <td>6.794674</td>\n",
       "      <td>4.112374</td>\n",
       "    </tr>\n",
       "    <tr>\n",
       "      <th>std</th>\n",
       "      <td>188.675323</td>\n",
       "      <td>27.312672</td>\n",
       "      <td>0.574255</td>\n",
       "      <td>15.207492</td>\n",
       "      <td>3.838451</td>\n",
       "      <td>7.576438</td>\n",
       "    </tr>\n",
       "    <tr>\n",
       "      <th>min</th>\n",
       "      <td>1.000000</td>\n",
       "      <td>2.000000</td>\n",
       "      <td>2020.000000</td>\n",
       "      <td>1.000000</td>\n",
       "      <td>1.000000</td>\n",
       "      <td>1.000000</td>\n",
       "    </tr>\n",
       "    <tr>\n",
       "      <th>25%</th>\n",
       "      <td>35.000000</td>\n",
       "      <td>10.000000</td>\n",
       "      <td>2020.000000</td>\n",
       "      <td>11.000000</td>\n",
       "      <td>3.000000</td>\n",
       "      <td>1.000000</td>\n",
       "    </tr>\n",
       "    <tr>\n",
       "      <th>50%</th>\n",
       "      <td>70.000000</td>\n",
       "      <td>30.000000</td>\n",
       "      <td>2021.000000</td>\n",
       "      <td>24.000000</td>\n",
       "      <td>7.000000</td>\n",
       "      <td>2.000000</td>\n",
       "    </tr>\n",
       "    <tr>\n",
       "      <th>75%</th>\n",
       "      <td>133.000000</td>\n",
       "      <td>58.000000</td>\n",
       "      <td>2021.000000</td>\n",
       "      <td>37.000000</td>\n",
       "      <td>10.000000</td>\n",
       "      <td>4.000000</td>\n",
       "    </tr>\n",
       "    <tr>\n",
       "      <th>max</th>\n",
       "      <td>882.000000</td>\n",
       "      <td>94.000000</td>\n",
       "      <td>2022.000000</td>\n",
       "      <td>53.000000</td>\n",
       "      <td>17.000000</td>\n",
       "      <td>334.000000</td>\n",
       "    </tr>\n",
       "  </tbody>\n",
       "</table>\n",
       "</div>"
      ],
      "text/plain": [
       "       departamento_id   provincia_id            año  semanas_epidemiologicas  grupo_edad_id  cantidad_casos\n",
       "count    277413.000000  277413.000000  277413.000000            277413.000000  277413.000000   277413.000000\n",
       "mean        139.071806      36.213451    2020.578823                24.581364       6.794674        4.112374\n",
       "std         188.675323      27.312672       0.574255                15.207492       3.838451        7.576438\n",
       "min           1.000000       2.000000    2020.000000                 1.000000       1.000000        1.000000\n",
       "25%          35.000000      10.000000    2020.000000                11.000000       3.000000        1.000000\n",
       "50%          70.000000      30.000000    2021.000000                24.000000       7.000000        2.000000\n",
       "75%         133.000000      58.000000    2021.000000                37.000000      10.000000        4.000000\n",
       "max         882.000000      94.000000    2022.000000                53.000000      17.000000      334.000000"
      ]
     },
     "execution_count": 131,
     "metadata": {},
     "output_type": "execute_result"
    }
   ],
   "source": [
    "#Primero con el 2020 a 2021\n",
    "df_respiratorias2020_2021.shape         # Dimensiones (filas, columnas)\n",
    "df_respiratorias2020_2021.columns       # Lista de nombres de columnas\n",
    "df_respiratorias2020_2021.dtypes        # Tipos de datos por columna\n",
    "df_respiratorias2020_2021.info()        # Resumen: tipos de datos, no nulos\n",
    "df_respiratorias2020_2021.describe()    # Estadísticas básicas (solo numéricas)"
   ]
  },
  {
   "cell_type": "code",
   "execution_count": 132,
   "id": "dbb1afc4-8c47-4589-86f4-f5ac66ceba04",
   "metadata": {},
   "outputs": [
    {
     "name": "stdout",
     "output_type": "stream",
     "text": [
      "<class 'pandas.core.frame.DataFrame'>\n",
      "RangeIndex: 790773 entries, 0 to 790772\n",
      "Data columns (total 10 columns):\n",
      " #   Column                   Non-Null Count   Dtype \n",
      "---  ------                   --------------   ----- \n",
      " 0   departamento_id          790773 non-null  int64 \n",
      " 1   departamento_nombre      790773 non-null  object\n",
      " 2   provincia_id             790773 non-null  int64 \n",
      " 3   provincia_nombre         790773 non-null  object\n",
      " 4   anio                     790773 non-null  int64 \n",
      " 5   semanas_epidemiologicas  790773 non-null  int64 \n",
      " 6   evento_nombre            790773 non-null  object\n",
      " 7   grupo_edad_id            790773 non-null  int64 \n",
      " 8   grupo_edad_desc          790773 non-null  object\n",
      " 9   cantidad_casos           790773 non-null  int64 \n",
      "dtypes: int64(6), object(4)\n",
      "memory usage: 60.3+ MB\n"
     ]
    },
    {
     "data": {
      "text/html": [
       "<div>\n",
       "<style scoped>\n",
       "    .dataframe tbody tr th:only-of-type {\n",
       "        vertical-align: middle;\n",
       "    }\n",
       "\n",
       "    .dataframe tbody tr th {\n",
       "        vertical-align: top;\n",
       "    }\n",
       "\n",
       "    .dataframe thead th {\n",
       "        text-align: right;\n",
       "    }\n",
       "</style>\n",
       "<table border=\"1\" class=\"dataframe\">\n",
       "  <thead>\n",
       "    <tr style=\"text-align: right;\">\n",
       "      <th></th>\n",
       "      <th>departamento_id</th>\n",
       "      <th>provincia_id</th>\n",
       "      <th>anio</th>\n",
       "      <th>semanas_epidemiologicas</th>\n",
       "      <th>grupo_edad_id</th>\n",
       "      <th>cantidad_casos</th>\n",
       "    </tr>\n",
       "  </thead>\n",
       "  <tbody>\n",
       "    <tr>\n",
       "      <th>count</th>\n",
       "      <td>790773.000000</td>\n",
       "      <td>790773.000000</td>\n",
       "      <td>790773.000000</td>\n",
       "      <td>790773.000000</td>\n",
       "      <td>790773.000000</td>\n",
       "      <td>790773.000000</td>\n",
       "    </tr>\n",
       "    <tr>\n",
       "      <th>mean</th>\n",
       "      <td>137.371544</td>\n",
       "      <td>35.664675</td>\n",
       "      <td>2018.559488</td>\n",
       "      <td>29.436226</td>\n",
       "      <td>6.504116</td>\n",
       "      <td>2.876172</td>\n",
       "    </tr>\n",
       "    <tr>\n",
       "      <th>std</th>\n",
       "      <td>192.836227</td>\n",
       "      <td>27.167579</td>\n",
       "      <td>0.496482</td>\n",
       "      <td>11.761366</td>\n",
       "      <td>3.674042</td>\n",
       "      <td>5.506441</td>\n",
       "    </tr>\n",
       "    <tr>\n",
       "      <th>min</th>\n",
       "      <td>1.000000</td>\n",
       "      <td>2.000000</td>\n",
       "      <td>2018.000000</td>\n",
       "      <td>1.000000</td>\n",
       "      <td>1.000000</td>\n",
       "      <td>0.000000</td>\n",
       "    </tr>\n",
       "    <tr>\n",
       "      <th>25%</th>\n",
       "      <td>28.000000</td>\n",
       "      <td>10.000000</td>\n",
       "      <td>2018.000000</td>\n",
       "      <td>22.000000</td>\n",
       "      <td>3.000000</td>\n",
       "      <td>1.000000</td>\n",
       "    </tr>\n",
       "    <tr>\n",
       "      <th>50%</th>\n",
       "      <td>63.000000</td>\n",
       "      <td>30.000000</td>\n",
       "      <td>2019.000000</td>\n",
       "      <td>30.000000</td>\n",
       "      <td>6.000000</td>\n",
       "      <td>2.000000</td>\n",
       "    </tr>\n",
       "    <tr>\n",
       "      <th>75%</th>\n",
       "      <td>126.000000</td>\n",
       "      <td>58.000000</td>\n",
       "      <td>2019.000000</td>\n",
       "      <td>38.000000</td>\n",
       "      <td>10.000000</td>\n",
       "      <td>3.000000</td>\n",
       "    </tr>\n",
       "    <tr>\n",
       "      <th>max</th>\n",
       "      <td>882.000000</td>\n",
       "      <td>94.000000</td>\n",
       "      <td>2020.000000</td>\n",
       "      <td>52.000000</td>\n",
       "      <td>17.000000</td>\n",
       "      <td>1819.000000</td>\n",
       "    </tr>\n",
       "  </tbody>\n",
       "</table>\n",
       "</div>"
      ],
      "text/plain": [
       "       departamento_id   provincia_id           anio  semanas_epidemiologicas  grupo_edad_id  cantidad_casos\n",
       "count    790773.000000  790773.000000  790773.000000            790773.000000  790773.000000   790773.000000\n",
       "mean        137.371544      35.664675    2018.559488                29.436226       6.504116        2.876172\n",
       "std         192.836227      27.167579       0.496482                11.761366       3.674042        5.506441\n",
       "min           1.000000       2.000000    2018.000000                 1.000000       1.000000        0.000000\n",
       "25%          28.000000      10.000000    2018.000000                22.000000       3.000000        1.000000\n",
       "50%          63.000000      30.000000    2019.000000                30.000000       6.000000        2.000000\n",
       "75%         126.000000      58.000000    2019.000000                38.000000      10.000000        3.000000\n",
       "max         882.000000      94.000000    2020.000000                52.000000      17.000000     1819.000000"
      ]
     },
     "execution_count": 132,
     "metadata": {},
     "output_type": "execute_result"
    }
   ],
   "source": [
    "#Y ahora con el de 2019\n",
    "df_respiratorias2019.shape         # Dimensiones (filas, columnas)\n",
    "df_respiratorias2019.columns       # Lista de nombres de columnas\n",
    "df_respiratorias2019.dtypes        # Tipos de datos por columna\n",
    "df_respiratorias2019.info()        # Resumen: tipos de datos, no nulos\n",
    "df_respiratorias2019.describe()    # Estadísticas básicas (solo numéricas)"
   ]
  },
  {
   "cell_type": "markdown",
   "id": "151bf539-456d-45ac-8e38-0e3e1a1192b0",
   "metadata": {},
   "source": [
    "Nos interesa verificar ahora si hay columnas con valores faltantes en los dataset, por lo tanto, verificamos:"
   ]
  },
  {
   "cell_type": "code",
   "execution_count": 133,
   "id": "822901f1-fbc6-4a31-883b-e759623c0ebe",
   "metadata": {},
   "outputs": [
    {
     "data": {
      "text/plain": [
       "departamento_id            0\n",
       "departamento_nombre        0\n",
       "provincia_id               0\n",
       "provincia_nombre           0\n",
       "año                        0\n",
       "semanas_epidemiologicas    0\n",
       "evento_nombre              0\n",
       "grupo_edad_id              0\n",
       "grupo_edad_desc            0\n",
       "cantidad_casos             0\n",
       "dtype: int64"
      ]
     },
     "execution_count": 133,
     "metadata": {},
     "output_type": "execute_result"
    }
   ],
   "source": [
    "df_respiratorias2022_2023.isnull().sum() "
   ]
  },
  {
   "cell_type": "code",
   "execution_count": 134,
   "id": "28ae245c-2834-4733-8b2e-66529e327db9",
   "metadata": {},
   "outputs": [
    {
     "data": {
      "text/plain": [
       "departamento_id            0\n",
       "departamento_nombre        0\n",
       "provincia_id               0\n",
       "provincia_nombre           0\n",
       "año                        0\n",
       "semanas_epidemiologicas    0\n",
       "evento_nombre              0\n",
       "grupo_edad_id              0\n",
       "grupo_edad_desc            0\n",
       "cantidad_casos             0\n",
       "dtype: int64"
      ]
     },
     "execution_count": 134,
     "metadata": {},
     "output_type": "execute_result"
    }
   ],
   "source": [
    "df_respiratorias2020_2021.isnull().sum() "
   ]
  },
  {
   "cell_type": "code",
   "execution_count": 135,
   "id": "d7b1e7a7-993b-4aef-a071-5da7c37a5191",
   "metadata": {},
   "outputs": [
    {
     "data": {
      "text/plain": [
       "departamento_id            0\n",
       "departamento_nombre        0\n",
       "provincia_id               0\n",
       "provincia_nombre           0\n",
       "anio                       0\n",
       "semanas_epidemiologicas    0\n",
       "evento_nombre              0\n",
       "grupo_edad_id              0\n",
       "grupo_edad_desc            0\n",
       "cantidad_casos             0\n",
       "dtype: int64"
      ]
     },
     "execution_count": 135,
     "metadata": {},
     "output_type": "execute_result"
    }
   ],
   "source": [
    "df_respiratorias2019.isnull().sum() "
   ]
  },
  {
   "cell_type": "markdown",
   "id": "83dcfad9-998b-4932-9daa-2ddc1ac1d6ce",
   "metadata": {},
   "source": [
    "Ahora, nos interesa saber cual es la cantidad de valores UNICOS por cada columna"
   ]
  },
  {
   "cell_type": "code",
   "execution_count": 136,
   "id": "1dbf924c-34e6-4ec5-9124-ca43306567e0",
   "metadata": {},
   "outputs": [
    {
     "data": {
      "text/plain": [
       "departamento_id            142\n",
       "departamento_nombre        414\n",
       "provincia_id                24\n",
       "provincia_nombre            24\n",
       "año                          3\n",
       "semanas_epidemiologicas     52\n",
       "evento_nombre                7\n",
       "grupo_edad_id               14\n",
       "grupo_edad_desc             14\n",
       "cantidad_casos             306\n",
       "dtype: int64"
      ]
     },
     "execution_count": 136,
     "metadata": {},
     "output_type": "execute_result"
    }
   ],
   "source": [
    "df_respiratorias2022_2023.nunique()"
   ]
  },
  {
   "cell_type": "code",
   "execution_count": 137,
   "id": "a4c3ffa7-cb6c-4bf8-aabd-e18c6e027b15",
   "metadata": {},
   "outputs": [
    {
     "data": {
      "text/plain": [
       "departamento_id            137\n",
       "departamento_nombre        412\n",
       "provincia_id                24\n",
       "provincia_nombre            24\n",
       "año                          3\n",
       "semanas_epidemiologicas     53\n",
       "evento_nombre                5\n",
       "grupo_edad_id               14\n",
       "grupo_edad_desc             14\n",
       "cantidad_casos             180\n",
       "dtype: int64"
      ]
     },
     "execution_count": 137,
     "metadata": {},
     "output_type": "execute_result"
    }
   ],
   "source": [
    "df_respiratorias2020_2021.nunique() "
   ]
  },
  {
   "cell_type": "code",
   "execution_count": 138,
   "id": "f298e17a-7fcc-4d91-9d5b-a64602f709a8",
   "metadata": {},
   "outputs": [
    {
     "data": {
      "text/plain": [
       "departamento_id            128\n",
       "departamento_nombre        398\n",
       "provincia_id                24\n",
       "provincia_nombre            24\n",
       "anio                         3\n",
       "semanas_epidemiologicas     52\n",
       "evento_nombre                3\n",
       "grupo_edad_id               14\n",
       "grupo_edad_desc             14\n",
       "cantidad_casos             174\n",
       "dtype: int64"
      ]
     },
     "execution_count": 138,
     "metadata": {},
     "output_type": "execute_result"
    }
   ],
   "source": [
    "df_respiratorias2019.nunique() "
   ]
  },
  {
   "cell_type": "markdown",
   "id": "0f37a1e3-acda-42e3-925a-4eaef5117929",
   "metadata": {},
   "source": [
    "Podemos observar que en el dataset del 2022-2023 hay 3 valores unicos para el año, cuando solo deberian ser 2 (2022 y 2023 respectivamente), los mismo sucede en los datasets del 2020-2021 y el de 2019"
   ]
  },
  {
   "cell_type": "markdown",
   "id": "90ddefd7-84a8-4abe-9e64-e625084e7cb2",
   "metadata": {},
   "source": [
    "Procedemos a borrar filas que sean de otros años. Es decir, por ejemplo, en el dataset del 2022 al 2023 no deberiamos tener informacion del 2019"
   ]
  },
  {
   "cell_type": "code",
   "execution_count": 139,
   "id": "c8f7cc17-11b4-4a86-a024-bca2cfff7502",
   "metadata": {},
   "outputs": [],
   "source": [
    "df_respiratorias2022_2023 = df_respiratorias2022_2023[(df_respiratorias2022_2023['año'] == 2022) | (df_respiratorias2022_2023['año'] == 2023)]\n",
    "df_respiratorias2020_2021 = df_respiratorias2020_2021[(df_respiratorias2020_2021['año'] == 2020) | (df_respiratorias2020_2021['año'] == 2021)]\n",
    "df_respiratorias2019 = df_respiratorias2019[df_respiratorias2019['anio'] == 2019]"
   ]
  },
  {
   "cell_type": "markdown",
   "id": "67a606a1-3e47-4b51-842f-0f6aa3852bdc",
   "metadata": {},
   "source": [
    "Y volvemos a verficar la cantidad de valores unicos"
   ]
  },
  {
   "cell_type": "code",
   "execution_count": 140,
   "id": "86d88048-cf1b-4c80-b749-cb4a7ed4b77f",
   "metadata": {},
   "outputs": [
    {
     "data": {
      "text/plain": [
       "departamento_id            142\n",
       "departamento_nombre        413\n",
       "provincia_id                24\n",
       "provincia_nombre            24\n",
       "año                          2\n",
       "semanas_epidemiologicas     52\n",
       "evento_nombre                7\n",
       "grupo_edad_id               14\n",
       "grupo_edad_desc             14\n",
       "cantidad_casos             306\n",
       "dtype: int64"
      ]
     },
     "execution_count": 140,
     "metadata": {},
     "output_type": "execute_result"
    }
   ],
   "source": [
    "df_respiratorias2022_2023.nunique() \n",
    "#Observar que ahora la columna año solo tiene 2 valores unicos"
   ]
  },
  {
   "cell_type": "code",
   "execution_count": 141,
   "id": "32eb70f0-d47d-4176-b60d-482247fcd772",
   "metadata": {},
   "outputs": [
    {
     "data": {
      "text/plain": [
       "departamento_id            137\n",
       "departamento_nombre        412\n",
       "provincia_id                24\n",
       "provincia_nombre            24\n",
       "año                          2\n",
       "semanas_epidemiologicas     53\n",
       "evento_nombre                5\n",
       "grupo_edad_id               14\n",
       "grupo_edad_desc             14\n",
       "cantidad_casos             179\n",
       "dtype: int64"
      ]
     },
     "execution_count": 141,
     "metadata": {},
     "output_type": "execute_result"
    }
   ],
   "source": [
    "df_respiratorias2020_2021.nunique()\n",
    "#Observar que ahora la columna año solo tiene 2 valores unicos"
   ]
  },
  {
   "cell_type": "code",
   "execution_count": 142,
   "id": "f909cc52-0c2b-48be-8035-cec684080489",
   "metadata": {},
   "outputs": [
    {
     "data": {
      "text/plain": [
       "departamento_id            126\n",
       "departamento_nombre        394\n",
       "provincia_id                24\n",
       "provincia_nombre            24\n",
       "anio                         1\n",
       "semanas_epidemiologicas     52\n",
       "evento_nombre                3\n",
       "grupo_edad_id               14\n",
       "grupo_edad_desc             14\n",
       "cantidad_casos             158\n",
       "dtype: int64"
      ]
     },
     "execution_count": 142,
     "metadata": {},
     "output_type": "execute_result"
    }
   ],
   "source": [
    "df_respiratorias2019.nunique()\n",
    "#Observar que ahora la columna año solo tiene 1 valor unicos"
   ]
  },
  {
   "cell_type": "markdown",
   "id": "a902debf-c4d6-4f03-b7fe-a2fc52a989ed",
   "metadata": {},
   "source": [
    "Una vez corregido, nos interesa conocer que informacion tiene guardada el dataset <br>\n",
    "Veamos que tipos de enfermedades hay, para eso"
   ]
  },
  {
   "cell_type": "code",
   "execution_count": 143,
   "id": "bc33a30f-1349-440e-ac13-2ae89eae6dfc",
   "metadata": {},
   "outputs": [
    {
     "data": {
      "text/plain": [
       "array(['Neumonía (sin especificar)', 'Enfermedad tipo influenza (ETI)',\n",
       "       'Bronquiolitis en menores de 2 años (sin especificar)',\n",
       "       'Bronquiolitis en menores de 2 años ambulatorios',\n",
       "       'Neumonía en pacientes ambulatorios',\n",
       "       'Neumonía en pacientes internados',\n",
       "       'Bronquiolitis en menores de 2 años internados'], dtype=object)"
      ]
     },
     "execution_count": 143,
     "metadata": {},
     "output_type": "execute_result"
    }
   ],
   "source": [
    "df_respiratorias2022_2023['evento_nombre'].unique()"
   ]
  },
  {
   "cell_type": "code",
   "execution_count": 144,
   "id": "082d9728-bc7b-4ae4-a61d-777089ba7def",
   "metadata": {},
   "outputs": [
    {
     "data": {
      "text/plain": [
       "array(['Bronquiolitis en menores de 2 años (sin especificar)',\n",
       "       'Neumonía (sin especificar)', 'Enfermedad tipo influenza (ETI)',\n",
       "       'Bronquiolitis en menores de 2 años ambulatorios',\n",
       "       'Bronquiolitis en menores de 2 años internados'], dtype=object)"
      ]
     },
     "execution_count": 144,
     "metadata": {},
     "output_type": "execute_result"
    }
   ],
   "source": [
    "df_respiratorias2020_2021['evento_nombre'].unique()"
   ]
  },
  {
   "cell_type": "code",
   "execution_count": 145,
   "id": "7eb1a969-8ea6-4f32-bef3-7943efc2f1df",
   "metadata": {},
   "outputs": [
    {
     "data": {
      "text/plain": [
       "array(['Enfermedad tipo influenza (ETI)', 'Neumonia',\n",
       "       'Bronquiolitis en menores de 2 anos'], dtype=object)"
      ]
     },
     "execution_count": 145,
     "metadata": {},
     "output_type": "execute_result"
    }
   ],
   "source": [
    "df_respiratorias2019['evento_nombre'].unique()"
   ]
  },
  {
   "cell_type": "markdown",
   "id": "da4f4595-2796-4280-9047-aef1c794e951",
   "metadata": {},
   "source": [
    "Borraremos todas las columnas con enfermedades sin especificar"
   ]
  },
  {
   "cell_type": "code",
   "execution_count": 146,
   "id": "f8f56109-aa55-4789-82e4-1a98406cf509",
   "metadata": {},
   "outputs": [],
   "source": [
    "#Para el caso de \"neumonia (sin especificar) en 2022 y 2023\n",
    "df_respiratorias2022_2023 = df_respiratorias2022_2023[df_respiratorias2022_2023['evento_nombre'] != 'Neumonía (sin especificar)']\n",
    "df_respiratorias2020_2021 = df_respiratorias2020_2021[df_respiratorias2020_2021['evento_nombre'] != 'Neumonía (sin especificar)']\n",
    "# Y con 'Bronquiolitis en menores de 2 años (sin especificar)' en 2023\n",
    "df_respiratorias2022_2023 = df_respiratorias2022_2023[df_respiratorias2022_2023['evento_nombre'] != 'Bronquiolitis en menores de 2 años (sin especificar)']\n",
    "df_respiratorias2020_2021 = df_respiratorias2020_2021[df_respiratorias2020_2021['evento_nombre'] != 'Bronquiolitis en menores de 2 años (sin especificar)']\n",
    "# DE 2019 no hay para borrar "
   ]
  },
  {
   "cell_type": "markdown",
   "id": "3f7a4823-d41e-4077-9880-0352315286b4",
   "metadata": {},
   "source": [
    "Y verificamos si hubo un cambio (solo para 2022-2023 y 2020-2021, ya que 2019 queda igual)"
   ]
  },
  {
   "cell_type": "code",
   "execution_count": 147,
   "id": "b6251db6-550d-496b-af39-8d29906db090",
   "metadata": {},
   "outputs": [
    {
     "data": {
      "text/plain": [
       "array(['Enfermedad tipo influenza (ETI)',\n",
       "       'Bronquiolitis en menores de 2 años ambulatorios',\n",
       "       'Neumonía en pacientes ambulatorios',\n",
       "       'Neumonía en pacientes internados',\n",
       "       'Bronquiolitis en menores de 2 años internados'], dtype=object)"
      ]
     },
     "execution_count": 147,
     "metadata": {},
     "output_type": "execute_result"
    }
   ],
   "source": [
    "df_respiratorias2022_2023['evento_nombre'].unique()"
   ]
  },
  {
   "cell_type": "code",
   "execution_count": 148,
   "id": "5a516fad-4526-4ec1-9127-c9732297e3d3",
   "metadata": {},
   "outputs": [
    {
     "data": {
      "text/plain": [
       "array(['Enfermedad tipo influenza (ETI)',\n",
       "       'Bronquiolitis en menores de 2 años ambulatorios',\n",
       "       'Bronquiolitis en menores de 2 años internados'], dtype=object)"
      ]
     },
     "execution_count": 148,
     "metadata": {},
     "output_type": "execute_result"
    }
   ],
   "source": [
    "df_respiratorias2020_2021['evento_nombre'].unique()"
   ]
  },
  {
   "cell_type": "markdown",
   "id": "da70892b-009a-4aca-9f4c-a2403db6db9a",
   "metadata": {},
   "source": [
    "Ahora, veamos los grupos etarios que hay"
   ]
  },
  {
   "cell_type": "code",
   "execution_count": 149,
   "id": "4ab2f469-d73c-4b89-a298-0e562fb0da26",
   "metadata": {},
   "outputs": [
    {
     "data": {
      "text/plain": [
       "array(['45 a 64', '10 a 14', '65 a 74', '35 a 44', '5 a 9', '20 a 24',\n",
       "       '25 a 34', '2 a 4', '15 a 19', '< 6 m', '12 a 23 m', '6 a 11 m',\n",
       "       'Edad Sin Esp.', '>= a 75'], dtype=object)"
      ]
     },
     "execution_count": 149,
     "metadata": {},
     "output_type": "execute_result"
    }
   ],
   "source": [
    "df_respiratorias2022_2023['grupo_edad_desc'].unique()"
   ]
  },
  {
   "cell_type": "code",
   "execution_count": 150,
   "id": "0fe8d273-62b3-47e1-84c6-9bbae326e5f0",
   "metadata": {},
   "outputs": [
    {
     "data": {
      "text/plain": [
       "array(['6 a 11 m', '45 a 64', '2 a 4', '15 a 19', '35 a 44', '65 a 74',\n",
       "       '5 a 9', '25 a 34', '20 a 24', '>= a 75', '< 6 m', '12 a 23 m',\n",
       "       '10 a 14', 'Edad Sin Esp.'], dtype=object)"
      ]
     },
     "execution_count": 150,
     "metadata": {},
     "output_type": "execute_result"
    }
   ],
   "source": [
    "df_respiratorias2020_2021['grupo_edad_desc'].unique()"
   ]
  },
  {
   "cell_type": "code",
   "execution_count": 151,
   "id": "106f334c-b1ae-4fe4-8998-50c39b5a47d1",
   "metadata": {},
   "outputs": [
    {
     "data": {
      "text/plain": [
       "array(['12 a 23 m', '2 a 4', '5 a 9', '10 a 14', '45 a 64', '65 a 74',\n",
       "       '< 6 m', '35 a 44', '6 a 11 m', '25 a 34', 'Edad Sin Esp.',\n",
       "       '>= a 75', '20 a 24', '15 a 19'], dtype=object)"
      ]
     },
     "execution_count": 151,
     "metadata": {},
     "output_type": "execute_result"
    }
   ],
   "source": [
    "df_respiratorias2019['grupo_edad_desc'].unique()"
   ]
  },
  {
   "cell_type": "code",
   "execution_count": 152,
   "id": "5b3104c1-471a-4a09-b46a-4d27ea43fe91",
   "metadata": {},
   "outputs": [],
   "source": [
    "#procederemos a borrar todas las filas con edades sin especificar\n",
    "df_respiratorias2022_2023 = df_respiratorias2022_2023[df_respiratorias2022_2023['grupo_edad_desc'] != 'Edad Sin Esp.']\n",
    "df_respiratorias2020_2021 = df_respiratorias2020_2021[df_respiratorias2020_2021['grupo_edad_desc'] != 'Edad Sin Esp.']\n",
    "df_respiratorias2019 = df_respiratorias2019[df_respiratorias2019['grupo_edad_desc'] != 'Edad Sin Esp.']"
   ]
  },
  {
   "cell_type": "markdown",
   "id": "3c722f61-2445-4058-9154-f872d32ca8e0",
   "metadata": {},
   "source": [
    "Y verificamos si hubo un cambio"
   ]
  },
  {
   "cell_type": "code",
   "execution_count": 153,
   "id": "0c859310-0159-4d9a-9eef-ae7bb2f1a148",
   "metadata": {},
   "outputs": [
    {
     "data": {
      "text/plain": [
       "array(['45 a 64', '10 a 14', '65 a 74', '35 a 44', '5 a 9', '20 a 24',\n",
       "       '25 a 34', '2 a 4', '15 a 19', '< 6 m', '12 a 23 m', '6 a 11 m',\n",
       "       '>= a 75'], dtype=object)"
      ]
     },
     "execution_count": 153,
     "metadata": {},
     "output_type": "execute_result"
    }
   ],
   "source": [
    "df_respiratorias2022_2023['grupo_edad_desc'].unique()"
   ]
  },
  {
   "cell_type": "code",
   "execution_count": 154,
   "id": "262e17a6-ec24-457a-a76f-b4a87ce87eaa",
   "metadata": {},
   "outputs": [
    {
     "data": {
      "text/plain": [
       "array(['6 a 11 m', '45 a 64', '2 a 4', '15 a 19', '35 a 44', '65 a 74',\n",
       "       '5 a 9', '25 a 34', '20 a 24', '>= a 75', '< 6 m', '12 a 23 m',\n",
       "       '10 a 14'], dtype=object)"
      ]
     },
     "execution_count": 154,
     "metadata": {},
     "output_type": "execute_result"
    }
   ],
   "source": [
    "df_respiratorias2020_2021['grupo_edad_desc'].unique()"
   ]
  },
  {
   "cell_type": "code",
   "execution_count": 155,
   "id": "6e8fdbaf-bb24-4bb6-92f3-82ada018f221",
   "metadata": {},
   "outputs": [
    {
     "data": {
      "text/plain": [
       "array(['12 a 23 m', '2 a 4', '5 a 9', '10 a 14', '45 a 64', '65 a 74',\n",
       "       '< 6 m', '35 a 44', '6 a 11 m', '25 a 34', '>= a 75', '20 a 24',\n",
       "       '15 a 19'], dtype=object)"
      ]
     },
     "execution_count": 155,
     "metadata": {},
     "output_type": "execute_result"
    }
   ],
   "source": [
    "df_respiratorias2019['grupo_edad_desc'].unique()"
   ]
  },
  {
   "cell_type": "markdown",
   "id": "f334fbb4-12d5-4b40-b600-d3b386b9b0c5",
   "metadata": {},
   "source": [
    "Nos interesa saber ahora si todas los datasets poseen las mismas columnas, asi que comparamos"
   ]
  },
  {
   "cell_type": "code",
   "execution_count": 156,
   "id": "bd87794a-ac68-49a9-a871-2f74ef4f7154",
   "metadata": {},
   "outputs": [
    {
     "data": {
      "text/plain": [
       "Index(['departamento_id', 'departamento_nombre', 'provincia_id',\n",
       "       'provincia_nombre', 'año', 'semanas_epidemiologicas', 'evento_nombre',\n",
       "       'grupo_edad_id', 'grupo_edad_desc', 'cantidad_casos'],\n",
       "      dtype='object')"
      ]
     },
     "execution_count": 156,
     "metadata": {},
     "output_type": "execute_result"
    }
   ],
   "source": [
    "df_respiratorias2022_2023.columns"
   ]
  },
  {
   "cell_type": "code",
   "execution_count": 157,
   "id": "61c5cbd6-6ada-4838-b43c-334d590192a9",
   "metadata": {},
   "outputs": [
    {
     "data": {
      "text/plain": [
       "Index(['departamento_id', 'departamento_nombre', 'provincia_id',\n",
       "       'provincia_nombre', 'año', 'semanas_epidemiologicas', 'evento_nombre',\n",
       "       'grupo_edad_id', 'grupo_edad_desc', 'cantidad_casos'],\n",
       "      dtype='object')"
      ]
     },
     "execution_count": 157,
     "metadata": {},
     "output_type": "execute_result"
    }
   ],
   "source": [
    "df_respiratorias2020_2021.columns"
   ]
  },
  {
   "cell_type": "code",
   "execution_count": 158,
   "id": "00bdd24a-a753-420e-a3be-37871f9d8349",
   "metadata": {},
   "outputs": [
    {
     "data": {
      "text/plain": [
       "Index(['departamento_id', 'departamento_nombre', 'provincia_id',\n",
       "       'provincia_nombre', 'anio', 'semanas_epidemiologicas', 'evento_nombre',\n",
       "       'grupo_edad_id', 'grupo_edad_desc', 'cantidad_casos'],\n",
       "      dtype='object')"
      ]
     },
     "execution_count": 158,
     "metadata": {},
     "output_type": "execute_result"
    }
   ],
   "source": [
    "df_respiratorias2019.columns"
   ]
  },
  {
   "cell_type": "markdown",
   "id": "64e71754-a529-4223-9876-ff2fd96a43d8",
   "metadata": {},
   "source": [
    "### Ponemos a los dataset en el mismo formato."
   ]
  },
  {
   "cell_type": "markdown",
   "id": "2b22a89f-bd8e-4f1d-abf3-63ecbc37ae90",
   "metadata": {},
   "source": [
    "Dado que haremos lo mismo para los tres datasets, explicaremos brevemente lo que se hará:\n",
    "\n",
    "1. Modificaremos la columna 'departamento_nombre' para que tenga el formato de: DEPARTAMENTO_Provincia\n",
    "    (Por ejemplo, CONFLUENCIA_Neuquén)\n",
    "\n",
    "2. Luego, el alcance de este trabajo abarca unicamente a las provincias de:\n",
    "- Buenos Aires\n",
    "- Neuquén\n",
    "- Córdoba\n",
    "- Tucumán, y\n",
    "- Misiones <br>\n",
    "Por lo tanto, borraremos todas las filas que no correspondan a esas provincias\n",
    "\n",
    "3. Renombraremos la columna 'departamento_nombre' a 'Departamento'\n",
    "   \n",
    "4. Borraremos aquellas columnas que no aportan información útil ya que corresponden a identificadores"
   ]
  },
  {
   "cell_type": "markdown",
   "id": "09065fd9-5bdf-4fa7-a829-ce3f6d1df679",
   "metadata": {},
   "source": [
    "### Dataset 2022_2023"
   ]
  },
  {
   "cell_type": "code",
   "execution_count": 159,
   "id": "6e597068-758b-4c7a-bbee-09f67189ff7b",
   "metadata": {},
   "outputs": [
    {
     "data": {
      "text/html": [
       "<div>\n",
       "<style scoped>\n",
       "    .dataframe tbody tr th:only-of-type {\n",
       "        vertical-align: middle;\n",
       "    }\n",
       "\n",
       "    .dataframe tbody tr th {\n",
       "        vertical-align: top;\n",
       "    }\n",
       "\n",
       "    .dataframe thead th {\n",
       "        text-align: right;\n",
       "    }\n",
       "</style>\n",
       "<table border=\"1\" class=\"dataframe\">\n",
       "  <thead>\n",
       "    <tr style=\"text-align: right;\">\n",
       "      <th></th>\n",
       "      <th>departamento_id</th>\n",
       "      <th>departamento_nombre</th>\n",
       "      <th>provincia_id</th>\n",
       "      <th>provincia_nombre</th>\n",
       "      <th>año</th>\n",
       "      <th>semanas_epidemiologicas</th>\n",
       "      <th>evento_nombre</th>\n",
       "      <th>grupo_edad_id</th>\n",
       "      <th>grupo_edad_desc</th>\n",
       "      <th>cantidad_casos</th>\n",
       "    </tr>\n",
       "  </thead>\n",
       "  <tbody>\n",
       "    <tr>\n",
       "      <th>1</th>\n",
       "      <td>1</td>\n",
       "      <td>COMUNA 1_CABA</td>\n",
       "      <td>2</td>\n",
       "      <td>CABA</td>\n",
       "      <td>2022</td>\n",
       "      <td>10</td>\n",
       "      <td>Enfermedad tipo influenza (ETI)</td>\n",
       "      <td>11</td>\n",
       "      <td>45 a 64</td>\n",
       "      <td>1</td>\n",
       "    </tr>\n",
       "    <tr>\n",
       "      <th>3</th>\n",
       "      <td>1</td>\n",
       "      <td>COMUNA 1_CABA</td>\n",
       "      <td>2</td>\n",
       "      <td>CABA</td>\n",
       "      <td>2022</td>\n",
       "      <td>11</td>\n",
       "      <td>Enfermedad tipo influenza (ETI)</td>\n",
       "      <td>6</td>\n",
       "      <td>10 a 14</td>\n",
       "      <td>1</td>\n",
       "    </tr>\n",
       "    <tr>\n",
       "      <th>8</th>\n",
       "      <td>1</td>\n",
       "      <td>COMUNA 1_CABA</td>\n",
       "      <td>2</td>\n",
       "      <td>CABA</td>\n",
       "      <td>2022</td>\n",
       "      <td>25</td>\n",
       "      <td>Enfermedad tipo influenza (ETI)</td>\n",
       "      <td>12</td>\n",
       "      <td>65 a 74</td>\n",
       "      <td>1</td>\n",
       "    </tr>\n",
       "    <tr>\n",
       "      <th>11</th>\n",
       "      <td>1</td>\n",
       "      <td>COMUNA 1_CABA</td>\n",
       "      <td>2</td>\n",
       "      <td>CABA</td>\n",
       "      <td>2022</td>\n",
       "      <td>40</td>\n",
       "      <td>Enfermedad tipo influenza (ETI)</td>\n",
       "      <td>6</td>\n",
       "      <td>10 a 14</td>\n",
       "      <td>2</td>\n",
       "    </tr>\n",
       "    <tr>\n",
       "      <th>12</th>\n",
       "      <td>1</td>\n",
       "      <td>COMUNA 1_CABA</td>\n",
       "      <td>2</td>\n",
       "      <td>CABA</td>\n",
       "      <td>2022</td>\n",
       "      <td>41</td>\n",
       "      <td>Enfermedad tipo influenza (ETI)</td>\n",
       "      <td>10</td>\n",
       "      <td>35 a 44</td>\n",
       "      <td>1</td>\n",
       "    </tr>\n",
       "  </tbody>\n",
       "</table>\n",
       "</div>"
      ],
      "text/plain": [
       "    departamento_id departamento_nombre  provincia_id provincia_nombre   año  semanas_epidemiologicas                    evento_nombre  grupo_edad_id grupo_edad_desc  cantidad_casos\n",
       "1                 1       COMUNA 1_CABA             2             CABA  2022                       10  Enfermedad tipo influenza (ETI)             11         45 a 64               1\n",
       "3                 1       COMUNA 1_CABA             2             CABA  2022                       11  Enfermedad tipo influenza (ETI)              6         10 a 14               1\n",
       "8                 1       COMUNA 1_CABA             2             CABA  2022                       25  Enfermedad tipo influenza (ETI)             12         65 a 74               1\n",
       "11                1       COMUNA 1_CABA             2             CABA  2022                       40  Enfermedad tipo influenza (ETI)              6         10 a 14               2\n",
       "12                1       COMUNA 1_CABA             2             CABA  2022                       41  Enfermedad tipo influenza (ETI)             10         35 a 44               1"
      ]
     },
     "execution_count": 159,
     "metadata": {},
     "output_type": "execute_result"
    }
   ],
   "source": [
    "#Ponemos el formato de DEPARTAMENTO_Provincia\n",
    "\n",
    "df_respiratorias2022_2023['departamento_nombre'] = df_respiratorias2022_2023['departamento_nombre'] + '_' + df_respiratorias2022_2023['provincia_nombre']\n",
    "\n",
    "#Mostramos como quedaron las filas\n",
    "df_respiratorias2022_2023.head()"
   ]
  },
  {
   "cell_type": "code",
   "execution_count": 160,
   "id": "4d5a21de-1f32-4a37-82ab-ebed201b498d",
   "metadata": {},
   "outputs": [],
   "source": [
    "#Eliminamos las filas donde la provincia no sea una de las que te interesan:\n",
    "provincias_deseadas = ['Buenos Aires', 'Neuquén', 'Tucumán', 'Córdoba', 'Misiones']\n",
    "df_respiratorias2022_2023 = df_respiratorias2022_2023[df_respiratorias2022_2023['provincia_nombre'].isin(provincias_deseadas)].copy()"
   ]
  },
  {
   "cell_type": "code",
   "execution_count": 161,
   "id": "acb5da2c-a392-4008-aab1-55888231c23e",
   "metadata": {},
   "outputs": [
    {
     "data": {
      "text/plain": [
       "array(['ADOLFO ALSINA_Buenos Aires', 'ALUMINÉ_Neuquén',\n",
       "       'APÓSTOLES_Misiones', 'BURRUYACÚ_Tucumán', 'CALAMUCHITA_Córdoba',\n",
       "       'ADOLFO GONZALES CHAVES_Buenos Aires', 'AÑELO_Neuquén',\n",
       "       'CAINGUÁS_Misiones', 'CAPITAL_Córdoba', 'CRUZ ALTA_Tucumán',\n",
       "       'ALBERTI_Buenos Aires', 'CANDELARIA_Misiones', 'CATÁN LIL_Neuquén',\n",
       "       'CHICLIGASTA_Tucumán', 'COLÓN_Córdoba',\n",
       "       'ALMIRANTE BROWN_Buenos Aires', 'CAPITAL_Misiones',\n",
       "       'COLLÓN CURÁ_Neuquén', 'CRUZ DEL EJE_Córdoba', 'FAMAILLÁ_Tucumán',\n",
       "       'AVELLANEDA_Buenos Aires', 'CONCEPCIÓN _Misiones',\n",
       "       'CONFLUENCIA_Neuquén', 'GENERAL ROCA_Córdoba', 'GRANEROS_Tucumán',\n",
       "       'AYACUCHO_Buenos Aires', 'CHOS MALAL_Neuquén', 'ELDORADO_Misiones',\n",
       "       'GENERAL SAN MARTÍN_Córdoba', 'JUAN BAUTISTA ALBERDI_Tucumán',\n",
       "       'AZUL_Buenos Aires', 'GENERAL MANUEL BELGRANO_Misiones',\n",
       "       'HUILICHES_Neuquén', 'ISCHILÍN_Córdoba', 'LA COCHA_Tucumán',\n",
       "       'BAHÍA BLANCA_Buenos Aires', 'GUARANÍ_Misiones',\n",
       "       'JUÁREZ CELMAN_Córdoba', 'LÁCAR_Neuquén', 'LEALES_Tucumán',\n",
       "       'BALCARCE_Buenos Aires', 'IGUAZÚ_Misiones', 'QUILMES_Buenos Aires',\n",
       "       'LONCOPUÉ_Neuquén', 'LULES_Tucumán', 'MARCOS JUÁREZ_Córdoba',\n",
       "       'LEANDRO N. ALEM_Misiones', 'LOS LAGOS_Neuquén', 'MINAS_Córdoba',\n",
       "       'MONTEROS_Tucumán', 'ARRECIFES_Buenos Aires',\n",
       "       'LIBERTADOR GRL. SAN MARTÍN_Misiones', 'MINAS_Neuquén',\n",
       "       'POCHO_Córdoba', 'RÍO CHICO_Tucumán', 'BENITO JUÁREZ_Buenos Aires',\n",
       "       'CAPITAL_Tucumán', 'MONTECARLO_Misiones', 'ÑORQUÍN_Neuquén',\n",
       "       'PRESIDENTE ROQUE SÁENZ PEÑA_Córdoba', 'BERAZATEGUI_Buenos Aires',\n",
       "       'OBERÁ_Misiones', 'PEHUENCHES_Neuquén', 'PUNILLA_Córdoba',\n",
       "       'SIMOCA_Tucumán', 'BERISSO_Buenos Aires', 'PICÚN LEUFÚ_Neuquén',\n",
       "       'RÍO CUARTO_Córdoba', 'SAN IGNACIO_Misiones',\n",
       "       'TAFÍ DEL VALLE_Tucumán', 'BOLÍVAR_Buenos Aires',\n",
       "       'PICUNCHES_Neuquén', 'RÍO PRIMERO_Córdoba', 'SAN JAVIER_Misiones',\n",
       "       'TAFÍ VIEJO_Tucumán', 'BRAGADO_Buenos Aires', 'SAN PEDRO_Misiones',\n",
       "       'TRANCAS_Tucumán', 'ZAPALA _Neuquén', '25 DE MAYO_Misiones',\n",
       "       'RÍO SEGUNDO_Córdoba', 'YERBA BUENA_Tucumán',\n",
       "       'CAMPANA_Buenos Aires', 'SAN ALBERTO_Córdoba',\n",
       "       'SAN JAVIER_Córdoba', 'CAÑUELAS_Buenos Aires', 'SAN JUSTO_Córdoba',\n",
       "       'CARLOS CASARES_Buenos Aires', 'SANTA MARÍA_Córdoba',\n",
       "       'CARLOS TEJEDOR_Buenos Aires', 'SOBREMONTE_Córdoba',\n",
       "       'CARMEN DE ARECO_Buenos Aires', 'TERCERO ARRIBA_Córdoba',\n",
       "       'CASTELLI_Buenos Aires', 'TOTORAL_Córdoba', 'COLÓN_Buenos Aires',\n",
       "       'TULUMBA_Córdoba', 'CORONEL DE MARINA L. ROSALES_Buenos Aires',\n",
       "       'UNIÓN_Córdoba', 'CORONEL DORREGO_Buenos Aires',\n",
       "       'CORONEL PRINGLES_Buenos Aires', 'CORONEL SUÁREZ_Buenos Aires',\n",
       "       'CHACABUCO_Buenos Aires', 'CHASCOMÚS_Buenos Aires',\n",
       "       'CHIVILCOY_Buenos Aires', 'DAIREAUX_Buenos Aires',\n",
       "       'DOLORES_Buenos Aires', 'ENSENADA_Buenos Aires',\n",
       "       'ESCOBAR_Buenos Aires', 'ESTEBAN ECHEVERRÍA_Buenos Aires',\n",
       "       'EXALTACIÓN DE LA CRUZ_Buenos Aires', 'EZEIZA_Buenos Aires',\n",
       "       'FLORENCIO VARELA_Buenos Aires',\n",
       "       'FLORENTINO AMEGHINO_Buenos Aires',\n",
       "       'GENERAL ALVARADO_Buenos Aires', 'GENERAL ARENALES_Buenos Aires',\n",
       "       'GENERAL BELGRANO_Buenos Aires', 'GENERAL GUIDO_Buenos Aires',\n",
       "       'GENERAL JUAN MADARIAGA_Buenos Aires',\n",
       "       'GENERAL LA MADRID_Buenos Aires', 'GENERAL LAS HERAS_Buenos Aires',\n",
       "       'GENERAL LAVALLE_Buenos Aires', 'GENERAL PINTO_Buenos Aires',\n",
       "       'GENERAL PUEYRREDÓN_Buenos Aires',\n",
       "       'GENERAL RODRÍGUEZ_Buenos Aires',\n",
       "       'GENERAL SAN MARTÍN_Buenos Aires', 'GENERAL VIAMONTE_Buenos Aires',\n",
       "       'GENERAL VILLEGAS_Buenos Aires', 'GUAMINÍ_Buenos Aires',\n",
       "       'HIPÓLITO YRIGOYEN_Buenos Aires', 'HURLINGHAM_Buenos Aires',\n",
       "       'ITUZAINGÓ_Buenos Aires', 'JOSÉ C. PAZ_Buenos Aires',\n",
       "       'JUNÍN_Buenos Aires', 'LA COSTA_Buenos Aires',\n",
       "       'LA MATANZA_Buenos Aires', 'LANÚS_Buenos Aires',\n",
       "       'LA PLATA_Buenos Aires', 'LAPRIDA_Buenos Aires',\n",
       "       'LAS FLORES_Buenos Aires', 'LEANDRO N. ALEM_Buenos Aires',\n",
       "       'LINCOLN_Buenos Aires', 'LOBERÍA_Buenos Aires',\n",
       "       'LOBOS_Buenos Aires', 'LOMAS DE ZAMORA_Buenos Aires',\n",
       "       'LUJÁN_Buenos Aires', 'MAGDALENA_Buenos Aires',\n",
       "       'MAIPÚ_Buenos Aires', 'MALVINAS ARGENTINAS_Buenos Aires',\n",
       "       'MARCOS PAZ_Buenos Aires', 'MERCEDES_Buenos Aires',\n",
       "       'MERLO_Buenos Aires', 'MONTE_Buenos Aires',\n",
       "       'MONTE HERMOSO_Buenos Aires', 'MORENO_Buenos Aires',\n",
       "       'MORÓN_Buenos Aires', 'NAVARRO_Buenos Aires',\n",
       "       'NECOCHEA_Buenos Aires', '9 DE JULIO_Buenos Aires',\n",
       "       'OLAVARRÍA_Buenos Aires', 'PATAGONES_Buenos Aires',\n",
       "       'PEHUAJÓ_Buenos Aires', 'PELLEGRINI_Buenos Aires',\n",
       "       'PERGAMINO_Buenos Aires', 'PILAR_Buenos Aires',\n",
       "       'PINAMAR _Buenos Aires', 'PRESIDENTE PERÓN_Buenos Aires',\n",
       "       'PUÁN_Buenos Aires', 'PUNTA INDIO_Buenos Aires',\n",
       "       'RAMALLO_Buenos Aires', 'RAUCH_Buenos Aires',\n",
       "       'RIVADAVIA_Buenos Aires', 'ROQUE PÉREZ_Buenos Aires',\n",
       "       'SAAVEDRA_Buenos Aires', 'SALADILLO_Buenos Aires',\n",
       "       'SALLIQUELÓ_Buenos Aires', 'SAN ANDRÉS DE GILES_Buenos Aires',\n",
       "       'SAN ANTONIO DE ARECO_Buenos Aires', 'SAN FERNANDO_Buenos Aires',\n",
       "       'SAN ISIDRO_Buenos Aires', 'SAN MIGUEL_Buenos Aires',\n",
       "       'SAN NICOLÁS_Buenos Aires', 'SAN VICENTE_Buenos Aires',\n",
       "       'SUIPACHA_Buenos Aires', 'TANDIL_Buenos Aires',\n",
       "       'TAPALQUÉ_Buenos Aires', 'TIGRE_Buenos Aires',\n",
       "       'TRENQUE LAUQUEN_Buenos Aires', 'TRES ARROYOS_Buenos Aires',\n",
       "       'TRES DE FEBRERO_Buenos Aires', 'TRES LOMAS _Buenos Aires',\n",
       "       '25 DE MAYO_Buenos Aires', 'VICENTE LÓPEZ_Buenos Aires',\n",
       "       'ZÁRATE _Buenos Aires', 'TORNQUIST_Buenos Aires'], dtype=object)"
      ]
     },
     "execution_count": 161,
     "metadata": {},
     "output_type": "execute_result"
    }
   ],
   "source": [
    "#Renombramos de 'departamento_nombre' a 'Departamento'\n",
    "df_respiratorias2022_2023 = df_respiratorias2022_2023.rename(columns={'departamento_nombre': 'Departamento'})\n",
    "#Volvemos a ver como quedo el dataset\n",
    "df_respiratorias2022_2023.columns\n",
    "df_respiratorias2022_2023['Departamento'].unique()"
   ]
  },
  {
   "cell_type": "code",
   "execution_count": 162,
   "id": "3b06ed3e-5c20-48bc-8166-bef8af70e70b",
   "metadata": {},
   "outputs": [
    {
     "data": {
      "text/plain": [
       "Index(['Departamento', 'año', 'semanas_epidemiologicas', 'evento_nombre',\n",
       "       'grupo_edad_id', 'grupo_edad_desc', 'cantidad_casos'],\n",
       "      dtype='object')"
      ]
     },
     "execution_count": 162,
     "metadata": {},
     "output_type": "execute_result"
    }
   ],
   "source": [
    "#Vamos a borrar las columnas que no nos interesan en 2022-2023\n",
    "df_respiratorias2022_2023 = df_respiratorias2022_2023.drop(['departamento_id', 'provincia_id', 'provincia_nombre'], axis=1)\n",
    "#Volvemos a ver como quedo el dataset\n",
    "df_respiratorias2022_2023.columns"
   ]
  },
  {
   "cell_type": "markdown",
   "id": "56968ad7-7ac1-417c-a59d-53a58a46748d",
   "metadata": {},
   "source": [
    "### Dataset 2020_2021"
   ]
  },
  {
   "cell_type": "code",
   "execution_count": 163,
   "id": "4a2d1887-3060-4519-b9de-8743768fd005",
   "metadata": {},
   "outputs": [
    {
     "data": {
      "text/html": [
       "<div>\n",
       "<style scoped>\n",
       "    .dataframe tbody tr th:only-of-type {\n",
       "        vertical-align: middle;\n",
       "    }\n",
       "\n",
       "    .dataframe tbody tr th {\n",
       "        vertical-align: top;\n",
       "    }\n",
       "\n",
       "    .dataframe thead th {\n",
       "        text-align: right;\n",
       "    }\n",
       "</style>\n",
       "<table border=\"1\" class=\"dataframe\">\n",
       "  <thead>\n",
       "    <tr style=\"text-align: right;\">\n",
       "      <th></th>\n",
       "      <th>departamento_id</th>\n",
       "      <th>departamento_nombre</th>\n",
       "      <th>provincia_id</th>\n",
       "      <th>provincia_nombre</th>\n",
       "      <th>año</th>\n",
       "      <th>semanas_epidemiologicas</th>\n",
       "      <th>evento_nombre</th>\n",
       "      <th>grupo_edad_id</th>\n",
       "      <th>grupo_edad_desc</th>\n",
       "      <th>cantidad_casos</th>\n",
       "    </tr>\n",
       "  </thead>\n",
       "  <tbody>\n",
       "    <tr>\n",
       "      <th>6</th>\n",
       "      <td>1</td>\n",
       "      <td>COMUNA 1_CABA</td>\n",
       "      <td>2</td>\n",
       "      <td>CABA</td>\n",
       "      <td>2020</td>\n",
       "      <td>2</td>\n",
       "      <td>Enfermedad tipo influenza (ETI)</td>\n",
       "      <td>2</td>\n",
       "      <td>6 a 11 m</td>\n",
       "      <td>1</td>\n",
       "    </tr>\n",
       "    <tr>\n",
       "      <th>9</th>\n",
       "      <td>1</td>\n",
       "      <td>COMUNA 1_CABA</td>\n",
       "      <td>2</td>\n",
       "      <td>CABA</td>\n",
       "      <td>2020</td>\n",
       "      <td>3</td>\n",
       "      <td>Enfermedad tipo influenza (ETI)</td>\n",
       "      <td>11</td>\n",
       "      <td>45 a 64</td>\n",
       "      <td>1</td>\n",
       "    </tr>\n",
       "    <tr>\n",
       "      <th>10</th>\n",
       "      <td>1</td>\n",
       "      <td>COMUNA 1_CABA</td>\n",
       "      <td>2</td>\n",
       "      <td>CABA</td>\n",
       "      <td>2020</td>\n",
       "      <td>3</td>\n",
       "      <td>Enfermedad tipo influenza (ETI)</td>\n",
       "      <td>4</td>\n",
       "      <td>2 a 4</td>\n",
       "      <td>1</td>\n",
       "    </tr>\n",
       "    <tr>\n",
       "      <th>16</th>\n",
       "      <td>1</td>\n",
       "      <td>COMUNA 1_CABA</td>\n",
       "      <td>2</td>\n",
       "      <td>CABA</td>\n",
       "      <td>2020</td>\n",
       "      <td>4</td>\n",
       "      <td>Enfermedad tipo influenza (ETI)</td>\n",
       "      <td>7</td>\n",
       "      <td>15 a 19</td>\n",
       "      <td>1</td>\n",
       "    </tr>\n",
       "    <tr>\n",
       "      <th>22</th>\n",
       "      <td>1</td>\n",
       "      <td>COMUNA 1_CABA</td>\n",
       "      <td>2</td>\n",
       "      <td>CABA</td>\n",
       "      <td>2020</td>\n",
       "      <td>5</td>\n",
       "      <td>Enfermedad tipo influenza (ETI)</td>\n",
       "      <td>10</td>\n",
       "      <td>35 a 44</td>\n",
       "      <td>1</td>\n",
       "    </tr>\n",
       "  </tbody>\n",
       "</table>\n",
       "</div>"
      ],
      "text/plain": [
       "    departamento_id departamento_nombre  provincia_id provincia_nombre   año  semanas_epidemiologicas                    evento_nombre  grupo_edad_id grupo_edad_desc  cantidad_casos\n",
       "6                 1       COMUNA 1_CABA             2             CABA  2020                        2  Enfermedad tipo influenza (ETI)              2        6 a 11 m               1\n",
       "9                 1       COMUNA 1_CABA             2             CABA  2020                        3  Enfermedad tipo influenza (ETI)             11         45 a 64               1\n",
       "10                1       COMUNA 1_CABA             2             CABA  2020                        3  Enfermedad tipo influenza (ETI)              4           2 a 4               1\n",
       "16                1       COMUNA 1_CABA             2             CABA  2020                        4  Enfermedad tipo influenza (ETI)              7         15 a 19               1\n",
       "22                1       COMUNA 1_CABA             2             CABA  2020                        5  Enfermedad tipo influenza (ETI)             10         35 a 44               1"
      ]
     },
     "execution_count": 163,
     "metadata": {},
     "output_type": "execute_result"
    }
   ],
   "source": [
    "#Ponemos el formato de DEPARTAMENTO_Provincia\n",
    "df_respiratorias2020_2021['departamento_nombre'] = df_respiratorias2020_2021['departamento_nombre'] + '_' + df_respiratorias2020_2021['provincia_nombre']\n",
    "\n",
    "#Mostramos como quedaron las filas\n",
    "df_respiratorias2020_2021.head()"
   ]
  },
  {
   "cell_type": "code",
   "execution_count": 164,
   "id": "2d9c3130-7dd9-4647-a0c2-fe4fa01b689c",
   "metadata": {},
   "outputs": [],
   "source": [
    "#Eliminamos las filas donde la provincia no sea una de las que te interesan:\n",
    "df_respiratorias2020_2021 = df_respiratorias2020_2021[df_respiratorias2020_2021['provincia_nombre'].isin(provincias_deseadas)].copy()"
   ]
  },
  {
   "cell_type": "code",
   "execution_count": 165,
   "id": "e96992e2-7579-4446-bec8-7774419d4ccf",
   "metadata": {},
   "outputs": [
    {
     "data": {
      "text/plain": [
       "array(['ADOLFO ALSINA_Buenos Aires', 'ALUMINÉ_Neuquén',\n",
       "       'APÓSTOLES_Misiones', 'BURRUYACÚ_Tucumán', 'CALAMUCHITA_Córdoba',\n",
       "       'ADOLFO GONZALES CHAVES_Buenos Aires', 'AÑELO_Neuquén',\n",
       "       'CAINGUÁS_Misiones', 'CAPITAL_Córdoba', 'CRUZ ALTA_Tucumán',\n",
       "       'CANDELARIA_Misiones', 'CATÁN LIL_Neuquén', 'CHICLIGASTA_Tucumán',\n",
       "       'COLÓN_Córdoba', 'ALMIRANTE BROWN_Buenos Aires',\n",
       "       'CAPITAL_Misiones', 'COLLÓN CURÁ_Neuquén', 'CRUZ DEL EJE_Córdoba',\n",
       "       'FAMAILLÁ_Tucumán', 'AVELLANEDA_Buenos Aires',\n",
       "       'CONCEPCIÓN _Misiones', 'CONFLUENCIA_Neuquén',\n",
       "       'GENERAL ROCA_Córdoba', 'GRANEROS_Tucumán',\n",
       "       'AYACUCHO_Buenos Aires', 'CHOS MALAL_Neuquén', 'ELDORADO_Misiones',\n",
       "       'GENERAL SAN MARTÍN_Córdoba', 'JUAN BAUTISTA ALBERDI_Tucumán',\n",
       "       'AZUL_Buenos Aires', 'GENERAL MANUEL BELGRANO_Misiones',\n",
       "       'HUILICHES_Neuquén', 'ISCHILÍN_Córdoba', 'LA COCHA_Tucumán',\n",
       "       'BAHÍA BLANCA_Buenos Aires', 'GUARANÍ_Misiones',\n",
       "       'JUÁREZ CELMAN_Córdoba', 'LÁCAR_Neuquén', 'LEALES_Tucumán',\n",
       "       'BALCARCE_Buenos Aires', 'IGUAZÚ_Misiones', 'LONCOPUÉ_Neuquén',\n",
       "       'LULES_Tucumán', 'MARCOS JUÁREZ_Córdoba',\n",
       "       'LEANDRO N. ALEM_Misiones', 'LOS LAGOS_Neuquén', 'MINAS_Córdoba',\n",
       "       'MONTEROS_Tucumán', 'ARRECIFES_Buenos Aires',\n",
       "       'LIBERTADOR GRL. SAN MARTÍN_Misiones', 'MINAS_Neuquén',\n",
       "       'POCHO_Córdoba', 'RÍO CHICO_Tucumán', 'BENITO JUÁREZ_Buenos Aires',\n",
       "       'CAPITAL_Tucumán', 'MONTECARLO_Misiones', 'ÑORQUÍN_Neuquén',\n",
       "       'PRESIDENTE ROQUE SÁENZ PEÑA_Córdoba', 'BERAZATEGUI_Buenos Aires',\n",
       "       'OBERÁ_Misiones', 'PEHUENCHES_Neuquén', 'PUNILLA_Córdoba',\n",
       "       'SIMOCA_Tucumán', 'BERISSO_Buenos Aires', 'PICÚN LEUFÚ_Neuquén',\n",
       "       'RÍO CUARTO_Córdoba', 'SAN IGNACIO_Misiones',\n",
       "       'TAFÍ DEL VALLE_Tucumán', 'BOLÍVAR_Buenos Aires',\n",
       "       'PICUNCHES_Neuquén', 'RÍO PRIMERO_Córdoba', 'SAN JAVIER_Misiones',\n",
       "       'TAFÍ VIEJO_Tucumán', 'RÍO SECO_Córdoba', 'SAN PEDRO_Misiones',\n",
       "       'TRANCAS_Tucumán', 'ZAPALA _Neuquén', '25 DE MAYO_Misiones',\n",
       "       'RÍO SEGUNDO_Córdoba', 'YERBA BUENA_Tucumán',\n",
       "       'CAMPANA_Buenos Aires', 'SAN ALBERTO_Córdoba',\n",
       "       'SAN JAVIER_Córdoba', 'CAÑUELAS_Buenos Aires', 'SAN JUSTO_Córdoba',\n",
       "       'CARLOS CASARES_Buenos Aires', 'SANTA MARÍA_Córdoba',\n",
       "       'CARLOS TEJEDOR_Buenos Aires', 'SOBREMONTE_Córdoba',\n",
       "       'TERCERO ARRIBA_Córdoba', 'CASTELLI_Buenos Aires',\n",
       "       'TOTORAL_Córdoba', 'TULUMBA_Córdoba',\n",
       "       'CORONEL DE MARINA L. ROSALES_Buenos Aires', 'UNIÓN_Córdoba',\n",
       "       'CORONEL DORREGO_Buenos Aires', 'CORONEL PRINGLES_Buenos Aires',\n",
       "       'CORONEL SUÁREZ_Buenos Aires', 'CHACABUCO_Buenos Aires',\n",
       "       'CHASCOMÚS_Buenos Aires', 'CHIVILCOY_Buenos Aires',\n",
       "       'DAIREAUX_Buenos Aires', 'DOLORES_Buenos Aires',\n",
       "       'ENSENADA_Buenos Aires', 'ESCOBAR_Buenos Aires',\n",
       "       'ESTEBAN ECHEVERRÍA_Buenos Aires', 'EZEIZA_Buenos Aires',\n",
       "       'FLORENCIO VARELA_Buenos Aires',\n",
       "       'FLORENTINO AMEGHINO_Buenos Aires',\n",
       "       'GENERAL ALVARADO_Buenos Aires', 'GENERAL ARENALES_Buenos Aires',\n",
       "       'GENERAL BELGRANO_Buenos Aires', 'GENERAL GUIDO_Buenos Aires',\n",
       "       'GENERAL JUAN MADARIAGA_Buenos Aires',\n",
       "       'GENERAL LA MADRID_Buenos Aires', 'GENERAL LAS HERAS_Buenos Aires',\n",
       "       'GENERAL LAVALLE_Buenos Aires', 'GENERAL PAZ_Buenos Aires',\n",
       "       'GENERAL PUEYRREDÓN_Buenos Aires',\n",
       "       'GENERAL RODRÍGUEZ_Buenos Aires',\n",
       "       'GENERAL SAN MARTÍN_Buenos Aires', 'GENERAL VIAMONTE_Buenos Aires',\n",
       "       'GENERAL VILLEGAS_Buenos Aires', 'GUAMINÍ_Buenos Aires',\n",
       "       'HIPÓLITO YRIGOYEN_Buenos Aires', 'HURLINGHAM_Buenos Aires',\n",
       "       'ITUZAINGÓ_Buenos Aires', 'JOSÉ C. PAZ_Buenos Aires',\n",
       "       'JUNÍN_Buenos Aires', 'LA COSTA_Buenos Aires',\n",
       "       'LA MATANZA_Buenos Aires', 'LANÚS_Buenos Aires',\n",
       "       'LA PLATA_Buenos Aires', 'LAPRIDA_Buenos Aires',\n",
       "       'LAS FLORES_Buenos Aires', 'LEANDRO N. ALEM_Buenos Aires',\n",
       "       'LEZAMA_Buenos Aires', 'LINCOLN_Buenos Aires',\n",
       "       'LOBERÍA_Buenos Aires', 'LOBOS_Buenos Aires',\n",
       "       'LOMAS DE ZAMORA_Buenos Aires', 'LUJÁN_Buenos Aires',\n",
       "       'MAGDALENA_Buenos Aires', 'MAIPÚ_Buenos Aires',\n",
       "       'MALVINAS ARGENTINAS_Buenos Aires', 'MERCEDES_Buenos Aires',\n",
       "       'MONTE_Buenos Aires', 'MONTE HERMOSO_Buenos Aires',\n",
       "       'MORENO_Buenos Aires', 'MORÓN_Buenos Aires',\n",
       "       'NAVARRO_Buenos Aires', 'NECOCHEA_Buenos Aires',\n",
       "       '9 DE JULIO_Buenos Aires', 'OLAVARRÍA_Buenos Aires',\n",
       "       'PATAGONES_Buenos Aires', 'PEHUAJÓ_Buenos Aires',\n",
       "       'PELLEGRINI_Buenos Aires', 'PERGAMINO_Buenos Aires',\n",
       "       'PILAR_Buenos Aires', 'PINAMAR _Buenos Aires',\n",
       "       'PRESIDENTE PERÓN_Buenos Aires', 'PUÁN_Buenos Aires',\n",
       "       'PUNTA INDIO_Buenos Aires', 'QUILMES_Buenos Aires',\n",
       "       'RAMALLO_Buenos Aires', 'RAUCH_Buenos Aires',\n",
       "       'RIVADAVIA_Buenos Aires', 'ROQUE PÉREZ_Buenos Aires',\n",
       "       'SAAVEDRA_Buenos Aires', 'SAN ANDRÉS DE GILES_Buenos Aires',\n",
       "       'SAN ANTONIO DE ARECO_Buenos Aires', 'SAN FERNANDO_Buenos Aires',\n",
       "       'SAN ISIDRO_Buenos Aires', 'SAN MIGUEL_Buenos Aires',\n",
       "       'SAN VICENTE_Buenos Aires', 'TANDIL_Buenos Aires',\n",
       "       'TIGRE_Buenos Aires', 'TORNQUIST_Buenos Aires',\n",
       "       'TRENQUE LAUQUEN_Buenos Aires', 'TRES ARROYOS_Buenos Aires',\n",
       "       'TRES DE FEBRERO_Buenos Aires', 'TRES LOMAS _Buenos Aires',\n",
       "       'VICENTE LÓPEZ_Buenos Aires', 'VILLARINO_Buenos Aires',\n",
       "       'ZÁRATE _Buenos Aires'], dtype=object)"
      ]
     },
     "execution_count": 165,
     "metadata": {},
     "output_type": "execute_result"
    }
   ],
   "source": [
    "#Renombramos de 'departamento_nombre' a 'Departamento'\n",
    "df_respiratorias2020_2021 = df_respiratorias2020_2021.rename(columns={'departamento_nombre': 'Departamento'})\n",
    "#Volvemos a ver como quedo el dataset\n",
    "df_respiratorias2020_2021.columns\n",
    "df_respiratorias2020_2021['Departamento'].unique()"
   ]
  },
  {
   "cell_type": "code",
   "execution_count": 166,
   "id": "6388742a-0087-4d1e-b3c9-cf1d87e68683",
   "metadata": {},
   "outputs": [
    {
     "data": {
      "text/plain": [
       "Index(['Departamento', 'año', 'semanas_epidemiologicas', 'evento_nombre',\n",
       "       'grupo_edad_id', 'grupo_edad_desc', 'cantidad_casos'],\n",
       "      dtype='object')"
      ]
     },
     "execution_count": 166,
     "metadata": {},
     "output_type": "execute_result"
    }
   ],
   "source": [
    "#Borramos las columnas que no nos interesan en 2020-2021\n",
    "df_respiratorias2020_2021 = df_respiratorias2020_2021.drop(['departamento_id', 'provincia_id', 'provincia_nombre'], axis=1)\n",
    "#Volvemos a ver como quedo el dataset\n",
    "df_respiratorias2020_2021.columns"
   ]
  },
  {
   "cell_type": "markdown",
   "id": "e85646a5-77d7-48bb-a2f1-c1fe20007587",
   "metadata": {},
   "source": [
    "### Dataset 2019"
   ]
  },
  {
   "cell_type": "code",
   "execution_count": 167,
   "id": "630a6c08-d152-4968-a207-800f9c199443",
   "metadata": {},
   "outputs": [
    {
     "data": {
      "text/html": [
       "<div>\n",
       "<style scoped>\n",
       "    .dataframe tbody tr th:only-of-type {\n",
       "        vertical-align: middle;\n",
       "    }\n",
       "\n",
       "    .dataframe tbody tr th {\n",
       "        vertical-align: top;\n",
       "    }\n",
       "\n",
       "    .dataframe thead th {\n",
       "        text-align: right;\n",
       "    }\n",
       "</style>\n",
       "<table border=\"1\" class=\"dataframe\">\n",
       "  <thead>\n",
       "    <tr style=\"text-align: right;\">\n",
       "      <th></th>\n",
       "      <th>departamento_id</th>\n",
       "      <th>departamento_nombre</th>\n",
       "      <th>provincia_id</th>\n",
       "      <th>provincia_nombre</th>\n",
       "      <th>anio</th>\n",
       "      <th>semanas_epidemiologicas</th>\n",
       "      <th>evento_nombre</th>\n",
       "      <th>grupo_edad_id</th>\n",
       "      <th>grupo_edad_desc</th>\n",
       "      <th>cantidad_casos</th>\n",
       "    </tr>\n",
       "  </thead>\n",
       "  <tbody>\n",
       "    <tr>\n",
       "      <th>0</th>\n",
       "      <td>91</td>\n",
       "      <td>TALA_Entre Rios</td>\n",
       "      <td>30</td>\n",
       "      <td>Entre Rios</td>\n",
       "      <td>2019</td>\n",
       "      <td>25</td>\n",
       "      <td>Enfermedad tipo influenza (ETI)</td>\n",
       "      <td>3</td>\n",
       "      <td>12 a 23 m</td>\n",
       "      <td>1</td>\n",
       "    </tr>\n",
       "    <tr>\n",
       "      <th>1</th>\n",
       "      <td>91</td>\n",
       "      <td>TALA_Entre Rios</td>\n",
       "      <td>30</td>\n",
       "      <td>Entre Rios</td>\n",
       "      <td>2019</td>\n",
       "      <td>25</td>\n",
       "      <td>Enfermedad tipo influenza (ETI)</td>\n",
       "      <td>4</td>\n",
       "      <td>2 a 4</td>\n",
       "      <td>1</td>\n",
       "    </tr>\n",
       "    <tr>\n",
       "      <th>2</th>\n",
       "      <td>91</td>\n",
       "      <td>TALA_Entre Rios</td>\n",
       "      <td>30</td>\n",
       "      <td>Entre Rios</td>\n",
       "      <td>2019</td>\n",
       "      <td>25</td>\n",
       "      <td>Enfermedad tipo influenza (ETI)</td>\n",
       "      <td>5</td>\n",
       "      <td>5 a 9</td>\n",
       "      <td>2</td>\n",
       "    </tr>\n",
       "    <tr>\n",
       "      <th>3</th>\n",
       "      <td>91</td>\n",
       "      <td>TALA_Entre Rios</td>\n",
       "      <td>30</td>\n",
       "      <td>Entre Rios</td>\n",
       "      <td>2019</td>\n",
       "      <td>25</td>\n",
       "      <td>Enfermedad tipo influenza (ETI)</td>\n",
       "      <td>6</td>\n",
       "      <td>10 a 14</td>\n",
       "      <td>1</td>\n",
       "    </tr>\n",
       "    <tr>\n",
       "      <th>4</th>\n",
       "      <td>91</td>\n",
       "      <td>TALA_Entre Rios</td>\n",
       "      <td>30</td>\n",
       "      <td>Entre Rios</td>\n",
       "      <td>2019</td>\n",
       "      <td>25</td>\n",
       "      <td>Enfermedad tipo influenza (ETI)</td>\n",
       "      <td>11</td>\n",
       "      <td>45 a 64</td>\n",
       "      <td>1</td>\n",
       "    </tr>\n",
       "  </tbody>\n",
       "</table>\n",
       "</div>"
      ],
      "text/plain": [
       "   departamento_id departamento_nombre  provincia_id provincia_nombre  anio  semanas_epidemiologicas                    evento_nombre  grupo_edad_id grupo_edad_desc  cantidad_casos\n",
       "0               91     TALA_Entre Rios            30       Entre Rios  2019                       25  Enfermedad tipo influenza (ETI)              3       12 a 23 m               1\n",
       "1               91     TALA_Entre Rios            30       Entre Rios  2019                       25  Enfermedad tipo influenza (ETI)              4           2 a 4               1\n",
       "2               91     TALA_Entre Rios            30       Entre Rios  2019                       25  Enfermedad tipo influenza (ETI)              5           5 a 9               2\n",
       "3               91     TALA_Entre Rios            30       Entre Rios  2019                       25  Enfermedad tipo influenza (ETI)              6         10 a 14               1\n",
       "4               91     TALA_Entre Rios            30       Entre Rios  2019                       25  Enfermedad tipo influenza (ETI)             11         45 a 64               1"
      ]
     },
     "execution_count": 167,
     "metadata": {},
     "output_type": "execute_result"
    }
   ],
   "source": [
    "#Ponemos el formato de DEPARTAMENTO_Provincia\n",
    "df_respiratorias2019['departamento_nombre'] = df_respiratorias2019['departamento_nombre'] + '_' + df_respiratorias2019['provincia_nombre']\n",
    "\n",
    "#Mostramos como quedaron las filas\n",
    "df_respiratorias2019.head()"
   ]
  },
  {
   "cell_type": "code",
   "execution_count": 168,
   "id": "69d026dc-7d2a-47a5-99e5-c7bda181f56a",
   "metadata": {},
   "outputs": [],
   "source": [
    "#Eliminamos las filas donde la provincia no sea una de las que te interesan:\n",
    "df_respiratorias2019 = df_respiratorias2019[df_respiratorias2019['provincia_nombre'].isin(provincias_deseadas)].copy()"
   ]
  },
  {
   "cell_type": "code",
   "execution_count": 169,
   "id": "12683486-c46a-4bce-82ed-797a5e5d4499",
   "metadata": {},
   "outputs": [
    {
     "data": {
      "text/plain": [
       "array(['CARLOS CASARES_Buenos Aires', 'JOSE C. PAZ_Buenos Aires',\n",
       "       'GENERAL VILLEGAS_Buenos Aires', 'OLAVARRIA_Buenos Aires',\n",
       "       'AVELLANEDA_Buenos Aires', 'ZARATE_Buenos Aires',\n",
       "       'TIGRE_Buenos Aires', 'GENERAL LAS HERAS_Buenos Aires',\n",
       "       'CARLOS TEJEDOR_Buenos Aires', 'ALMIRANTE BROWN_Buenos Aires',\n",
       "       'ADOLFO ALSINA_Buenos Aires', 'RAUCH_Buenos Aires',\n",
       "       'IGUAZU_Misiones', 'SAN MIGUEL_Buenos Aires',\n",
       "       'BAHIA BLANCA_Buenos Aires', 'LOBERIA_Buenos Aires',\n",
       "       'CHASCOMUS_Buenos Aires', 'CORONEL DORREGO_Buenos Aires',\n",
       "       'JUNIN_Buenos Aires', 'LOMAS DE ZAMORA_Buenos Aires',\n",
       "       'FLORENCIO VARELA_Buenos Aires', 'BOLIVAR_Buenos Aires',\n",
       "       'GENERAL RODRIGUEZ_Buenos Aires', 'SAN ISIDRO_Buenos Aires',\n",
       "       'SAN JAVIER_Misiones', 'LA MATANZA_Buenos Aires',\n",
       "       'SAN IGNACIO_Misiones', 'CAPITAL_Misiones',\n",
       "       'ESTEBAN ECHEVERRIA_Buenos Aires', 'OBERA_Misiones',\n",
       "       'PELLEGRINI_Buenos Aires', 'SALADILLO_Buenos Aires',\n",
       "       'MORENO_Buenos Aires', 'GENERAL SAN MARTIN_Buenos Aires',\n",
       "       'MAIPU_Buenos Aires', '9 DE julio_Buenos Aires',\n",
       "       'CANDELARIA_Misiones', 'CONCEPCION_Misiones',\n",
       "       'LA COSTA_Buenos Aires', 'CAMPANA_Buenos Aires',\n",
       "       'EZEIZA_Buenos Aires', 'TRES ARROYOS_Buenos Aires',\n",
       "       'BERISSO_Buenos Aires', 'AZUL_Buenos Aires',\n",
       "       'GENERAL PUEYRREDON_Buenos Aires', 'LAPRIDA_Buenos Aires',\n",
       "       'LANUS_Buenos Aires', 'TRES DE FEBRERO_Buenos Aires',\n",
       "       'SAN PEDRO_Misiones', 'PUNTA INDIO_Buenos Aires',\n",
       "       'BALCARCE_Buenos Aires', 'RIVADAVIA_Buenos Aires',\n",
       "       'CASTELLI_Buenos Aires', 'SAN VICENTE_Buenos Aires',\n",
       "       'GENERAL LAVALLE_Buenos Aires',\n",
       "       'ADOLFO GONZALES CHAVES_Buenos Aires', 'NAVARRO_Buenos Aires',\n",
       "       'BERAZATEGUI_Buenos Aires', 'PUAN_Buenos Aires',\n",
       "       'MORON_Buenos Aires', 'MARCOS PAZ_Buenos Aires',\n",
       "       'PINAMAR_Buenos Aires', 'CAINGUAS_Misiones',\n",
       "       'BENITO JUAREZ_Buenos Aires', 'CORONEL SUAREZ_Buenos Aires',\n",
       "       'LA PLATA_Buenos Aires', 'MERCEDES_Buenos Aires',\n",
       "       'SAN ANTONIO DE ARECO_Buenos Aires', 'TANDIL_Buenos Aires',\n",
       "       'SAAVEDRA_Buenos Aires', 'DOLORES_Buenos Aires',\n",
       "       'MAGDALENA_Buenos Aires', 'APOSTOLES_Misiones',\n",
       "       'GENERAL ARENALES_Buenos Aires', 'GENERAL GUIDO_Buenos Aires',\n",
       "       '25 DE mayo_Misiones', 'ELDORADO_Misiones',\n",
       "       'LEANDRO N. ALEM_Misiones', 'PRESIDENTE PERON_Buenos Aires',\n",
       "       'DAIREAUX_Buenos Aires', 'ENSENADA_Buenos Aires',\n",
       "       'VICENTE LOPEZ_Buenos Aires', 'ROQUE PEREZ_Buenos Aires',\n",
       "       'CORONEL PRINGLES_Buenos Aires', 'CHACABUCO_Buenos Aires',\n",
       "       'PEHUAJO_Buenos Aires', 'LINCOLN_Buenos Aires',\n",
       "       'TRENQUE LAUQUEN_Buenos Aires', 'GENERAL LA MADRID_Buenos Aires',\n",
       "       'LUJAN_Buenos Aires', 'AYACUCHO_Buenos Aires',\n",
       "       'LIBERTADOR GRL. SAN MARTIN_Misiones', 'TORNQUIST_Buenos Aires',\n",
       "       'MONTE_Buenos Aires', 'MONTECARLO_Misiones', 'PILAR_Buenos Aires',\n",
       "       'MONTE HERMOSO_Buenos Aires', 'ITUZAINGO_Buenos Aires',\n",
       "       'GENERAL PINTO_Buenos Aires', 'NECOCHEA_Buenos Aires',\n",
       "       'CANUELAS_Buenos Aires', 'BRANDSEN_Buenos Aires',\n",
       "       'RAMALLO_Buenos Aires', 'TAPALQUE_Buenos Aires',\n",
       "       'CHIVILCOY_Buenos Aires', 'HIPOLITO YRIGOYEN_Buenos Aires',\n",
       "       'TRES LOMAS_Buenos Aires',\n",
       "       'CORONEL DE MARINA L. ROSALES_Buenos Aires',\n",
       "       'ALBERTI_Buenos Aires', 'GENERAL PAZ_Buenos Aires',\n",
       "       'MERLO_Buenos Aires', 'SAN FERNANDO_Buenos Aires',\n",
       "       'GUARANI_Misiones', 'LEANDRO N. ALEM_Buenos Aires',\n",
       "       'GENERAL VIAMONTE_Buenos Aires',\n",
       "       'FLORENTINO AMEGHINO_Buenos Aires', 'PATAGONES_Buenos Aires',\n",
       "       'GENERAL JUAN MADARIAGA_Buenos Aires',\n",
       "       'GENERAL MANUEL BELGRANO_Misiones'], dtype=object)"
      ]
     },
     "execution_count": 169,
     "metadata": {},
     "output_type": "execute_result"
    }
   ],
   "source": [
    "#Renombramos de 'departamento_nombre' a 'Departamento'\n",
    "df_respiratorias2019 = df_respiratorias2019.rename(columns={'departamento_nombre': 'Departamento'})\n",
    "#Volvemos a ver como quedo el dataset\n",
    "df_respiratorias2019.columns\n",
    "df_respiratorias2019['Departamento'].unique()"
   ]
  },
  {
   "cell_type": "code",
   "execution_count": 170,
   "id": "1455c0a5-ca99-4d52-9580-a7250b878bd6",
   "metadata": {},
   "outputs": [
    {
     "data": {
      "text/plain": [
       "Index(['departamento_id', 'Departamento', 'provincia_id', 'provincia_nombre',\n",
       "       'año', 'semanas_epidemiologicas', 'evento_nombre', 'grupo_edad_id',\n",
       "       'grupo_edad_desc', 'cantidad_casos'],\n",
       "      dtype='object')"
      ]
     },
     "execution_count": 170,
     "metadata": {},
     "output_type": "execute_result"
    }
   ],
   "source": [
    "#En este df tambien debemos renombrar la columna 'anio' a 'año' para que coincida con los otros datasets\n",
    "df_respiratorias2019 = df_respiratorias2019.rename(columns={'anio': 'año'})\n",
    "df_respiratorias2019.columns"
   ]
  },
  {
   "cell_type": "code",
   "execution_count": 171,
   "id": "793edb87-1217-4e12-9933-cdfdca268dea",
   "metadata": {},
   "outputs": [
    {
     "data": {
      "text/plain": [
       "Index(['Departamento', 'año', 'semanas_epidemiologicas', 'evento_nombre',\n",
       "       'grupo_edad_id', 'grupo_edad_desc', 'cantidad_casos'],\n",
       "      dtype='object')"
      ]
     },
     "execution_count": 171,
     "metadata": {},
     "output_type": "execute_result"
    }
   ],
   "source": [
    "#Borramos las columnas que no nos interesan en 2019\n",
    "df_respiratorias2019 = df_respiratorias2019.drop(['departamento_id', 'provincia_id', 'provincia_nombre'], axis=1)\n",
    "#Volvemos a ver como quedo el dataset\n",
    "df_respiratorias2019.columns"
   ]
  },
  {
   "cell_type": "markdown",
   "id": "98220ee7-584c-4dca-b2f2-b8906fe68f44",
   "metadata": {},
   "source": [
    "### COMBINAMOS LOS TRES DATASETS CORRESPONDIENTES A ENFERMEDADES RESPIRATORIAS"
   ]
  },
  {
   "cell_type": "markdown",
   "id": "ce5c85ce-59cc-412e-b351-c4e5469d897e",
   "metadata": {},
   "source": [
    "Una vez que hemos realizado la limpieza necesaria y todos los datasets tienen el mismo formato, procederemos a combinarlos para que queden en un unico dataset"
   ]
  },
  {
   "cell_type": "code",
   "execution_count": 172,
   "id": "8fed424b-847c-489a-90e5-a7f5e3ca3a5d",
   "metadata": {},
   "outputs": [],
   "source": [
    "df_respiratorias = pd.concat([df_respiratorias2022_2023, df_respiratorias2020_2021,df_respiratorias2019], ignore_index=True)"
   ]
  },
  {
   "cell_type": "code",
   "execution_count": 173,
   "id": "c62649b5-e55c-4f1c-bac1-b61d8cdded7b",
   "metadata": {},
   "outputs": [
    {
     "name": "stdout",
     "output_type": "stream",
     "text": [
      "<class 'pandas.core.frame.DataFrame'>\n",
      "RangeIndex: 375311 entries, 0 to 375310\n",
      "Data columns (total 7 columns):\n",
      " #   Column                   Non-Null Count   Dtype \n",
      "---  ------                   --------------   ----- \n",
      " 0   Departamento             375311 non-null  object\n",
      " 1   año                      375311 non-null  int64 \n",
      " 2   semanas_epidemiologicas  375311 non-null  int64 \n",
      " 3   evento_nombre            375311 non-null  object\n",
      " 4   grupo_edad_id            375311 non-null  int64 \n",
      " 5   grupo_edad_desc          375311 non-null  object\n",
      " 6   cantidad_casos           375311 non-null  int64 \n",
      "dtypes: int64(4), object(3)\n",
      "memory usage: 20.0+ MB\n"
     ]
    },
    {
     "data": {
      "text/html": [
       "<div>\n",
       "<style scoped>\n",
       "    .dataframe tbody tr th:only-of-type {\n",
       "        vertical-align: middle;\n",
       "    }\n",
       "\n",
       "    .dataframe tbody tr th {\n",
       "        vertical-align: top;\n",
       "    }\n",
       "\n",
       "    .dataframe thead th {\n",
       "        text-align: right;\n",
       "    }\n",
       "</style>\n",
       "<table border=\"1\" class=\"dataframe\">\n",
       "  <thead>\n",
       "    <tr style=\"text-align: right;\">\n",
       "      <th></th>\n",
       "      <th>año</th>\n",
       "      <th>semanas_epidemiologicas</th>\n",
       "      <th>grupo_edad_id</th>\n",
       "      <th>cantidad_casos</th>\n",
       "    </tr>\n",
       "  </thead>\n",
       "  <tbody>\n",
       "    <tr>\n",
       "      <th>count</th>\n",
       "      <td>375311.000000</td>\n",
       "      <td>375311.000000</td>\n",
       "      <td>375311.000000</td>\n",
       "      <td>375311.000000</td>\n",
       "    </tr>\n",
       "    <tr>\n",
       "      <th>mean</th>\n",
       "      <td>2021.000293</td>\n",
       "      <td>26.430182</td>\n",
       "      <td>6.514118</td>\n",
       "      <td>6.365356</td>\n",
       "    </tr>\n",
       "    <tr>\n",
       "      <th>std</th>\n",
       "      <td>1.594434</td>\n",
       "      <td>13.663663</td>\n",
       "      <td>3.591400</td>\n",
       "      <td>13.847630</td>\n",
       "    </tr>\n",
       "    <tr>\n",
       "      <th>min</th>\n",
       "      <td>2019.000000</td>\n",
       "      <td>1.000000</td>\n",
       "      <td>1.000000</td>\n",
       "      <td>1.000000</td>\n",
       "    </tr>\n",
       "    <tr>\n",
       "      <th>25%</th>\n",
       "      <td>2019.000000</td>\n",
       "      <td>16.000000</td>\n",
       "      <td>3.000000</td>\n",
       "      <td>1.000000</td>\n",
       "    </tr>\n",
       "    <tr>\n",
       "      <th>50%</th>\n",
       "      <td>2021.000000</td>\n",
       "      <td>26.000000</td>\n",
       "      <td>6.000000</td>\n",
       "      <td>2.000000</td>\n",
       "    </tr>\n",
       "    <tr>\n",
       "      <th>75%</th>\n",
       "      <td>2022.000000</td>\n",
       "      <td>37.000000</td>\n",
       "      <td>10.000000</td>\n",
       "      <td>6.000000</td>\n",
       "    </tr>\n",
       "    <tr>\n",
       "      <th>max</th>\n",
       "      <td>2023.000000</td>\n",
       "      <td>53.000000</td>\n",
       "      <td>13.000000</td>\n",
       "      <td>440.000000</td>\n",
       "    </tr>\n",
       "  </tbody>\n",
       "</table>\n",
       "</div>"
      ],
      "text/plain": [
       "                 año  semanas_epidemiologicas  grupo_edad_id  cantidad_casos\n",
       "count  375311.000000            375311.000000  375311.000000   375311.000000\n",
       "mean     2021.000293                26.430182       6.514118        6.365356\n",
       "std         1.594434                13.663663       3.591400       13.847630\n",
       "min      2019.000000                 1.000000       1.000000        1.000000\n",
       "25%      2019.000000                16.000000       3.000000        1.000000\n",
       "50%      2021.000000                26.000000       6.000000        2.000000\n",
       "75%      2022.000000                37.000000      10.000000        6.000000\n",
       "max      2023.000000                53.000000      13.000000      440.000000"
      ]
     },
     "execution_count": 173,
     "metadata": {},
     "output_type": "execute_result"
    }
   ],
   "source": [
    "df_respiratorias.shape         # Dimensiones (filas, columnas)\n",
    "df_respiratorias.columns       # Lista de nombres de columnas\n",
    "df_respiratorias.dtypes        # Tipos de datos por columna\n",
    "df_respiratorias.info()        # Resumen: tipos de datos, no nulos\n",
    "df_respiratorias.describe()    # Estadísticas básicas (solo numéricas)"
   ]
  },
  {
   "cell_type": "markdown",
   "id": "3732f787-f3d3-4a66-8991-f70c908aea2d",
   "metadata": {},
   "source": [
    "Nos terminaron quedando 375311 filas en total"
   ]
  },
  {
   "cell_type": "markdown",
   "id": "5457e424-5c56-4641-8a56-fb75ad5a7bf5",
   "metadata": {},
   "source": [
    "###"
   ]
  },
  {
   "cell_type": "markdown",
   "id": "858cc0d4-4521-4eb0-b60c-f0cbfca7c6da",
   "metadata": {},
   "source": [
    "### Datasets del Clima"
   ]
  },
  {
   "cell_type": "markdown",
   "id": "2231526e-4136-4d6d-bfff-c9cf4028d54e",
   "metadata": {},
   "source": [
    "Una vez que tenemos lista la parte de las infecciones respiratorias, procedemos a la limpieza de los datasets del clima, para luego poder unificar ambos"
   ]
  },
  {
   "cell_type": "markdown",
   "id": "ff5ae832-ea4c-4cec-8e8a-8afaac104315",
   "metadata": {},
   "source": [
    "Lo primero que haremos será leer los csv originales correspondientes"
   ]
  },
  {
   "cell_type": "code",
   "execution_count": 174,
   "id": "a58dc570-8acb-4c56-b97a-e31ea24a41eb",
   "metadata": {},
   "outputs": [],
   "source": [
    "df_temp2022_2023 = pd.read_csv(\"./climaAgrupado.csv\")\n",
    "df_temp2019_2022 =pd.read_csv(\"./climaAgrupado2019_2022.csv\")"
   ]
  },
  {
   "cell_type": "code",
   "execution_count": 175,
   "id": "e55e3bde-c1e4-4492-afc8-c7a1a6dbd057",
   "metadata": {},
   "outputs": [
    {
     "name": "stdout",
     "output_type": "stream",
     "text": [
      "<class 'pandas.core.frame.DataFrame'>\n",
      "RangeIndex: 3824 entries, 0 to 3823\n",
      "Data columns (total 7 columns):\n",
      " #   Column                 Non-Null Count  Dtype \n",
      "---  ------                 --------------  ----- \n",
      " 0   año                    3824 non-null   int64 \n",
      " 1   Estacion               3824 non-null   object\n",
      " 2   semana epidemiologica  3824 non-null   int64 \n",
      " 3   AVERAGE de Temp, M     3685 non-null   object\n",
      " 4   AVERAGE de Temp, m     3808 non-null   object\n",
      " 5   AVERAGE de Precip      3809 non-null   object\n",
      " 6   AVERAGE de Hum         3809 non-null   object\n",
      "dtypes: int64(2), object(5)\n",
      "memory usage: 209.3+ KB\n"
     ]
    },
    {
     "data": {
      "text/html": [
       "<div>\n",
       "<style scoped>\n",
       "    .dataframe tbody tr th:only-of-type {\n",
       "        vertical-align: middle;\n",
       "    }\n",
       "\n",
       "    .dataframe tbody tr th {\n",
       "        vertical-align: top;\n",
       "    }\n",
       "\n",
       "    .dataframe thead th {\n",
       "        text-align: right;\n",
       "    }\n",
       "</style>\n",
       "<table border=\"1\" class=\"dataframe\">\n",
       "  <thead>\n",
       "    <tr style=\"text-align: right;\">\n",
       "      <th></th>\n",
       "      <th>año</th>\n",
       "      <th>semana epidemiologica</th>\n",
       "    </tr>\n",
       "  </thead>\n",
       "  <tbody>\n",
       "    <tr>\n",
       "      <th>count</th>\n",
       "      <td>3824.000000</td>\n",
       "      <td>3824.000000</td>\n",
       "    </tr>\n",
       "    <tr>\n",
       "      <th>mean</th>\n",
       "      <td>2022.496862</td>\n",
       "      <td>26.418410</td>\n",
       "    </tr>\n",
       "    <tr>\n",
       "      <th>std</th>\n",
       "      <td>0.500056</td>\n",
       "      <td>15.011815</td>\n",
       "    </tr>\n",
       "    <tr>\n",
       "      <th>min</th>\n",
       "      <td>2022.000000</td>\n",
       "      <td>1.000000</td>\n",
       "    </tr>\n",
       "    <tr>\n",
       "      <th>25%</th>\n",
       "      <td>2022.000000</td>\n",
       "      <td>13.000000</td>\n",
       "    </tr>\n",
       "    <tr>\n",
       "      <th>50%</th>\n",
       "      <td>2022.000000</td>\n",
       "      <td>26.000000</td>\n",
       "    </tr>\n",
       "    <tr>\n",
       "      <th>75%</th>\n",
       "      <td>2023.000000</td>\n",
       "      <td>39.000000</td>\n",
       "    </tr>\n",
       "    <tr>\n",
       "      <th>max</th>\n",
       "      <td>2023.000000</td>\n",
       "      <td>52.000000</td>\n",
       "    </tr>\n",
       "  </tbody>\n",
       "</table>\n",
       "</div>"
      ],
      "text/plain": [
       "               año  semana epidemiologica\n",
       "count  3824.000000            3824.000000\n",
       "mean   2022.496862              26.418410\n",
       "std       0.500056              15.011815\n",
       "min    2022.000000               1.000000\n",
       "25%    2022.000000              13.000000\n",
       "50%    2022.000000              26.000000\n",
       "75%    2023.000000              39.000000\n",
       "max    2023.000000              52.000000"
      ]
     },
     "execution_count": 175,
     "metadata": {},
     "output_type": "execute_result"
    }
   ],
   "source": [
    "#Observaremos las propiedades del csv que contiene informacion de las temperaturas del 2022 al 2023\n",
    "df_temp2022_2023.shape         # Dimensiones (filas, columnas)\n",
    "df_temp2022_2023.columns       # Lista de nombres de columnas\n",
    "df_temp2022_2023.dtypes        # Tipos de datos por columna\n",
    "df_temp2022_2023.info()        # Resumen: tipos de datos, no nulos\n",
    "df_temp2022_2023.describe()    # Estadísticas básicas (solo numéricas)"
   ]
  },
  {
   "cell_type": "markdown",
   "id": "fc2bd37b-7679-4f06-a7cf-816973df0b58",
   "metadata": {},
   "source": [
    "El dataset \"df_temp2022_2023\" contiene  3824 filas. <br> Los nombres de las columnas son: año, Estación, semana epidemiologica, AVERAGE de Temp, M; AVERAGE de Temp, M; AVERAGE de Precip y AVERAGE de Hum <br> Para cada columna además se indica la cantidad de datos no-nulos y el tipo de dato (int64 u object) <br> Por ultimo, se muestran las estadisticas basicas de cada columna como la cuenta, la media, la desviación estándar, el valor mínimo, los cuartiles (25%, 50%, 75%) y el valor máximo."
   ]
  },
  {
   "cell_type": "markdown",
   "id": "62890762-db71-4e77-96ac-efa7b053b5d9",
   "metadata": {},
   "source": [
    "Haremos la misma observacion para el otro csv"
   ]
  },
  {
   "cell_type": "code",
   "execution_count": 176,
   "id": "217c6eb9-ed9a-48ff-9b3c-073842b2764d",
   "metadata": {},
   "outputs": [
    {
     "name": "stdout",
     "output_type": "stream",
     "text": [
      "<class 'pandas.core.frame.DataFrame'>\n",
      "RangeIndex: 5652 entries, 0 to 5651\n",
      "Data columns (total 8 columns):\n",
      " #   Column         Non-Null Count  Dtype \n",
      "---  ------         --------------  ----- \n",
      " 0   Estacion       5652 non-null   object\n",
      " 1   Año            5652 non-null   int64 \n",
      " 2   Semana         5652 non-null   int64 \n",
      " 3   TempMax        5620 non-null   object\n",
      " 4   TempMin        5630 non-null   object\n",
      " 5   Presion        5631 non-null   object\n",
      " 6   Precipitacion  5635 non-null   object\n",
      " 7   Humedad        5632 non-null   object\n",
      "dtypes: int64(2), object(6)\n",
      "memory usage: 353.4+ KB\n"
     ]
    },
    {
     "data": {
      "text/html": [
       "<div>\n",
       "<style scoped>\n",
       "    .dataframe tbody tr th:only-of-type {\n",
       "        vertical-align: middle;\n",
       "    }\n",
       "\n",
       "    .dataframe tbody tr th {\n",
       "        vertical-align: top;\n",
       "    }\n",
       "\n",
       "    .dataframe thead th {\n",
       "        text-align: right;\n",
       "    }\n",
       "</style>\n",
       "<table border=\"1\" class=\"dataframe\">\n",
       "  <thead>\n",
       "    <tr style=\"text-align: right;\">\n",
       "      <th></th>\n",
       "      <th>Año</th>\n",
       "      <th>Semana</th>\n",
       "    </tr>\n",
       "  </thead>\n",
       "  <tbody>\n",
       "    <tr>\n",
       "      <th>count</th>\n",
       "      <td>5652.000000</td>\n",
       "      <td>5652.000000</td>\n",
       "    </tr>\n",
       "    <tr>\n",
       "      <th>mean</th>\n",
       "      <td>2020.000000</td>\n",
       "      <td>26.668790</td>\n",
       "    </tr>\n",
       "    <tr>\n",
       "      <th>std</th>\n",
       "      <td>0.813964</td>\n",
       "      <td>15.109604</td>\n",
       "    </tr>\n",
       "    <tr>\n",
       "      <th>min</th>\n",
       "      <td>2019.000000</td>\n",
       "      <td>1.000000</td>\n",
       "    </tr>\n",
       "    <tr>\n",
       "      <th>25%</th>\n",
       "      <td>2019.000000</td>\n",
       "      <td>14.000000</td>\n",
       "    </tr>\n",
       "    <tr>\n",
       "      <th>50%</th>\n",
       "      <td>2020.000000</td>\n",
       "      <td>27.000000</td>\n",
       "    </tr>\n",
       "    <tr>\n",
       "      <th>75%</th>\n",
       "      <td>2021.000000</td>\n",
       "      <td>40.000000</td>\n",
       "    </tr>\n",
       "    <tr>\n",
       "      <th>max</th>\n",
       "      <td>2021.000000</td>\n",
       "      <td>53.000000</td>\n",
       "    </tr>\n",
       "  </tbody>\n",
       "</table>\n",
       "</div>"
      ],
      "text/plain": [
       "               Año       Semana\n",
       "count  5652.000000  5652.000000\n",
       "mean   2020.000000    26.668790\n",
       "std       0.813964    15.109604\n",
       "min    2019.000000     1.000000\n",
       "25%    2019.000000    14.000000\n",
       "50%    2020.000000    27.000000\n",
       "75%    2021.000000    40.000000\n",
       "max    2021.000000    53.000000"
      ]
     },
     "execution_count": 176,
     "metadata": {},
     "output_type": "execute_result"
    }
   ],
   "source": [
    "df_temp2019_2022.shape         # Dimensiones (filas, columnas)\n",
    "df_temp2019_2022.columns       # Lista de nombres de columnas\n",
    "df_temp2019_2022.dtypes        # Tipos de datos por columna\n",
    "df_temp2019_2022.info()        # Resumen: tipos de datos, no nulos\n",
    "df_temp2019_2022.describe()    # Estadísticas básicas (solo numéricas)"
   ]
  },
  {
   "cell_type": "markdown",
   "id": "c90b34ed-5baf-4921-8950-f64e8278be40",
   "metadata": {},
   "source": [
    "Como podemos observar, las columnas correspndientes a AVERAGE... son tratadas como object, cuando deberian ser float. <br>\n",
    "Esto se debe a como se lee la coma decimal, como veremos a continuacion"
   ]
  },
  {
   "cell_type": "code",
   "execution_count": 177,
   "id": "6803ddec-432d-4cc0-823b-57d6289cb171",
   "metadata": {},
   "outputs": [
    {
     "data": {
      "text/html": [
       "<div>\n",
       "<style scoped>\n",
       "    .dataframe tbody tr th:only-of-type {\n",
       "        vertical-align: middle;\n",
       "    }\n",
       "\n",
       "    .dataframe tbody tr th {\n",
       "        vertical-align: top;\n",
       "    }\n",
       "\n",
       "    .dataframe thead th {\n",
       "        text-align: right;\n",
       "    }\n",
       "</style>\n",
       "<table border=\"1\" class=\"dataframe\">\n",
       "  <thead>\n",
       "    <tr style=\"text-align: right;\">\n",
       "      <th></th>\n",
       "      <th>Estacion</th>\n",
       "      <th>Año</th>\n",
       "      <th>Semana</th>\n",
       "      <th>TempMax</th>\n",
       "      <th>TempMin</th>\n",
       "      <th>Presion</th>\n",
       "      <th>Precipitacion</th>\n",
       "      <th>Humedad</th>\n",
       "    </tr>\n",
       "  </thead>\n",
       "  <tbody>\n",
       "    <tr>\n",
       "      <th>0</th>\n",
       "      <td>9 DE JULIO_Buenos Aires</td>\n",
       "      <td>2019</td>\n",
       "      <td>1</td>\n",
       "      <td>28,44</td>\n",
       "      <td>16,86</td>\n",
       "      <td>1.000,32</td>\n",
       "      <td>7,60</td>\n",
       "      <td>62,80</td>\n",
       "    </tr>\n",
       "    <tr>\n",
       "      <th>1</th>\n",
       "      <td>9 DE JULIO_Buenos Aires</td>\n",
       "      <td>2019</td>\n",
       "      <td>2</td>\n",
       "      <td>27,51</td>\n",
       "      <td>15,66</td>\n",
       "      <td>1.003,17</td>\n",
       "      <td>10,04</td>\n",
       "      <td>68,29</td>\n",
       "    </tr>\n",
       "    <tr>\n",
       "      <th>2</th>\n",
       "      <td>9 DE JULIO_Buenos Aires</td>\n",
       "      <td>2019</td>\n",
       "      <td>3</td>\n",
       "      <td>27,66</td>\n",
       "      <td>15,69</td>\n",
       "      <td>1.007,73</td>\n",
       "      <td>0,71</td>\n",
       "      <td>66,00</td>\n",
       "    </tr>\n",
       "    <tr>\n",
       "      <th>3</th>\n",
       "      <td>9 DE JULIO_Buenos Aires</td>\n",
       "      <td>2019</td>\n",
       "      <td>4</td>\n",
       "      <td>30,49</td>\n",
       "      <td>19,20</td>\n",
       "      <td>1.003,14</td>\n",
       "      <td>18,86</td>\n",
       "      <td>77,29</td>\n",
       "    </tr>\n",
       "    <tr>\n",
       "      <th>4</th>\n",
       "      <td>9 DE JULIO_Buenos Aires</td>\n",
       "      <td>2019</td>\n",
       "      <td>5</td>\n",
       "      <td>30,89</td>\n",
       "      <td>19,09</td>\n",
       "      <td>1.005,13</td>\n",
       "      <td>3,57</td>\n",
       "      <td>64,00</td>\n",
       "    </tr>\n",
       "  </tbody>\n",
       "</table>\n",
       "</div>"
      ],
      "text/plain": [
       "                  Estacion   Año  Semana TempMax TempMin   Presion Precipitacion Humedad\n",
       "0  9 DE JULIO_Buenos Aires  2019       1   28,44   16,86  1.000,32          7,60   62,80\n",
       "1  9 DE JULIO_Buenos Aires  2019       2   27,51   15,66  1.003,17         10,04   68,29\n",
       "2  9 DE JULIO_Buenos Aires  2019       3   27,66   15,69  1.007,73          0,71   66,00\n",
       "3  9 DE JULIO_Buenos Aires  2019       4   30,49   19,20  1.003,14         18,86   77,29\n",
       "4  9 DE JULIO_Buenos Aires  2019       5   30,89   19,09  1.005,13          3,57   64,00"
      ]
     },
     "execution_count": 177,
     "metadata": {},
     "output_type": "execute_result"
    }
   ],
   "source": [
    "df_temp2019_2022.head(5)"
   ]
  },
  {
   "cell_type": "code",
   "execution_count": 178,
   "id": "0001fdb4-a724-4aa7-ac32-e3a336e0b00c",
   "metadata": {},
   "outputs": [
    {
     "data": {
      "text/html": [
       "<div>\n",
       "<style scoped>\n",
       "    .dataframe tbody tr th:only-of-type {\n",
       "        vertical-align: middle;\n",
       "    }\n",
       "\n",
       "    .dataframe tbody tr th {\n",
       "        vertical-align: top;\n",
       "    }\n",
       "\n",
       "    .dataframe thead th {\n",
       "        text-align: right;\n",
       "    }\n",
       "</style>\n",
       "<table border=\"1\" class=\"dataframe\">\n",
       "  <thead>\n",
       "    <tr style=\"text-align: right;\">\n",
       "      <th></th>\n",
       "      <th>año</th>\n",
       "      <th>Estacion</th>\n",
       "      <th>semana epidemiologica</th>\n",
       "      <th>AVERAGE de Temp, M</th>\n",
       "      <th>AVERAGE de Temp, m</th>\n",
       "      <th>AVERAGE de Precip</th>\n",
       "      <th>AVERAGE de Hum</th>\n",
       "    </tr>\n",
       "  </thead>\n",
       "  <tbody>\n",
       "    <tr>\n",
       "      <th>0</th>\n",
       "      <td>2022</td>\n",
       "      <td>9 DE JULIO_Buenos Aires</td>\n",
       "      <td>1</td>\n",
       "      <td>32,43</td>\n",
       "      <td>16,89</td>\n",
       "      <td>0,00</td>\n",
       "      <td>50,57</td>\n",
       "    </tr>\n",
       "    <tr>\n",
       "      <th>1</th>\n",
       "      <td>2022</td>\n",
       "      <td>9 DE JULIO_Buenos Aires</td>\n",
       "      <td>2</td>\n",
       "      <td>39,57</td>\n",
       "      <td>20,94</td>\n",
       "      <td>0,29</td>\n",
       "      <td>41,00</td>\n",
       "    </tr>\n",
       "    <tr>\n",
       "      <th>2</th>\n",
       "      <td>2022</td>\n",
       "      <td>9 DE JULIO_Buenos Aires</td>\n",
       "      <td>3</td>\n",
       "      <td>25,44</td>\n",
       "      <td>17,70</td>\n",
       "      <td>38,50</td>\n",
       "      <td>85,00</td>\n",
       "    </tr>\n",
       "    <tr>\n",
       "      <th>3</th>\n",
       "      <td>2022</td>\n",
       "      <td>9 DE JULIO_Buenos Aires</td>\n",
       "      <td>4</td>\n",
       "      <td>29,50</td>\n",
       "      <td>17,33</td>\n",
       "      <td>5,86</td>\n",
       "      <td>63,57</td>\n",
       "    </tr>\n",
       "    <tr>\n",
       "      <th>4</th>\n",
       "      <td>2022</td>\n",
       "      <td>9 DE JULIO_Buenos Aires</td>\n",
       "      <td>5</td>\n",
       "      <td>27,13</td>\n",
       "      <td>15,44</td>\n",
       "      <td>2,57</td>\n",
       "      <td>64,71</td>\n",
       "    </tr>\n",
       "  </tbody>\n",
       "</table>\n",
       "</div>"
      ],
      "text/plain": [
       "    año                 Estacion  semana epidemiologica AVERAGE de Temp, M AVERAGE de Temp, m AVERAGE de Precip AVERAGE de Hum\n",
       "0  2022  9 DE JULIO_Buenos Aires                      1              32,43              16,89              0,00          50,57\n",
       "1  2022  9 DE JULIO_Buenos Aires                      2              39,57              20,94              0,29          41,00\n",
       "2  2022  9 DE JULIO_Buenos Aires                      3              25,44              17,70             38,50          85,00\n",
       "3  2022  9 DE JULIO_Buenos Aires                      4              29,50              17,33              5,86          63,57\n",
       "4  2022  9 DE JULIO_Buenos Aires                      5              27,13              15,44              2,57          64,71"
      ]
     },
     "execution_count": 178,
     "metadata": {},
     "output_type": "execute_result"
    }
   ],
   "source": [
    "#Lo mismo sucede en el otro csv\n",
    "df_temp2022_2023.head(5)"
   ]
  },
  {
   "cell_type": "markdown",
   "id": "f0e575ca-58b1-4022-9694-48c7f2fb6002",
   "metadata": {},
   "source": [
    "Como nos interesa que estas columnas sean del tipo float, haremos una conversion <br> Debemos convertir la coma (,) a punto (.)"
   ]
  },
  {
   "cell_type": "code",
   "execution_count": 179,
   "id": "040d249d-5a02-4fbc-92db-6bca9960b068",
   "metadata": {},
   "outputs": [
    {
     "name": "stdout",
     "output_type": "stream",
     "text": [
      "AVERAGE de Temp, M    float64\n",
      "AVERAGE de Temp, m    float64\n",
      "AVERAGE de Precip     float64\n",
      "AVERAGE de Hum        float64\n",
      "dtype: object\n",
      "AVERAGE de Temp, M    139\n",
      "AVERAGE de Temp, m     16\n",
      "AVERAGE de Precip      15\n",
      "AVERAGE de Hum         15\n",
      "dtype: int64\n"
     ]
    },
    {
     "data": {
      "text/html": [
       "<div>\n",
       "<style scoped>\n",
       "    .dataframe tbody tr th:only-of-type {\n",
       "        vertical-align: middle;\n",
       "    }\n",
       "\n",
       "    .dataframe tbody tr th {\n",
       "        vertical-align: top;\n",
       "    }\n",
       "\n",
       "    .dataframe thead th {\n",
       "        text-align: right;\n",
       "    }\n",
       "</style>\n",
       "<table border=\"1\" class=\"dataframe\">\n",
       "  <thead>\n",
       "    <tr style=\"text-align: right;\">\n",
       "      <th></th>\n",
       "      <th>año</th>\n",
       "      <th>Estacion</th>\n",
       "      <th>semana epidemiologica</th>\n",
       "      <th>AVERAGE de Temp, M</th>\n",
       "      <th>AVERAGE de Temp, m</th>\n",
       "      <th>AVERAGE de Precip</th>\n",
       "      <th>AVERAGE de Hum</th>\n",
       "    </tr>\n",
       "  </thead>\n",
       "  <tbody>\n",
       "    <tr>\n",
       "      <th>0</th>\n",
       "      <td>2022</td>\n",
       "      <td>9 DE JULIO_Buenos Aires</td>\n",
       "      <td>1</td>\n",
       "      <td>32.43</td>\n",
       "      <td>16.89</td>\n",
       "      <td>0.00</td>\n",
       "      <td>50.57</td>\n",
       "    </tr>\n",
       "    <tr>\n",
       "      <th>1</th>\n",
       "      <td>2022</td>\n",
       "      <td>9 DE JULIO_Buenos Aires</td>\n",
       "      <td>2</td>\n",
       "      <td>39.57</td>\n",
       "      <td>20.94</td>\n",
       "      <td>0.29</td>\n",
       "      <td>41.00</td>\n",
       "    </tr>\n",
       "    <tr>\n",
       "      <th>2</th>\n",
       "      <td>2022</td>\n",
       "      <td>9 DE JULIO_Buenos Aires</td>\n",
       "      <td>3</td>\n",
       "      <td>25.44</td>\n",
       "      <td>17.70</td>\n",
       "      <td>38.50</td>\n",
       "      <td>85.00</td>\n",
       "    </tr>\n",
       "    <tr>\n",
       "      <th>3</th>\n",
       "      <td>2022</td>\n",
       "      <td>9 DE JULIO_Buenos Aires</td>\n",
       "      <td>4</td>\n",
       "      <td>29.50</td>\n",
       "      <td>17.33</td>\n",
       "      <td>5.86</td>\n",
       "      <td>63.57</td>\n",
       "    </tr>\n",
       "    <tr>\n",
       "      <th>4</th>\n",
       "      <td>2022</td>\n",
       "      <td>9 DE JULIO_Buenos Aires</td>\n",
       "      <td>5</td>\n",
       "      <td>27.13</td>\n",
       "      <td>15.44</td>\n",
       "      <td>2.57</td>\n",
       "      <td>64.71</td>\n",
       "    </tr>\n",
       "  </tbody>\n",
       "</table>\n",
       "</div>"
      ],
      "text/plain": [
       "    año                 Estacion  semana epidemiologica  AVERAGE de Temp, M  AVERAGE de Temp, m  AVERAGE de Precip  AVERAGE de Hum\n",
       "0  2022  9 DE JULIO_Buenos Aires                      1               32.43               16.89               0.00           50.57\n",
       "1  2022  9 DE JULIO_Buenos Aires                      2               39.57               20.94               0.29           41.00\n",
       "2  2022  9 DE JULIO_Buenos Aires                      3               25.44               17.70              38.50           85.00\n",
       "3  2022  9 DE JULIO_Buenos Aires                      4               29.50               17.33               5.86           63.57\n",
       "4  2022  9 DE JULIO_Buenos Aires                      5               27.13               15.44               2.57           64.71"
      ]
     },
     "execution_count": 179,
     "metadata": {},
     "output_type": "execute_result"
    }
   ],
   "source": [
    "#Primero lo haremos para el csv del 2022 al 2023\n",
    "# Lista de columnas a convertir para el df de 2022-2023\n",
    "columnas = [\n",
    "     'AVERAGE de Temp, M',\n",
    "    'AVERAGE de Temp, m',\n",
    "    'AVERAGE de Precip',\n",
    "    'AVERAGE de Hum'\n",
    "]\n",
    "\n",
    "#convertimos\n",
    "for col in columnas:\n",
    "    df_temp2022_2023[col] = df_temp2022_2023[col].str.replace(',', '.', regex=False)              # convierte coma decimal a punto\n",
    "    df_temp2022_2023[col] = pd.to_numeric(df_temp2022_2023[col], errors='coerce')                 # convierte a float\n",
    "\n",
    "# vemos si hay nulos (temperatura maxima tiene)\n",
    "print(df_temp2022_2023[columnas].dtypes)\n",
    "print(df_temp2022_2023[columnas].isna().sum())\n",
    "df_temp2022_2023.head()"
   ]
  },
  {
   "cell_type": "code",
   "execution_count": 180,
   "id": "dc476ceb-ab7d-4ff4-8e8b-6ab33332f053",
   "metadata": {},
   "outputs": [
    {
     "name": "stdout",
     "output_type": "stream",
     "text": [
      "TempMax          float64\n",
      "TempMin          float64\n",
      "Presion          float64\n",
      "Precipitacion    float64\n",
      "Humedad          float64\n",
      "dtype: object\n",
      "TempMax            32\n",
      "TempMin            22\n",
      "Presion          2695\n",
      "Precipitacion      17\n",
      "Humedad            20\n",
      "dtype: int64\n"
     ]
    },
    {
     "data": {
      "text/html": [
       "<div>\n",
       "<style scoped>\n",
       "    .dataframe tbody tr th:only-of-type {\n",
       "        vertical-align: middle;\n",
       "    }\n",
       "\n",
       "    .dataframe tbody tr th {\n",
       "        vertical-align: top;\n",
       "    }\n",
       "\n",
       "    .dataframe thead th {\n",
       "        text-align: right;\n",
       "    }\n",
       "</style>\n",
       "<table border=\"1\" class=\"dataframe\">\n",
       "  <thead>\n",
       "    <tr style=\"text-align: right;\">\n",
       "      <th></th>\n",
       "      <th>Estacion</th>\n",
       "      <th>Año</th>\n",
       "      <th>Semana</th>\n",
       "      <th>TempMax</th>\n",
       "      <th>TempMin</th>\n",
       "      <th>Presion</th>\n",
       "      <th>Precipitacion</th>\n",
       "      <th>Humedad</th>\n",
       "    </tr>\n",
       "  </thead>\n",
       "  <tbody>\n",
       "    <tr>\n",
       "      <th>0</th>\n",
       "      <td>9 DE JULIO_Buenos Aires</td>\n",
       "      <td>2019</td>\n",
       "      <td>1</td>\n",
       "      <td>28.44</td>\n",
       "      <td>16.86</td>\n",
       "      <td>NaN</td>\n",
       "      <td>7.60</td>\n",
       "      <td>62.80</td>\n",
       "    </tr>\n",
       "    <tr>\n",
       "      <th>1</th>\n",
       "      <td>9 DE JULIO_Buenos Aires</td>\n",
       "      <td>2019</td>\n",
       "      <td>2</td>\n",
       "      <td>27.51</td>\n",
       "      <td>15.66</td>\n",
       "      <td>NaN</td>\n",
       "      <td>10.04</td>\n",
       "      <td>68.29</td>\n",
       "    </tr>\n",
       "    <tr>\n",
       "      <th>2</th>\n",
       "      <td>9 DE JULIO_Buenos Aires</td>\n",
       "      <td>2019</td>\n",
       "      <td>3</td>\n",
       "      <td>27.66</td>\n",
       "      <td>15.69</td>\n",
       "      <td>NaN</td>\n",
       "      <td>0.71</td>\n",
       "      <td>66.00</td>\n",
       "    </tr>\n",
       "    <tr>\n",
       "      <th>3</th>\n",
       "      <td>9 DE JULIO_Buenos Aires</td>\n",
       "      <td>2019</td>\n",
       "      <td>4</td>\n",
       "      <td>30.49</td>\n",
       "      <td>19.20</td>\n",
       "      <td>NaN</td>\n",
       "      <td>18.86</td>\n",
       "      <td>77.29</td>\n",
       "    </tr>\n",
       "    <tr>\n",
       "      <th>4</th>\n",
       "      <td>9 DE JULIO_Buenos Aires</td>\n",
       "      <td>2019</td>\n",
       "      <td>5</td>\n",
       "      <td>30.89</td>\n",
       "      <td>19.09</td>\n",
       "      <td>NaN</td>\n",
       "      <td>3.57</td>\n",
       "      <td>64.00</td>\n",
       "    </tr>\n",
       "  </tbody>\n",
       "</table>\n",
       "</div>"
      ],
      "text/plain": [
       "                  Estacion   Año  Semana  TempMax  TempMin  Presion  Precipitacion  Humedad\n",
       "0  9 DE JULIO_Buenos Aires  2019       1    28.44    16.86      NaN           7.60    62.80\n",
       "1  9 DE JULIO_Buenos Aires  2019       2    27.51    15.66      NaN          10.04    68.29\n",
       "2  9 DE JULIO_Buenos Aires  2019       3    27.66    15.69      NaN           0.71    66.00\n",
       "3  9 DE JULIO_Buenos Aires  2019       4    30.49    19.20      NaN          18.86    77.29\n",
       "4  9 DE JULIO_Buenos Aires  2019       5    30.89    19.09      NaN           3.57    64.00"
      ]
     },
     "execution_count": 180,
     "metadata": {},
     "output_type": "execute_result"
    }
   ],
   "source": [
    "#Y hacemos lo mismo para el df de 2019 al 2022\n",
    "# Lista de columnas a convertir\n",
    "columnas = [\n",
    "    'TempMax',\n",
    "    'TempMin',\n",
    "    'Presion',\n",
    "    'Precipitacion',\n",
    "    'Humedad'\n",
    "]\n",
    "\n",
    "#convertimos\n",
    "for col in columnas:\n",
    "    df_temp2019_2022[col] = df_temp2019_2022[col].str.replace(',', '.', regex=False)              # convierte coma decimal a punto\n",
    "    df_temp2019_2022[col] = pd.to_numeric(df_temp2019_2022[col], errors='coerce')                 # convierte a float\n",
    "\n",
    "# vemos si hay nulos (temperatura maxima tiene)\n",
    "print(df_temp2019_2022[columnas].dtypes)\n",
    "print(df_temp2019_2022[columnas].isna().sum())\n",
    "df_temp2019_2022.head()"
   ]
  },
  {
   "cell_type": "markdown",
   "id": "6a1b6205-2d3c-4107-9dd7-bd4bdc81f99d",
   "metadata": {},
   "source": [
    "Podemos observar de la salida por pantalla anterior, que hay filas que contienen nulos (NaN). \n",
    "Como cada registro pertenece a una semana epidemiologica, y tenemos el riesgo de perder informacion valiosa, vamos a completar esas filas nulas con el valor promedio."
   ]
  },
  {
   "cell_type": "code",
   "execution_count": 181,
   "id": "6a461089-79c0-4d97-afff-96ab6abbf829",
   "metadata": {},
   "outputs": [
    {
     "name": "stdout",
     "output_type": "stream",
     "text": [
      "AVERAGE de Temp, M    0\n",
      "AVERAGE de Temp, m    0\n",
      "AVERAGE de Precip     0\n",
      "AVERAGE de Hum        0\n",
      "dtype: int64\n"
     ]
    },
    {
     "name": "stderr",
     "output_type": "stream",
     "text": [
      "/tmp/ipykernel_2680639/3450870268.py:10: FutureWarning: A value is trying to be set on a copy of a DataFrame or Series through chained assignment using an inplace method.\n",
      "The behavior will change in pandas 3.0. This inplace method will never work because the intermediate object on which we are setting values always behaves as a copy.\n",
      "\n",
      "For example, when doing 'df[col].method(value, inplace=True)', try using 'df.method({col: value}, inplace=True)' or df[col] = df[col].method(value) instead, to perform the operation inplace on the original object.\n",
      "\n",
      "\n",
      "  df_temp2022_2023[col].fillna(df_temp2022_2023[col].mean(), inplace=True)\n"
     ]
    },
    {
     "data": {
      "text/html": [
       "<div>\n",
       "<style scoped>\n",
       "    .dataframe tbody tr th:only-of-type {\n",
       "        vertical-align: middle;\n",
       "    }\n",
       "\n",
       "    .dataframe tbody tr th {\n",
       "        vertical-align: top;\n",
       "    }\n",
       "\n",
       "    .dataframe thead th {\n",
       "        text-align: right;\n",
       "    }\n",
       "</style>\n",
       "<table border=\"1\" class=\"dataframe\">\n",
       "  <thead>\n",
       "    <tr style=\"text-align: right;\">\n",
       "      <th></th>\n",
       "      <th>año</th>\n",
       "      <th>Estacion</th>\n",
       "      <th>semana epidemiologica</th>\n",
       "      <th>AVERAGE de Temp, M</th>\n",
       "      <th>AVERAGE de Temp, m</th>\n",
       "      <th>AVERAGE de Precip</th>\n",
       "      <th>AVERAGE de Hum</th>\n",
       "    </tr>\n",
       "  </thead>\n",
       "  <tbody>\n",
       "    <tr>\n",
       "      <th>0</th>\n",
       "      <td>2022</td>\n",
       "      <td>9 DE JULIO_Buenos Aires</td>\n",
       "      <td>1</td>\n",
       "      <td>32.43</td>\n",
       "      <td>16.89</td>\n",
       "      <td>0.00</td>\n",
       "      <td>50.57</td>\n",
       "    </tr>\n",
       "    <tr>\n",
       "      <th>1</th>\n",
       "      <td>2022</td>\n",
       "      <td>9 DE JULIO_Buenos Aires</td>\n",
       "      <td>2</td>\n",
       "      <td>39.57</td>\n",
       "      <td>20.94</td>\n",
       "      <td>0.29</td>\n",
       "      <td>41.00</td>\n",
       "    </tr>\n",
       "    <tr>\n",
       "      <th>2</th>\n",
       "      <td>2022</td>\n",
       "      <td>9 DE JULIO_Buenos Aires</td>\n",
       "      <td>3</td>\n",
       "      <td>25.44</td>\n",
       "      <td>17.70</td>\n",
       "      <td>38.50</td>\n",
       "      <td>85.00</td>\n",
       "    </tr>\n",
       "    <tr>\n",
       "      <th>3</th>\n",
       "      <td>2022</td>\n",
       "      <td>9 DE JULIO_Buenos Aires</td>\n",
       "      <td>4</td>\n",
       "      <td>29.50</td>\n",
       "      <td>17.33</td>\n",
       "      <td>5.86</td>\n",
       "      <td>63.57</td>\n",
       "    </tr>\n",
       "    <tr>\n",
       "      <th>4</th>\n",
       "      <td>2022</td>\n",
       "      <td>9 DE JULIO_Buenos Aires</td>\n",
       "      <td>5</td>\n",
       "      <td>27.13</td>\n",
       "      <td>15.44</td>\n",
       "      <td>2.57</td>\n",
       "      <td>64.71</td>\n",
       "    </tr>\n",
       "  </tbody>\n",
       "</table>\n",
       "</div>"
      ],
      "text/plain": [
       "    año                 Estacion  semana epidemiologica  AVERAGE de Temp, M  AVERAGE de Temp, m  AVERAGE de Precip  AVERAGE de Hum\n",
       "0  2022  9 DE JULIO_Buenos Aires                      1               32.43               16.89               0.00           50.57\n",
       "1  2022  9 DE JULIO_Buenos Aires                      2               39.57               20.94               0.29           41.00\n",
       "2  2022  9 DE JULIO_Buenos Aires                      3               25.44               17.70              38.50           85.00\n",
       "3  2022  9 DE JULIO_Buenos Aires                      4               29.50               17.33               5.86           63.57\n",
       "4  2022  9 DE JULIO_Buenos Aires                      5               27.13               15.44               2.57           64.71"
      ]
     },
     "execution_count": 181,
     "metadata": {},
     "output_type": "execute_result"
    }
   ],
   "source": [
    "#Primero con el csv de 2022_2023\n",
    "columnas = [\n",
    "     'AVERAGE de Temp, M',\n",
    "    'AVERAGE de Temp, m',\n",
    "    'AVERAGE de Precip',\n",
    "    'AVERAGE de Hum'\n",
    "]\n",
    "\n",
    "for col in columnas:\n",
    "    df_temp2022_2023[col].fillna(df_temp2022_2023[col].mean(), inplace=True)\n",
    "\n",
    "# Verificar que no haya nulos\n",
    "print(df_temp2022_2023[columnas].isna().sum())\n",
    "df_temp2022_2023.head()"
   ]
  },
  {
   "cell_type": "code",
   "execution_count": 182,
   "id": "e13c384c-d9a1-4824-b079-f0f07eabe0a4",
   "metadata": {},
   "outputs": [
    {
     "name": "stdout",
     "output_type": "stream",
     "text": [
      "TempMax          0\n",
      "TempMin          0\n",
      "Presion          0\n",
      "Precipitacion    0\n",
      "Humedad          0\n",
      "dtype: int64\n"
     ]
    },
    {
     "name": "stderr",
     "output_type": "stream",
     "text": [
      "/tmp/ipykernel_2680639/1080099161.py:12: FutureWarning: A value is trying to be set on a copy of a DataFrame or Series through chained assignment using an inplace method.\n",
      "The behavior will change in pandas 3.0. This inplace method will never work because the intermediate object on which we are setting values always behaves as a copy.\n",
      "\n",
      "For example, when doing 'df[col].method(value, inplace=True)', try using 'df.method({col: value}, inplace=True)' or df[col] = df[col].method(value) instead, to perform the operation inplace on the original object.\n",
      "\n",
      "\n",
      "  df_temp2019_2022[col].fillna(df_temp2019_2022[col].mean(), inplace=True)\n"
     ]
    },
    {
     "data": {
      "text/html": [
       "<div>\n",
       "<style scoped>\n",
       "    .dataframe tbody tr th:only-of-type {\n",
       "        vertical-align: middle;\n",
       "    }\n",
       "\n",
       "    .dataframe tbody tr th {\n",
       "        vertical-align: top;\n",
       "    }\n",
       "\n",
       "    .dataframe thead th {\n",
       "        text-align: right;\n",
       "    }\n",
       "</style>\n",
       "<table border=\"1\" class=\"dataframe\">\n",
       "  <thead>\n",
       "    <tr style=\"text-align: right;\">\n",
       "      <th></th>\n",
       "      <th>Estacion</th>\n",
       "      <th>Año</th>\n",
       "      <th>Semana</th>\n",
       "      <th>TempMax</th>\n",
       "      <th>TempMin</th>\n",
       "      <th>Presion</th>\n",
       "      <th>Precipitacion</th>\n",
       "      <th>Humedad</th>\n",
       "    </tr>\n",
       "  </thead>\n",
       "  <tbody>\n",
       "    <tr>\n",
       "      <th>0</th>\n",
       "      <td>9 DE JULIO_Buenos Aires</td>\n",
       "      <td>2019</td>\n",
       "      <td>1</td>\n",
       "      <td>28.44</td>\n",
       "      <td>16.86</td>\n",
       "      <td>975.215364</td>\n",
       "      <td>7.60</td>\n",
       "      <td>62.80</td>\n",
       "    </tr>\n",
       "    <tr>\n",
       "      <th>1</th>\n",
       "      <td>9 DE JULIO_Buenos Aires</td>\n",
       "      <td>2019</td>\n",
       "      <td>2</td>\n",
       "      <td>27.51</td>\n",
       "      <td>15.66</td>\n",
       "      <td>975.215364</td>\n",
       "      <td>10.04</td>\n",
       "      <td>68.29</td>\n",
       "    </tr>\n",
       "    <tr>\n",
       "      <th>2</th>\n",
       "      <td>9 DE JULIO_Buenos Aires</td>\n",
       "      <td>2019</td>\n",
       "      <td>3</td>\n",
       "      <td>27.66</td>\n",
       "      <td>15.69</td>\n",
       "      <td>975.215364</td>\n",
       "      <td>0.71</td>\n",
       "      <td>66.00</td>\n",
       "    </tr>\n",
       "    <tr>\n",
       "      <th>3</th>\n",
       "      <td>9 DE JULIO_Buenos Aires</td>\n",
       "      <td>2019</td>\n",
       "      <td>4</td>\n",
       "      <td>30.49</td>\n",
       "      <td>19.20</td>\n",
       "      <td>975.215364</td>\n",
       "      <td>18.86</td>\n",
       "      <td>77.29</td>\n",
       "    </tr>\n",
       "    <tr>\n",
       "      <th>4</th>\n",
       "      <td>9 DE JULIO_Buenos Aires</td>\n",
       "      <td>2019</td>\n",
       "      <td>5</td>\n",
       "      <td>30.89</td>\n",
       "      <td>19.09</td>\n",
       "      <td>975.215364</td>\n",
       "      <td>3.57</td>\n",
       "      <td>64.00</td>\n",
       "    </tr>\n",
       "  </tbody>\n",
       "</table>\n",
       "</div>"
      ],
      "text/plain": [
       "                  Estacion   Año  Semana  TempMax  TempMin     Presion  Precipitacion  Humedad\n",
       "0  9 DE JULIO_Buenos Aires  2019       1    28.44    16.86  975.215364           7.60    62.80\n",
       "1  9 DE JULIO_Buenos Aires  2019       2    27.51    15.66  975.215364          10.04    68.29\n",
       "2  9 DE JULIO_Buenos Aires  2019       3    27.66    15.69  975.215364           0.71    66.00\n",
       "3  9 DE JULIO_Buenos Aires  2019       4    30.49    19.20  975.215364          18.86    77.29\n",
       "4  9 DE JULIO_Buenos Aires  2019       5    30.89    19.09  975.215364           3.57    64.00"
      ]
     },
     "execution_count": 182,
     "metadata": {},
     "output_type": "execute_result"
    }
   ],
   "source": [
    "#Nuevamente, aplicamos la misma idea para el df del 2019_2022\n",
    "\n",
    "columnas = [\n",
    "    'TempMax',\n",
    "    'TempMin',\n",
    "    'Presion',\n",
    "    'Precipitacion',\n",
    "    'Humedad'\n",
    "]\n",
    "\n",
    "for col in columnas:\n",
    "    df_temp2019_2022[col].fillna(df_temp2019_2022[col].mean(), inplace=True)\n",
    "\n",
    "# Verificar que no haya nulos\n",
    "print(df_temp2019_2022[columnas].isna().sum())\n",
    "df_temp2019_2022.head()"
   ]
  },
  {
   "cell_type": "markdown",
   "id": "30ca7937-f773-45c0-be19-1903c27f8006",
   "metadata": {},
   "source": [
    "Por las dudas, verificamos si hay nulos en las demás columnas"
   ]
  },
  {
   "cell_type": "code",
   "execution_count": 183,
   "id": "97727cd9-c1da-46ff-9d86-308ad61c6096",
   "metadata": {},
   "outputs": [
    {
     "name": "stdout",
     "output_type": "stream",
     "text": [
      "año                      0\n",
      "Estacion                 0\n",
      "semana epidemiologica    0\n",
      "AVERAGE de Temp, M       0\n",
      "AVERAGE de Temp, m       0\n",
      "AVERAGE de Precip        0\n",
      "AVERAGE de Hum           0\n",
      "dtype: int64\n",
      "Estacion         0\n",
      "Año              0\n",
      "Semana           0\n",
      "TempMax          0\n",
      "TempMin          0\n",
      "Presion          0\n",
      "Precipitacion    0\n",
      "Humedad          0\n",
      "dtype: int64\n"
     ]
    }
   ],
   "source": [
    "print(df_temp2022_2023.isna().sum())\n",
    "print(df_temp2019_2022.isna().sum())"
   ]
  },
  {
   "cell_type": "markdown",
   "id": "f15b1177-9436-438f-820d-f6f69fb40f17",
   "metadata": {},
   "source": [
    "Perfecto!!, ninguna tenia nulos y no perdimos ninguna fila!!. Ahora, debemos unir ambos datasets: este y el anterior\n",
    "\n",
    "Para ello, haremos join por Departamento, semana_epidemiologica y año, pero antes, todo tiene que tener el mismo nombre para que no quede afuera ninguna fila"
   ]
  },
  {
   "cell_type": "code",
   "execution_count": 184,
   "id": "cdb7d1a4-251c-45c1-98c1-56bc802d52cf",
   "metadata": {},
   "outputs": [
    {
     "data": {
      "text/plain": [
       "Index(['año', 'Departamento', 'semanas_epidemiologicas', 'Temperatura Max',\n",
       "       'Temperatura Min', 'Precip', 'Humedad'],\n",
       "      dtype='object')"
      ]
     },
     "execution_count": 184,
     "metadata": {},
     "output_type": "execute_result"
    }
   ],
   "source": [
    "#Entonces, para el dataset del 2022 al 2023\n",
    "# -Renombraremos la columna Estacion por Departamento\n",
    "# -Renombraremos la columna semana epidemiologica por semanas_epidemiologicas\n",
    "\n",
    "#Ademas, ya que estamos, para hacerlo mas legible cambiaremos tambien el nombre del resto de columnas\n",
    "#Average de Temp, m --> Temperatura Min\n",
    "#Average de Temp, M --> Temperatura Max\n",
    "#Average de Precip ---> Precip\n",
    "#Average de Hum ---> Humedad\n",
    "\n",
    "df_temp2022_2023 = df_temp2022_2023.rename(columns={\n",
    "    'Estacion': 'Departamento',\n",
    "    'semana epidemiologica': 'semanas_epidemiologicas',\n",
    "    'AVERAGE de Temp, m' : 'Temperatura Min',\n",
    "    'AVERAGE de Temp, M': 'Temperatura Max',\n",
    "    'AVERAGE de Precip': 'Precip',\n",
    "    'AVERAGE de Hum': 'Humedad',\n",
    "})\n",
    "\n",
    "#Una vez hecho esto verificamos.\n",
    "df_temp2022_2023.columns       # Lista de nombres de columnas"
   ]
  },
  {
   "cell_type": "code",
   "execution_count": 185,
   "id": "fdafe2d3-e00c-49b7-a8c6-6039c0e24b6e",
   "metadata": {},
   "outputs": [
    {
     "data": {
      "text/plain": [
       "Index(['Departamento', 'año', 'semanas_epidemiologicas', 'Temperatura Max',\n",
       "       'Temperatura Min', 'Precip', 'Humedad'],\n",
       "      dtype='object')"
      ]
     },
     "execution_count": 185,
     "metadata": {},
     "output_type": "execute_result"
    }
   ],
   "source": [
    "#Para el df del 2019 al 2022 aplicamos una idea similar, pero debemos hacer mas cambios\n",
    "# -Renombraremos la columna Estacion por Departamento\n",
    "# -Renombraremos la columna Semana por semanas_epidemiologicas\n",
    "\n",
    "#Ademas, ya que estamos, para hacerlo mas legible cambiaremos tambien el nombre del resto de columnas\n",
    "#TempMin --> Temperatura Min\n",
    "#TempMax --> Temperatura Max\n",
    "#Precipitacion ---> Precip\n",
    "\n",
    "df_temp2019_2022 = df_temp2019_2022.rename(columns={\n",
    "    'Año': 'año',\n",
    "    'Estacion': 'Departamento',\n",
    "    'Semana': 'semanas_epidemiologicas',\n",
    "    'TempMin' : 'Temperatura Min',\n",
    "    'TempMax': 'Temperatura Max',\n",
    "    'Precipitacion': 'Precip',\n",
    "})\n",
    "\n",
    "#Ademas, debemos borrar la columna de Presion porque no la usaremos\n",
    "df_temp2019_2022 = df_temp2019_2022.drop(columns=[\"Presion\"])\n",
    "\n",
    "#Una vez hecho esto verificamos.\n",
    "df_temp2019_2022.columns       # Lista de nombres de columnas"
   ]
  },
  {
   "cell_type": "markdown",
   "id": "e4a6455e-bb66-4d1a-85df-fef699a12ae6",
   "metadata": {},
   "source": [
    "Ya que estamos, veremos que departamentos tiene cada csv"
   ]
  },
  {
   "cell_type": "code",
   "execution_count": 186,
   "id": "8906d543-0549-41f5-a631-41819a02f553",
   "metadata": {},
   "outputs": [
    {
     "data": {
      "text/plain": [
       "array(['9 DE JULIO_Buenos Aires', 'AZUL_Buenos Aires',\n",
       "       'BAHÍA BLANCA_Buenos Aires', 'BENITO JUÁREZ_Buenos Aires',\n",
       "       'BOLÍVAR_Buenos Aires', 'CAPITAL_Misiones', 'CAPITAL_Tucumán',\n",
       "       'CONFLUENCIA_Neuquén', 'CORONEL PRINGLES_Buenos Aires',\n",
       "       'CORONEL SUÁREZ_Buenos Aires', 'CÓRDOBA OBSERVATORIO_Córdoba',\n",
       "       'CAPITAL_Córdoba', 'DOLORES_Buenos Aires', 'EZEIZA_Buenos Aires',\n",
       "       'GENERAL MANUEL BELGRANO_Misiones',\n",
       "       'GENERAL PUEYRREDÓN_Buenos Aires', 'IGUAZÚ_Misiones',\n",
       "       'JUNÍN_Buenos Aires', 'LA PLATA_Buenos Aires',\n",
       "       'LAS FLORES_Buenos Aires', 'LÁCAR_Neuquén',\n",
       "       'MARCOS JUÁREZ_Córdoba', 'MERLO_Buenos Aires',\n",
       "       'MORÓN_Buenos Aires', 'OBERÁ_Misiones', 'OLAVARRÍA_Buenos Aires',\n",
       "       'PRESIDENTE ROQUE SÁENZ PEÑA_Córdoba', 'PEHUAJÓ_Buenos Aires',\n",
       "       'PUNTA INDIO_Buenos Aires', 'RÍO CUARTO_Córdoba',\n",
       "       'RÍO SECO_Córdoba', 'SAAVEDRA_Buenos Aires',\n",
       "       'SAN FERNANDO_Buenos Aires', 'SAN JAVIER_Córdoba',\n",
       "       'TANDIL_Buenos Aires', 'TRENQUE LAUQUEN_Buenos Aires',\n",
       "       'TRES ARROYOS_Buenos Aires'], dtype=object)"
      ]
     },
     "execution_count": 186,
     "metadata": {},
     "output_type": "execute_result"
    }
   ],
   "source": [
    "#Primero el de 2022_2023\n",
    "df_temp2022_2023['Departamento'].unique()"
   ]
  },
  {
   "cell_type": "code",
   "execution_count": 187,
   "id": "8da77eb5-8f13-4a41-87d0-59604c021b39",
   "metadata": {},
   "outputs": [
    {
     "data": {
      "text/plain": [
       "array(['9 DE JULIO_Buenos Aires', 'AZUL_Buenos Aires',\n",
       "       'BAHÍA BLANCA_Buenos Aires', 'BENITO JUÁREZ_Buenos Aires',\n",
       "       'BOLÍVAR_Buenos Aires', 'CAPITAL_Córdoba', 'CAPITAL_Misiones',\n",
       "       'CAPITAL_Tucumán', 'CONFLUENCIA_Neuquén',\n",
       "       'CORONEL PRINGLES_Buenos Aires', 'CORONEL SUÁREZ_Buenos Aires',\n",
       "       'DOLORES_Buenos Aires', 'EZEIZA_Buenos Aires',\n",
       "       'GENERAL MANUEL BELGRANO_Misiones',\n",
       "       'GERENAL PUEYRREDÓN_Buenos Aires', 'IGUAZÚ_Misiones',\n",
       "       'JUNÍN_Buenos Aires', 'LA PLATA_Buenos Aires',\n",
       "       'LAS FLORES_Buenos Aires', 'LÁCAR_Neuquén',\n",
       "       'MARCOS JUÁREZ_Córdoba', 'MERLO_Buenos Aires',\n",
       "       'MORÓN_Buenos Aires', 'OBERÁ_Misiones', 'OLAVARRÍA_Buenos Aires',\n",
       "       'PEHUAJÓ_Buenos Aires', 'PRESIDENTE ROQUE SÁENZ PEÑA_Córdoba',\n",
       "       'PUNTA INDIO_Buenos Aires', 'RÍO CUARTO_Córdoba',\n",
       "       'RÍO SECO_Córdoba', 'SAAVEDRA_Buenos Aires',\n",
       "       'SAN FERNANDO_Buenos Aires', 'SAN JAVIER_Córdoba',\n",
       "       'TANDIL_Buenos Aires', 'TRENQUE LAUQUEN_Buenos Aires',\n",
       "       'TRES ARROYOS_Buenos Aires'], dtype=object)"
      ]
     },
     "execution_count": 187,
     "metadata": {},
     "output_type": "execute_result"
    }
   ],
   "source": [
    "#Y lo mismo con el de 2019_2022\n",
    "df_temp2019_2022['Departamento'].unique()"
   ]
  },
  {
   "cell_type": "markdown",
   "id": "87a74569-b0a5-43ee-bc20-6831ba280579",
   "metadata": {},
   "source": [
    "### COMBINAMOS AMBOS DATASETS CORRESPONDIENTES AL CLIMA"
   ]
  },
  {
   "cell_type": "code",
   "execution_count": 188,
   "id": "11dbe892-9649-4846-9ee5-2ffb4edddb1c",
   "metadata": {},
   "outputs": [],
   "source": [
    "df_temp = pd.concat([df_temp2022_2023, df_temp2019_2022], ignore_index=True)"
   ]
  },
  {
   "cell_type": "code",
   "execution_count": 189,
   "id": "4131296c-207a-4f12-a439-7af8b046c659",
   "metadata": {},
   "outputs": [
    {
     "name": "stdout",
     "output_type": "stream",
     "text": [
      "<class 'pandas.core.frame.DataFrame'>\n",
      "RangeIndex: 9476 entries, 0 to 9475\n",
      "Data columns (total 7 columns):\n",
      " #   Column                   Non-Null Count  Dtype  \n",
      "---  ------                   --------------  -----  \n",
      " 0   año                      9476 non-null   int64  \n",
      " 1   Departamento             9476 non-null   object \n",
      " 2   semanas_epidemiologicas  9476 non-null   int64  \n",
      " 3   Temperatura Max          9476 non-null   float64\n",
      " 4   Temperatura Min          9476 non-null   float64\n",
      " 5   Precip                   9476 non-null   float64\n",
      " 6   Humedad                  9476 non-null   float64\n",
      "dtypes: float64(4), int64(2), object(1)\n",
      "memory usage: 518.3+ KB\n"
     ]
    },
    {
     "data": {
      "text/html": [
       "<div>\n",
       "<style scoped>\n",
       "    .dataframe tbody tr th:only-of-type {\n",
       "        vertical-align: middle;\n",
       "    }\n",
       "\n",
       "    .dataframe tbody tr th {\n",
       "        vertical-align: top;\n",
       "    }\n",
       "\n",
       "    .dataframe thead th {\n",
       "        text-align: right;\n",
       "    }\n",
       "</style>\n",
       "<table border=\"1\" class=\"dataframe\">\n",
       "  <thead>\n",
       "    <tr style=\"text-align: right;\">\n",
       "      <th></th>\n",
       "      <th>año</th>\n",
       "      <th>semanas_epidemiologicas</th>\n",
       "      <th>Temperatura Max</th>\n",
       "      <th>Temperatura Min</th>\n",
       "      <th>Precip</th>\n",
       "      <th>Humedad</th>\n",
       "    </tr>\n",
       "  </thead>\n",
       "  <tbody>\n",
       "    <tr>\n",
       "      <th>count</th>\n",
       "      <td>9476.000000</td>\n",
       "      <td>9476.000000</td>\n",
       "      <td>9476.000000</td>\n",
       "      <td>9476.000000</td>\n",
       "      <td>9476.000000</td>\n",
       "      <td>9476.000000</td>\n",
       "    </tr>\n",
       "    <tr>\n",
       "      <th>mean</th>\n",
       "      <td>2021.007598</td>\n",
       "      <td>26.567750</td>\n",
       "      <td>23.372100</td>\n",
       "      <td>10.513208</td>\n",
       "      <td>2.434375</td>\n",
       "      <td>67.435573</td>\n",
       "    </tr>\n",
       "    <tr>\n",
       "      <th>std</th>\n",
       "      <td>1.413073</td>\n",
       "      <td>15.069925</td>\n",
       "      <td>6.253969</td>\n",
       "      <td>5.903377</td>\n",
       "      <td>4.077892</td>\n",
       "      <td>12.292982</td>\n",
       "    </tr>\n",
       "    <tr>\n",
       "      <th>min</th>\n",
       "      <td>2019.000000</td>\n",
       "      <td>1.000000</td>\n",
       "      <td>3.070000</td>\n",
       "      <td>-6.730000</td>\n",
       "      <td>0.000000</td>\n",
       "      <td>23.140000</td>\n",
       "    </tr>\n",
       "    <tr>\n",
       "      <th>25%</th>\n",
       "      <td>2020.000000</td>\n",
       "      <td>14.000000</td>\n",
       "      <td>18.570000</td>\n",
       "      <td>5.830000</td>\n",
       "      <td>0.000000</td>\n",
       "      <td>59.710000</td>\n",
       "    </tr>\n",
       "    <tr>\n",
       "      <th>50%</th>\n",
       "      <td>2021.000000</td>\n",
       "      <td>27.000000</td>\n",
       "      <td>23.572024</td>\n",
       "      <td>10.595000</td>\n",
       "      <td>0.710000</td>\n",
       "      <td>69.000000</td>\n",
       "    </tr>\n",
       "    <tr>\n",
       "      <th>75%</th>\n",
       "      <td>2022.000000</td>\n",
       "      <td>40.000000</td>\n",
       "      <td>28.130000</td>\n",
       "      <td>15.172500</td>\n",
       "      <td>3.170000</td>\n",
       "      <td>76.570000</td>\n",
       "    </tr>\n",
       "    <tr>\n",
       "      <th>max</th>\n",
       "      <td>2023.000000</td>\n",
       "      <td>53.000000</td>\n",
       "      <td>41.440000</td>\n",
       "      <td>27.990000</td>\n",
       "      <td>46.710000</td>\n",
       "      <td>96.000000</td>\n",
       "    </tr>\n",
       "  </tbody>\n",
       "</table>\n",
       "</div>"
      ],
      "text/plain": [
       "               año  semanas_epidemiologicas  Temperatura Max  Temperatura Min       Precip      Humedad\n",
       "count  9476.000000              9476.000000      9476.000000      9476.000000  9476.000000  9476.000000\n",
       "mean   2021.007598                26.567750        23.372100        10.513208     2.434375    67.435573\n",
       "std       1.413073                15.069925         6.253969         5.903377     4.077892    12.292982\n",
       "min    2019.000000                 1.000000         3.070000        -6.730000     0.000000    23.140000\n",
       "25%    2020.000000                14.000000        18.570000         5.830000     0.000000    59.710000\n",
       "50%    2021.000000                27.000000        23.572024        10.595000     0.710000    69.000000\n",
       "75%    2022.000000                40.000000        28.130000        15.172500     3.170000    76.570000\n",
       "max    2023.000000                53.000000        41.440000        27.990000    46.710000    96.000000"
      ]
     },
     "execution_count": 189,
     "metadata": {},
     "output_type": "execute_result"
    }
   ],
   "source": [
    "#Vemos como quedo\n",
    "df_temp.shape         # Dimensiones (filas, columnas)\n",
    "df_temp.columns       # Lista de nombres de columnas\n",
    "df_temp.dtypes        # Tipos de datos por columna\n",
    "df_temp.info()        # Resumen: tipos de datos, no nulos\n",
    "df_temp.describe()    # Estadísticas básicas (solo numéricas)"
   ]
  },
  {
   "cell_type": "markdown",
   "id": "c256c5ee-2bfd-496b-b62a-9b7d48c81c7c",
   "metadata": {},
   "source": [
    "###"
   ]
  },
  {
   "cell_type": "markdown",
   "id": "b41f8c1e-d8c7-40a1-ab76-484e172ed07b",
   "metadata": {},
   "source": [
    "###  Ahora si, uniremos las infecciones respiratorias con el clima"
   ]
  },
  {
   "cell_type": "code",
   "execution_count": 190,
   "id": "c82bddbf-377b-4fbf-9dc0-216d06177f18",
   "metadata": {},
   "outputs": [],
   "source": [
    "# Join natural por Departamento, año y semana\n",
    "df_merged = pd.merge(\n",
    "    df_respiratorias,\n",
    "    df_temp,\n",
    "    how='inner',  # puede ser 'left' si querés conservar todas las filas de respiratorias\n",
    "    on=['Departamento', 'año', 'semanas_epidemiologicas']\n",
    ")"
   ]
  },
  {
   "cell_type": "code",
   "execution_count": 193,
   "id": "50dbde71-32d5-492c-9a3c-4edc53e787f5",
   "metadata": {},
   "outputs": [
    {
     "name": "stdout",
     "output_type": "stream",
     "text": [
      "<class 'pandas.core.frame.DataFrame'>\n",
      "RangeIndex: 90806 entries, 0 to 90805\n",
      "Data columns (total 11 columns):\n",
      " #   Column                   Non-Null Count  Dtype  \n",
      "---  ------                   --------------  -----  \n",
      " 0   Departamento             90806 non-null  object \n",
      " 1   año                      90806 non-null  int64  \n",
      " 2   semanas_epidemiologicas  90806 non-null  int64  \n",
      " 3   evento_nombre            90806 non-null  object \n",
      " 4   grupo_edad_id            90806 non-null  int64  \n",
      " 5   grupo_edad_desc          90806 non-null  object \n",
      " 6   cantidad_casos           90806 non-null  int64  \n",
      " 7   Temperatura Max          90806 non-null  float64\n",
      " 8   Temperatura Min          90806 non-null  float64\n",
      " 9   Precip                   90806 non-null  float64\n",
      " 10  Humedad                  90806 non-null  float64\n",
      "dtypes: float64(4), int64(4), object(3)\n",
      "memory usage: 7.6+ MB\n"
     ]
    },
    {
     "data": {
      "text/html": [
       "<div>\n",
       "<style scoped>\n",
       "    .dataframe tbody tr th:only-of-type {\n",
       "        vertical-align: middle;\n",
       "    }\n",
       "\n",
       "    .dataframe tbody tr th {\n",
       "        vertical-align: top;\n",
       "    }\n",
       "\n",
       "    .dataframe thead th {\n",
       "        text-align: right;\n",
       "    }\n",
       "</style>\n",
       "<table border=\"1\" class=\"dataframe\">\n",
       "  <thead>\n",
       "    <tr style=\"text-align: right;\">\n",
       "      <th></th>\n",
       "      <th>Departamento</th>\n",
       "      <th>año</th>\n",
       "      <th>semanas_epidemiologicas</th>\n",
       "      <th>evento_nombre</th>\n",
       "      <th>grupo_edad_id</th>\n",
       "      <th>grupo_edad_desc</th>\n",
       "      <th>cantidad_casos</th>\n",
       "      <th>Temperatura Max</th>\n",
       "      <th>Temperatura Min</th>\n",
       "      <th>Precip</th>\n",
       "      <th>Humedad</th>\n",
       "    </tr>\n",
       "  </thead>\n",
       "  <tbody>\n",
       "    <tr>\n",
       "      <th>0</th>\n",
       "      <td>CAPITAL_Córdoba</td>\n",
       "      <td>2022</td>\n",
       "      <td>1</td>\n",
       "      <td>Enfermedad tipo influenza (ETI)</td>\n",
       "      <td>12</td>\n",
       "      <td>65 a 74</td>\n",
       "      <td>14</td>\n",
       "      <td>32.77</td>\n",
       "      <td>16.09</td>\n",
       "      <td>0.43</td>\n",
       "      <td>53.14</td>\n",
       "    </tr>\n",
       "    <tr>\n",
       "      <th>1</th>\n",
       "      <td>CAPITAL_Córdoba</td>\n",
       "      <td>2022</td>\n",
       "      <td>1</td>\n",
       "      <td>Neumonía en pacientes ambulatorios</td>\n",
       "      <td>8</td>\n",
       "      <td>20 a 24</td>\n",
       "      <td>1</td>\n",
       "      <td>32.77</td>\n",
       "      <td>16.09</td>\n",
       "      <td>0.43</td>\n",
       "      <td>53.14</td>\n",
       "    </tr>\n",
       "    <tr>\n",
       "      <th>2</th>\n",
       "      <td>CAPITAL_Córdoba</td>\n",
       "      <td>2022</td>\n",
       "      <td>2</td>\n",
       "      <td>Enfermedad tipo influenza (ETI)</td>\n",
       "      <td>9</td>\n",
       "      <td>25 a 34</td>\n",
       "      <td>5</td>\n",
       "      <td>39.03</td>\n",
       "      <td>20.36</td>\n",
       "      <td>1.86</td>\n",
       "      <td>38.29</td>\n",
       "    </tr>\n",
       "    <tr>\n",
       "      <th>3</th>\n",
       "      <td>CAPITAL_Córdoba</td>\n",
       "      <td>2022</td>\n",
       "      <td>2</td>\n",
       "      <td>Neumonía en pacientes internados</td>\n",
       "      <td>9</td>\n",
       "      <td>25 a 34</td>\n",
       "      <td>1</td>\n",
       "      <td>39.03</td>\n",
       "      <td>20.36</td>\n",
       "      <td>1.86</td>\n",
       "      <td>38.29</td>\n",
       "    </tr>\n",
       "    <tr>\n",
       "      <th>4</th>\n",
       "      <td>CAPITAL_Córdoba</td>\n",
       "      <td>2022</td>\n",
       "      <td>3</td>\n",
       "      <td>Neumonía en pacientes ambulatorios</td>\n",
       "      <td>3</td>\n",
       "      <td>12 a 23 m</td>\n",
       "      <td>1</td>\n",
       "      <td>28.46</td>\n",
       "      <td>18.53</td>\n",
       "      <td>17.41</td>\n",
       "      <td>82.57</td>\n",
       "    </tr>\n",
       "    <tr>\n",
       "      <th>5</th>\n",
       "      <td>CAPITAL_Córdoba</td>\n",
       "      <td>2022</td>\n",
       "      <td>4</td>\n",
       "      <td>Enfermedad tipo influenza (ETI)</td>\n",
       "      <td>12</td>\n",
       "      <td>65 a 74</td>\n",
       "      <td>16</td>\n",
       "      <td>28.51</td>\n",
       "      <td>15.81</td>\n",
       "      <td>2.00</td>\n",
       "      <td>77.86</td>\n",
       "    </tr>\n",
       "    <tr>\n",
       "      <th>6</th>\n",
       "      <td>CAPITAL_Córdoba</td>\n",
       "      <td>2022</td>\n",
       "      <td>4</td>\n",
       "      <td>Neumonía en pacientes ambulatorios</td>\n",
       "      <td>8</td>\n",
       "      <td>20 a 24</td>\n",
       "      <td>1</td>\n",
       "      <td>28.51</td>\n",
       "      <td>15.81</td>\n",
       "      <td>2.00</td>\n",
       "      <td>77.86</td>\n",
       "    </tr>\n",
       "    <tr>\n",
       "      <th>7</th>\n",
       "      <td>CAPITAL_Córdoba</td>\n",
       "      <td>2022</td>\n",
       "      <td>7</td>\n",
       "      <td>Enfermedad tipo influenza (ETI)</td>\n",
       "      <td>10</td>\n",
       "      <td>35 a 44</td>\n",
       "      <td>16</td>\n",
       "      <td>29.69</td>\n",
       "      <td>15.37</td>\n",
       "      <td>3.86</td>\n",
       "      <td>74.57</td>\n",
       "    </tr>\n",
       "    <tr>\n",
       "      <th>8</th>\n",
       "      <td>CAPITAL_Córdoba</td>\n",
       "      <td>2022</td>\n",
       "      <td>7</td>\n",
       "      <td>Neumonía en pacientes ambulatorios</td>\n",
       "      <td>10</td>\n",
       "      <td>35 a 44</td>\n",
       "      <td>4</td>\n",
       "      <td>29.69</td>\n",
       "      <td>15.37</td>\n",
       "      <td>3.86</td>\n",
       "      <td>74.57</td>\n",
       "    </tr>\n",
       "    <tr>\n",
       "      <th>9</th>\n",
       "      <td>CAPITAL_Córdoba</td>\n",
       "      <td>2022</td>\n",
       "      <td>7</td>\n",
       "      <td>Neumonía en pacientes internados</td>\n",
       "      <td>10</td>\n",
       "      <td>35 a 44</td>\n",
       "      <td>2</td>\n",
       "      <td>29.69</td>\n",
       "      <td>15.37</td>\n",
       "      <td>3.86</td>\n",
       "      <td>74.57</td>\n",
       "    </tr>\n",
       "  </tbody>\n",
       "</table>\n",
       "</div>"
      ],
      "text/plain": [
       "      Departamento   año  semanas_epidemiologicas                       evento_nombre  grupo_edad_id grupo_edad_desc  cantidad_casos  Temperatura Max  Temperatura Min  Precip  Humedad\n",
       "0  CAPITAL_Córdoba  2022                        1     Enfermedad tipo influenza (ETI)             12         65 a 74              14            32.77            16.09    0.43    53.14\n",
       "1  CAPITAL_Córdoba  2022                        1  Neumonía en pacientes ambulatorios              8         20 a 24               1            32.77            16.09    0.43    53.14\n",
       "2  CAPITAL_Córdoba  2022                        2     Enfermedad tipo influenza (ETI)              9         25 a 34               5            39.03            20.36    1.86    38.29\n",
       "3  CAPITAL_Córdoba  2022                        2    Neumonía en pacientes internados              9         25 a 34               1            39.03            20.36    1.86    38.29\n",
       "4  CAPITAL_Córdoba  2022                        3  Neumonía en pacientes ambulatorios              3       12 a 23 m               1            28.46            18.53   17.41    82.57\n",
       "5  CAPITAL_Córdoba  2022                        4     Enfermedad tipo influenza (ETI)             12         65 a 74              16            28.51            15.81    2.00    77.86\n",
       "6  CAPITAL_Córdoba  2022                        4  Neumonía en pacientes ambulatorios              8         20 a 24               1            28.51            15.81    2.00    77.86\n",
       "7  CAPITAL_Córdoba  2022                        7     Enfermedad tipo influenza (ETI)             10         35 a 44              16            29.69            15.37    3.86    74.57\n",
       "8  CAPITAL_Córdoba  2022                        7  Neumonía en pacientes ambulatorios             10         35 a 44               4            29.69            15.37    3.86    74.57\n",
       "9  CAPITAL_Córdoba  2022                        7    Neumonía en pacientes internados             10         35 a 44               2            29.69            15.37    3.86    74.57"
      ]
     },
     "execution_count": 193,
     "metadata": {},
     "output_type": "execute_result"
    }
   ],
   "source": [
    "#Vemos como quedo\n",
    "df_merged.shape         # Dimensiones (filas, columnas)\n",
    "df_merged.columns       # Lista de nombres de columnas\n",
    "df_merged.dtypes        # Tipos de datos por columna\n",
    "df_merged.info()        # Resumen: tipos de datos, no nulos\n",
    "df_merged.describe()    # Estadísticas básicas (solo numéricas)\n",
    "#observamos las primeras 10 filas\n",
    "df_merged.head(10)"
   ]
  },
  {
   "cell_type": "markdown",
   "id": "06661608-4c8f-42dd-9d88-5b2f30a3ab14",
   "metadata": {},
   "source": [
    "Nos quedaron 90806 Filas en total!!!\n",
    "Y lo guardamos en HDFS"
   ]
  },
  {
   "cell_type": "code",
   "execution_count": 194,
   "id": "f58e2720-0021-40fd-a059-26fd551780fd",
   "metadata": {},
   "outputs": [],
   "source": [
    "df_merged.to_csv('Dataset_Final.csv', encoding='utf-8', index=False)"
   ]
  },
  {
   "cell_type": "markdown",
   "id": "1c4ae50f-1d5d-4932-8a5c-676bad6cc297",
   "metadata": {},
   "source": [
    "### Analicemos el dataset resultante"
   ]
  },
  {
   "cell_type": "markdown",
   "id": "4db71d7d-154e-47fd-9aba-38d6348147a9",
   "metadata": {},
   "source": [
    "Primero haremos un mapa de calor para ver la relacion entre casos por semana y rango de tempratura"
   ]
  },
  {
   "cell_type": "code",
   "execution_count": 195,
   "id": "e94a09ea-bafc-4071-ad1a-23258f95081c",
   "metadata": {},
   "outputs": [
    {
     "name": "stderr",
     "output_type": "stream",
     "text": [
      "/tmp/ipykernel_2680639/3571044261.py:8: DeprecationWarning: is_interval_dtype is deprecated and will be removed in a future version. Use `isinstance(dtype, pd.IntervalDtype)` instead\n",
      "  if pd.api.types.is_interval_dtype(s):\n"
     ]
    },
    {
     "data": {
      "image/png": "[encoded data removed]",
      "text/plain": [
       "<Figure size 1200x800 with 2 Axes>"
      ]
     },
     "metadata": {},
     "output_type": "display_data"
    }
   ],
   "source": [
    "import seaborn as sns\n",
    "import matplotlib.pyplot as plt\n",
    "\n",
    "# Aseguramos semana numérica\n",
    "df_merged['semanas_epidemiologicas'] = pd.to_numeric(df_merged['semanas_epidemiologicas'], errors='coerce')\n",
    "\n",
    "s = df_merged['Temperatura Min']\n",
    "if pd.api.types.is_interval_dtype(s):\n",
    "    s_num = s.mid                      # toma el punto medio del intervalo\n",
    "else:\n",
    "    s_num = pd.to_numeric(s, errors='coerce')\n",
    "\n",
    "df_merged['temp_rango'] = pd.cut(s_num, bins=5)\n",
    "\n",
    "heatmap_data = (df_merged\n",
    "    .groupby(['semanas_epidemiologicas', 'temp_rango'], observed=True)['cantidad_casos']\n",
    "    .sum()\n",
    "    .unstack(fill_value=0)\n",
    "    .sort_index()\n",
    ")\n",
    "\n",
    "plt.figure(figsize=(12, 8))\n",
    "sns.heatmap(heatmap_data, cmap=\"YlGnBu\")\n",
    "plt.title(\"Heatmap de casos por semana y rango de temperatura\")\n",
    "plt.xlabel(\"Rango de temperatura\")\n",
    "plt.ylabel(\"Semana epidemiológica\")\n",
    "plt.tight_layout()\n",
    "plt.show()"
   ]
  },
  {
   "cell_type": "markdown",
   "id": "7814db69-657f-417c-ba5d-1a8e01fc35ba",
   "metadata": {},
   "source": [
    "Ahora, calcularemos la correlacion entre la Temperatura Mínima y la cantidad de casos"
   ]
  },
  {
   "cell_type": "code",
   "execution_count": 196,
   "id": "d7d976a3-8dca-4892-94a7-9f74712270cd",
   "metadata": {},
   "outputs": [
    {
     "name": "stdout",
     "output_type": "stream",
     "text": [
      "                 Temperatura Min  cantidad_casos\n",
      "Temperatura Min         1.000000       -0.037151\n",
      "cantidad_casos         -0.037151        1.000000\n"
     ]
    }
   ],
   "source": [
    "corr = df_merged[['Temperatura Min', 'cantidad_casos']].corr()\n",
    "print(corr)"
   ]
  },
  {
   "cell_type": "markdown",
   "id": "9e0b9058-ba0e-42f3-8830-3ef13ece5374",
   "metadata": {},
   "source": [
    "Intentemos calcularla una vez mas, pero ahora agrupando por semana_epidemiologica"
   ]
  },
  {
   "cell_type": "code",
   "execution_count": 197,
   "id": "c5490618-3749-4daf-a9ea-4a7d26e7ce42",
   "metadata": {},
   "outputs": [
    {
     "data": {
      "text/html": [
       "<div>\n",
       "<style scoped>\n",
       "    .dataframe tbody tr th:only-of-type {\n",
       "        vertical-align: middle;\n",
       "    }\n",
       "\n",
       "    .dataframe tbody tr th {\n",
       "        vertical-align: top;\n",
       "    }\n",
       "\n",
       "    .dataframe thead th {\n",
       "        text-align: right;\n",
       "    }\n",
       "</style>\n",
       "<table border=\"1\" class=\"dataframe\">\n",
       "  <thead>\n",
       "    <tr style=\"text-align: right;\">\n",
       "      <th></th>\n",
       "      <th>Temperatura Min</th>\n",
       "      <th>cantidad_casos</th>\n",
       "    </tr>\n",
       "  </thead>\n",
       "  <tbody>\n",
       "    <tr>\n",
       "      <th>Temperatura Min</th>\n",
       "      <td>1.000000</td>\n",
       "      <td>-0.760203</td>\n",
       "    </tr>\n",
       "    <tr>\n",
       "      <th>cantidad_casos</th>\n",
       "      <td>-0.760203</td>\n",
       "      <td>1.000000</td>\n",
       "    </tr>\n",
       "  </tbody>\n",
       "</table>\n",
       "</div>"
      ],
      "text/plain": [
       "                 Temperatura Min  cantidad_casos\n",
       "Temperatura Min         1.000000       -0.760203\n",
       "cantidad_casos         -0.760203        1.000000"
      ]
     },
     "execution_count": 197,
     "metadata": {},
     "output_type": "execute_result"
    }
   ],
   "source": [
    "tmp = (df_merged.groupby(['semanas_epidemiologicas'])[['Temperatura Min','cantidad_casos']]\n",
    "                  .mean().reset_index())\n",
    "tmp[['Temperatura Min','cantidad_casos']].corr()"
   ]
  },
  {
   "cell_type": "markdown",
   "id": "d54a73d3-57cd-4512-b4cf-ab4ff515a50d",
   "metadata": {},
   "source": [
    "¿Por qué ahora sí aparece correlación?\n",
    "Porque antes se estaban observando todos los datos crudos, incluyendo:\n",
    " - Variaciones entre provincias, días, grupos etarios, etc.\n",
    " - Datos no alineados temporalmente. <br>\n",
    "Al agrupar por semana, eliminamos el ruido y se revela la tendencia real a nivel temporal."
   ]
  },
  {
   "cell_type": "code",
   "execution_count": 198,
   "id": "6774ddf7-790b-4797-8f95-694c3e6e1121",
   "metadata": {},
   "outputs": [
    {
     "data": {
      "image/png": "[encoded data removed]",
      "text/plain": [
       "<Figure size 1200x600 with 2 Axes>"
      ]
     },
     "metadata": {},
     "output_type": "display_data"
    }
   ],
   "source": [
    "plt.figure(figsize=(12,6))\n",
    "plt.plot(tmp['semanas_epidemiologicas'], tmp['cantidad_casos'], label='Casos', color='red')\n",
    "plt.twinx()\n",
    "plt.plot(tmp['semanas_epidemiologicas'], tmp['Temperatura Min'], label='Temp Min', color='blue')\n",
    "plt.title(\"Casos vs Temperatura mínima (por semana)\")\n",
    "plt.xlabel(\"Semana Epidemiológica\")\n",
    "plt.legend(loc='upper left')\n",
    "plt.show()"
   ]
  },
  {
   "cell_type": "code",
   "execution_count": 199,
   "id": "dc3d422f-9c03-412e-a7e3-14c4c06356b6",
   "metadata": {},
   "outputs": [
    {
     "data": {
      "image/png": "[encoded data removed]",
      "text/plain": [
       "<Figure size 1200x600 with 2 Axes>"
      ]
     },
     "metadata": {},
     "output_type": "display_data"
    }
   ],
   "source": [
    "agg = (\n",
    "    df_merged\n",
    "    .groupby('semanas_epidemiologicas')[['cantidad_casos', 'Temperatura Min']]\n",
    "    .agg({'cantidad_casos': 'sum', 'Temperatura Min': 'mean'})\n",
    "    .reset_index()\n",
    "    .sort_values('semanas_epidemiologicas')\n",
    ")\n",
    "\n",
    "fig, ax1 = plt.subplots(figsize=(12, 6))\n",
    "\n",
    "# Casos (eje izquierdo) – rojo\n",
    "l1 = ax1.plot(\n",
    "    agg['semanas_epidemiologicas'],\n",
    "    agg['cantidad_casos'],\n",
    "    color='tab:red', marker='o', label='Casos'\n",
    ")\n",
    "ax1.set_xlabel('Semana epidemiológica')\n",
    "ax1.set_ylabel('Cantidad de casos', color='tab:red')\n",
    "ax1.tick_params(axis='y', labelcolor='tab:red')\n",
    "\n",
    "# Temperatura mínima (eje derecho) – azul\n",
    "ax2 = ax1.twinx()\n",
    "l2 = ax2.plot(\n",
    "    agg['semanas_epidemiologicas'],\n",
    "    agg['Temperatura Min'],\n",
    "    color='tab:blue', marker='s', linestyle='--', label='Temp. mínima (°C)'\n",
    ")\n",
    "ax2.set_ylabel('Temperatura mínima (°C)', color='tab:blue')\n",
    "ax2.tick_params(axis='y', labelcolor='tab:blue')\n",
    "\n",
    "# Leyenda combinada\n",
    "lines = l1 + l2\n",
    "labels = [l.get_label() for l in lines]\n",
    "ax1.legend(lines, labels, loc='upper right')\n",
    "\n",
    "plt.title('Casos vs Temperatura mínima por semana epidemiológica')\n",
    "plt.tight_layout()\n",
    "plt.show()\n"
   ]
  },
  {
   "cell_type": "markdown",
   "id": "d754f005-495c-4901-853e-a17802e995ed",
   "metadata": {},
   "source": [
    "###"
   ]
  },
  {
   "cell_type": "markdown",
   "id": "ba4e20a4-2cba-4790-932d-dd1f0da8b26c",
   "metadata": {},
   "source": [
    "### COMENZEMOS CON EL MODELO LIGHTGBM"
   ]
  },
  {
   "cell_type": "markdown",
   "id": "01fe7b9e-b3e5-4d71-b8ee-fb48f1cee6c4",
   "metadata": {},
   "source": [
    "LightGBM es una herramienta de inteligencia artificial que se usa para hacer predicciones, como por ejemplo: predecir si va a llover, cuántos casos de gripe habrá, o si una persona va a pagar un préstamo.\n",
    "\n",
    "Funciona aprendiendo de muchos datos anteriores, y lo hace usando algo parecido a “árboles de decisión”, que son como caminos que ayudan a tomar decisiones. Lo que tiene de especial es que es muy rápido y preciso, incluso cuando hay muchísima información para analizar.\n",
    "\n"
   ]
  },
  {
   "cell_type": "markdown",
   "id": "9684676a-5ae2-4b04-9f3f-997e68279354",
   "metadata": {},
   "source": [
    "Primero debemos instalarlo en caso de que no lo tengamos. Al finalizar la instalacion, se debe reiniciar el kernel"
   ]
  },
  {
   "cell_type": "code",
   "execution_count": 200,
   "id": "81e6f83a-a069-42a3-9cf5-28ecc917c650",
   "metadata": {},
   "outputs": [
    {
     "name": "stdout",
     "output_type": "stream",
     "text": [
      "Defaulting to user installation because normal site-packages is not writeable\n",
      "Requirement already satisfied: lightgbm in /export/home/malena.rivera/.local/lib/python3.11/site-packages (4.6.0)\n",
      "Requirement already satisfied: numpy>=1.17.0 in /export/home/malena.rivera/.local/lib/python3.11/site-packages (from lightgbm) (1.26.4)\n",
      "Requirement already satisfied: scipy in /usr/local/lib/python3.11/dist-packages (from lightgbm) (1.15.2)\n",
      "Note: you may need to restart the kernel to use updated packages.\n"
     ]
    }
   ],
   "source": [
    "%pip install lightgbm --break-system-packages"
   ]
  },
  {
   "cell_type": "markdown",
   "id": "73184c30-36c4-4bda-9b96-1a4a408a9828",
   "metadata": {},
   "source": [
    "Luego, uniremos todos los casos de la misma semana epidemiologica, departamento y año. Al realizar esta agrupacion nos terminan quedado 6402 filas con 8 columnas"
   ]
  },
  {
   "cell_type": "code",
   "execution_count": 201,
   "id": "165f1347-60de-48d2-86aa-add92190151d",
   "metadata": {},
   "outputs": [
    {
     "data": {
      "text/plain": [
       "(6402, 8)"
      ]
     },
     "execution_count": 201,
     "metadata": {},
     "output_type": "execute_result"
    }
   ],
   "source": [
    "df_sumado = (\n",
    "    df_merged\n",
    "    .groupby(['Departamento', 'año', 'semanas_epidemiologicas'], as_index=False)\n",
    "    .agg({\n",
    "        'cantidad_casos': 'sum',\n",
    "        'Temperatura Max': 'mean',\n",
    "        'Temperatura Min': 'mean',\n",
    "        'Precip': 'mean',\n",
    "        'Humedad': 'mean'\n",
    "    })\n",
    ")\n",
    "df_sumado.shape   "
   ]
  },
  {
   "cell_type": "markdown",
   "id": "d6ba24ce-2ffc-4f5e-89a1-bc52eec94772",
   "metadata": {},
   "source": [
    "Una vez preparado el dataset, agregamos el dataset de temperaturas de 2024. Esto con el fin de que el modelo prediga la cantidad de casos del 2024 y luego comparar esos resultados con los valores reales. <br> Antes que nada, debemos darle el mismo formato que hicimos antes con los datasets del clima."
   ]
  },
  {
   "cell_type": "code",
   "execution_count": 202,
   "id": "de5fb3be-e2b0-41e2-9c50-f2cb6d012acd",
   "metadata": {},
   "outputs": [],
   "source": [
    "#Lo leemos\n",
    "Temperaturas_2024 = pd.read_csv(\"./Temperaturas_2024.csv\")"
   ]
  },
  {
   "cell_type": "code",
   "execution_count": 203,
   "id": "92bc1755-bc0c-41ee-b7ab-c5b42bd522d4",
   "metadata": {},
   "outputs": [
    {
     "name": "stdout",
     "output_type": "stream",
     "text": [
      "AVERAGE de Temp, M    float64\n",
      "AVERAGE de Temp, m    float64\n",
      "AVERAGE de Precip     float64\n",
      "AVERAGE de Hum        float64\n",
      "dtype: object\n",
      "AVERAGE de Temp, M    103\n",
      "AVERAGE de Temp, m      7\n",
      "AVERAGE de Precip       2\n",
      "AVERAGE de Hum          3\n",
      "dtype: int64\n"
     ]
    },
    {
     "data": {
      "text/html": [
       "<div>\n",
       "<style scoped>\n",
       "    .dataframe tbody tr th:only-of-type {\n",
       "        vertical-align: middle;\n",
       "    }\n",
       "\n",
       "    .dataframe tbody tr th {\n",
       "        vertical-align: top;\n",
       "    }\n",
       "\n",
       "    .dataframe thead th {\n",
       "        text-align: right;\n",
       "    }\n",
       "</style>\n",
       "<table border=\"1\" class=\"dataframe\">\n",
       "  <thead>\n",
       "    <tr style=\"text-align: right;\">\n",
       "      <th></th>\n",
       "      <th>año</th>\n",
       "      <th>Estacion</th>\n",
       "      <th>semana epidemiologica</th>\n",
       "      <th>AVERAGE de Temp, M</th>\n",
       "      <th>AVERAGE de Temp, m</th>\n",
       "      <th>AVERAGE de Precip</th>\n",
       "      <th>AVERAGE de Hum</th>\n",
       "    </tr>\n",
       "  </thead>\n",
       "  <tbody>\n",
       "    <tr>\n",
       "      <th>0</th>\n",
       "      <td>2024</td>\n",
       "      <td>9 DE JULIO_Buenos Aires</td>\n",
       "      <td>1</td>\n",
       "      <td>30.90</td>\n",
       "      <td>17.73</td>\n",
       "      <td>2.47</td>\n",
       "      <td>66.56</td>\n",
       "    </tr>\n",
       "    <tr>\n",
       "      <th>1</th>\n",
       "      <td>2024</td>\n",
       "      <td>9 DE JULIO_Buenos Aires</td>\n",
       "      <td>2</td>\n",
       "      <td>30.26</td>\n",
       "      <td>16.40</td>\n",
       "      <td>2.13</td>\n",
       "      <td>60.14</td>\n",
       "    </tr>\n",
       "    <tr>\n",
       "      <th>2</th>\n",
       "      <td>2024</td>\n",
       "      <td>9 DE JULIO_Buenos Aires</td>\n",
       "      <td>3</td>\n",
       "      <td>30.26</td>\n",
       "      <td>15.39</td>\n",
       "      <td>1.23</td>\n",
       "      <td>58.14</td>\n",
       "    </tr>\n",
       "    <tr>\n",
       "      <th>3</th>\n",
       "      <td>2024</td>\n",
       "      <td>9 DE JULIO_Buenos Aires</td>\n",
       "      <td>4</td>\n",
       "      <td>32.16</td>\n",
       "      <td>15.74</td>\n",
       "      <td>0.00</td>\n",
       "      <td>51.14</td>\n",
       "    </tr>\n",
       "    <tr>\n",
       "      <th>4</th>\n",
       "      <td>2024</td>\n",
       "      <td>9 DE JULIO_Buenos Aires</td>\n",
       "      <td>5</td>\n",
       "      <td>36.31</td>\n",
       "      <td>18.90</td>\n",
       "      <td>0.00</td>\n",
       "      <td>47.43</td>\n",
       "    </tr>\n",
       "    <tr>\n",
       "      <th>5</th>\n",
       "      <td>2024</td>\n",
       "      <td>9 DE JULIO_Buenos Aires</td>\n",
       "      <td>6</td>\n",
       "      <td>31.66</td>\n",
       "      <td>19.80</td>\n",
       "      <td>7.74</td>\n",
       "      <td>74.57</td>\n",
       "    </tr>\n",
       "    <tr>\n",
       "      <th>6</th>\n",
       "      <td>2024</td>\n",
       "      <td>9 DE JULIO_Buenos Aires</td>\n",
       "      <td>7</td>\n",
       "      <td>28.06</td>\n",
       "      <td>13.97</td>\n",
       "      <td>0.07</td>\n",
       "      <td>62.43</td>\n",
       "    </tr>\n",
       "    <tr>\n",
       "      <th>7</th>\n",
       "      <td>2024</td>\n",
       "      <td>9 DE JULIO_Buenos Aires</td>\n",
       "      <td>8</td>\n",
       "      <td>30.41</td>\n",
       "      <td>17.39</td>\n",
       "      <td>1.86</td>\n",
       "      <td>63.29</td>\n",
       "    </tr>\n",
       "    <tr>\n",
       "      <th>8</th>\n",
       "      <td>2024</td>\n",
       "      <td>9 DE JULIO_Buenos Aires</td>\n",
       "      <td>9</td>\n",
       "      <td>30.07</td>\n",
       "      <td>17.90</td>\n",
       "      <td>0.69</td>\n",
       "      <td>63.29</td>\n",
       "    </tr>\n",
       "    <tr>\n",
       "      <th>9</th>\n",
       "      <td>2024</td>\n",
       "      <td>9 DE JULIO_Buenos Aires</td>\n",
       "      <td>10</td>\n",
       "      <td>27.91</td>\n",
       "      <td>14.34</td>\n",
       "      <td>3.03</td>\n",
       "      <td>61.57</td>\n",
       "    </tr>\n",
       "  </tbody>\n",
       "</table>\n",
       "</div>"
      ],
      "text/plain": [
       "    año                 Estacion  semana epidemiologica  AVERAGE de Temp, M  AVERAGE de Temp, m  AVERAGE de Precip  AVERAGE de Hum\n",
       "0  2024  9 DE JULIO_Buenos Aires                      1               30.90               17.73               2.47           66.56\n",
       "1  2024  9 DE JULIO_Buenos Aires                      2               30.26               16.40               2.13           60.14\n",
       "2  2024  9 DE JULIO_Buenos Aires                      3               30.26               15.39               1.23           58.14\n",
       "3  2024  9 DE JULIO_Buenos Aires                      4               32.16               15.74               0.00           51.14\n",
       "4  2024  9 DE JULIO_Buenos Aires                      5               36.31               18.90               0.00           47.43\n",
       "5  2024  9 DE JULIO_Buenos Aires                      6               31.66               19.80               7.74           74.57\n",
       "6  2024  9 DE JULIO_Buenos Aires                      7               28.06               13.97               0.07           62.43\n",
       "7  2024  9 DE JULIO_Buenos Aires                      8               30.41               17.39               1.86           63.29\n",
       "8  2024  9 DE JULIO_Buenos Aires                      9               30.07               17.90               0.69           63.29\n",
       "9  2024  9 DE JULIO_Buenos Aires                     10               27.91               14.34               3.03           61.57"
      ]
     },
     "execution_count": 203,
     "metadata": {},
     "output_type": "execute_result"
    }
   ],
   "source": [
    "#Hay algunas columnas que salen como object cuando deberian ser float, esto se debe a la coma decimal\n",
    "#Debemos conbertir la coma (,) a punto (.)\n",
    "# Lista de columnas a convertir\n",
    "columnas = [\n",
    "     'AVERAGE de Temp, M',\n",
    "    'AVERAGE de Temp, m',\n",
    "    'AVERAGE de Precip',\n",
    "    'AVERAGE de Hum'\n",
    "]\n",
    "\n",
    "#convertimos\n",
    "for col in columnas:\n",
    "    Temperaturas_2024[col] = Temperaturas_2024[col].str.replace(',', '.', regex=False)              # convierte coma decimal a punto\n",
    "    Temperaturas_2024[col] = pd.to_numeric(Temperaturas_2024[col], errors='coerce')                 # convierte a float\n",
    "\n",
    "# vemos si hay nulos (temperatura maxima tiene)\n",
    "print(Temperaturas_2024[columnas].dtypes)\n",
    "print(Temperaturas_2024[columnas].isna().sum())\n",
    "Temperaturas_2024.head(10)"
   ]
  },
  {
   "cell_type": "code",
   "execution_count": 204,
   "id": "5e0db56c-593e-4cfb-a07b-9d25149a0930",
   "metadata": {},
   "outputs": [
    {
     "name": "stdout",
     "output_type": "stream",
     "text": [
      "AVERAGE de Temp, M    0\n",
      "AVERAGE de Temp, m    0\n",
      "AVERAGE de Precip     0\n",
      "AVERAGE de Hum        0\n",
      "dtype: int64\n"
     ]
    },
    {
     "name": "stderr",
     "output_type": "stream",
     "text": [
      "/tmp/ipykernel_2680639/1193184795.py:12: FutureWarning: A value is trying to be set on a copy of a DataFrame or Series through chained assignment using an inplace method.\n",
      "The behavior will change in pandas 3.0. This inplace method will never work because the intermediate object on which we are setting values always behaves as a copy.\n",
      "\n",
      "For example, when doing 'df[col].method(value, inplace=True)', try using 'df.method({col: value}, inplace=True)' or df[col] = df[col].method(value) instead, to perform the operation inplace on the original object.\n",
      "\n",
      "\n",
      "  Temperaturas_2024[col].fillna(Temperaturas_2024[col].mean(), inplace=True)\n"
     ]
    },
    {
     "data": {
      "text/html": [
       "<div>\n",
       "<style scoped>\n",
       "    .dataframe tbody tr th:only-of-type {\n",
       "        vertical-align: middle;\n",
       "    }\n",
       "\n",
       "    .dataframe tbody tr th {\n",
       "        vertical-align: top;\n",
       "    }\n",
       "\n",
       "    .dataframe thead th {\n",
       "        text-align: right;\n",
       "    }\n",
       "</style>\n",
       "<table border=\"1\" class=\"dataframe\">\n",
       "  <thead>\n",
       "    <tr style=\"text-align: right;\">\n",
       "      <th></th>\n",
       "      <th>año</th>\n",
       "      <th>Estacion</th>\n",
       "      <th>semana epidemiologica</th>\n",
       "      <th>AVERAGE de Temp, M</th>\n",
       "      <th>AVERAGE de Temp, m</th>\n",
       "      <th>AVERAGE de Precip</th>\n",
       "      <th>AVERAGE de Hum</th>\n",
       "    </tr>\n",
       "  </thead>\n",
       "  <tbody>\n",
       "    <tr>\n",
       "      <th>0</th>\n",
       "      <td>2024</td>\n",
       "      <td>9 DE JULIO_Buenos Aires</td>\n",
       "      <td>1</td>\n",
       "      <td>30.90</td>\n",
       "      <td>17.73</td>\n",
       "      <td>2.47</td>\n",
       "      <td>66.56</td>\n",
       "    </tr>\n",
       "    <tr>\n",
       "      <th>1</th>\n",
       "      <td>2024</td>\n",
       "      <td>9 DE JULIO_Buenos Aires</td>\n",
       "      <td>2</td>\n",
       "      <td>30.26</td>\n",
       "      <td>16.40</td>\n",
       "      <td>2.13</td>\n",
       "      <td>60.14</td>\n",
       "    </tr>\n",
       "    <tr>\n",
       "      <th>2</th>\n",
       "      <td>2024</td>\n",
       "      <td>9 DE JULIO_Buenos Aires</td>\n",
       "      <td>3</td>\n",
       "      <td>30.26</td>\n",
       "      <td>15.39</td>\n",
       "      <td>1.23</td>\n",
       "      <td>58.14</td>\n",
       "    </tr>\n",
       "    <tr>\n",
       "      <th>3</th>\n",
       "      <td>2024</td>\n",
       "      <td>9 DE JULIO_Buenos Aires</td>\n",
       "      <td>4</td>\n",
       "      <td>32.16</td>\n",
       "      <td>15.74</td>\n",
       "      <td>0.00</td>\n",
       "      <td>51.14</td>\n",
       "    </tr>\n",
       "    <tr>\n",
       "      <th>4</th>\n",
       "      <td>2024</td>\n",
       "      <td>9 DE JULIO_Buenos Aires</td>\n",
       "      <td>5</td>\n",
       "      <td>36.31</td>\n",
       "      <td>18.90</td>\n",
       "      <td>0.00</td>\n",
       "      <td>47.43</td>\n",
       "    </tr>\n",
       "  </tbody>\n",
       "</table>\n",
       "</div>"
      ],
      "text/plain": [
       "    año                 Estacion  semana epidemiologica  AVERAGE de Temp, M  AVERAGE de Temp, m  AVERAGE de Precip  AVERAGE de Hum\n",
       "0  2024  9 DE JULIO_Buenos Aires                      1               30.90               17.73               2.47           66.56\n",
       "1  2024  9 DE JULIO_Buenos Aires                      2               30.26               16.40               2.13           60.14\n",
       "2  2024  9 DE JULIO_Buenos Aires                      3               30.26               15.39               1.23           58.14\n",
       "3  2024  9 DE JULIO_Buenos Aires                      4               32.16               15.74               0.00           51.14\n",
       "4  2024  9 DE JULIO_Buenos Aires                      5               36.31               18.90               0.00           47.43"
      ]
     },
     "execution_count": 204,
     "metadata": {},
     "output_type": "execute_result"
    }
   ],
   "source": [
    "#En caso de que haya nulos, nuevamente no podemos correr con el riesgo de perder datos, ya que cada fila corresponde a una semana epidemioloogica\n",
    "#Por lo tanto, completaremos los valores faltantes con el valor promedio\n",
    "\n",
    "columnas = [\n",
    "     'AVERAGE de Temp, M',\n",
    "    'AVERAGE de Temp, m',\n",
    "    'AVERAGE de Precip',\n",
    "    'AVERAGE de Hum'\n",
    "]\n",
    "\n",
    "for col in columnas:\n",
    "    Temperaturas_2024[col].fillna(Temperaturas_2024[col].mean(), inplace=True)\n",
    "\n",
    "# Verificar que no haya nulos\n",
    "print(Temperaturas_2024[columnas].isna().sum())\n",
    "Temperaturas_2024.head()"
   ]
  },
  {
   "cell_type": "code",
   "execution_count": 205,
   "id": "ea20a61c-2fbb-45a9-aa45-193758442115",
   "metadata": {},
   "outputs": [
    {
     "data": {
      "text/plain": [
       "Index(['año', 'Departamento', 'semanas_epidemiologicas', 'Temperatura Max',\n",
       "       'Temperatura Min', 'Precip', 'Humedad'],\n",
       "      dtype='object')"
      ]
     },
     "execution_count": 205,
     "metadata": {},
     "output_type": "execute_result"
    }
   ],
   "source": [
    "#Poe ultimo: \n",
    "# -Renombraremos la columna Estacion por Departamento\n",
    "# -Renombraremos la columna semana epidemiologica por semanas_epidemiologicas\n",
    "\n",
    "#Ademas, ya que estamos, para hacerlo mas legible cambiaremos tambien el nombre del resto de columnas\n",
    "#Average de Temp, m --> Temperatura Min\n",
    "#Average de Temp, M --> Temperatura Max\n",
    "#Average de Precip ---> Precip\n",
    "#Average de Hum ---> Humedad\n",
    "\n",
    "Temperaturas_2024 = Temperaturas_2024.rename(columns={\n",
    "    'Estacion': 'Departamento',\n",
    "    'semana epidemiologica': 'semanas_epidemiologicas',\n",
    "    'AVERAGE de Temp, m' : 'Temperatura Min',\n",
    "    'AVERAGE de Temp, M': 'Temperatura Max',\n",
    "    'AVERAGE de Precip': 'Precip',\n",
    "    'AVERAGE de Hum': 'Humedad',\n",
    "})\n",
    "\n",
    "#Una vez hecho esto verificamos.\n",
    "Temperaturas_2024.columns       # Lista de nombres de columnas"
   ]
  },
  {
   "cell_type": "markdown",
   "id": "49712569-3000-4525-93c2-2d013766f286",
   "metadata": {},
   "source": [
    "### PROBEMOS EL MODELO"
   ]
  },
  {
   "cell_type": "markdown",
   "id": "91ae2d5a-867c-4334-90d6-f3c9ae23f592",
   "metadata": {},
   "source": [
    "Descripcion del funcionamiento del algoritmo:\n",
    "\n",
    "forecast_with_climate(): Esta función toma el modelo entrenado y lo usa para hacer predicciones semanales hacia adelante, usando datos climáticos reales del dataset Temperaturas_2024."
   ]
  },
  {
   "cell_type": "code",
   "execution_count": 206,
   "id": "19f6198b-d264-4313-a3b6-07c859847cc1",
   "metadata": {},
   "outputs": [
    {
     "name": "stdout",
     "output_type": "stream",
     "text": [
      "[LightGBM] [Warning] Found whitespace in feature_names, replace with underlines\n",
      "[LightGBM] [Info] Auto-choosing col-wise multi-threading, the overhead of testing was 0.009857 seconds.\n",
      "You can set `force_col_wise=true` to remove the overhead.\n",
      "[LightGBM] [Info] Total Bins 4186\n",
      "[LightGBM] [Info] Number of data points in the train set: 5012, number of used features: 20\n",
      "[LightGBM] [Warning] Found whitespace in feature_names, replace with underlines\n",
      "[LightGBM] [Info] Start training from score 119.273943\n",
      "Training until validation scores don't improve for 200 rounds\n",
      "[200]\tvalid_0's l1: 15.3812\tvalid_0's l2: 1681.55\n",
      "[400]\tvalid_0's l1: 12.2846\tvalid_0's l2: 1295.44\n",
      "[600]\tvalid_0's l1: 11.6448\tvalid_0's l2: 1206.43\n",
      "[800]\tvalid_0's l1: 11.4943\tvalid_0's l2: 1192.49\n",
      "[1000]\tvalid_0's l1: 11.4891\tvalid_0's l2: 1201.11\n",
      "Early stopping, best iteration is:\n",
      "[849]\tvalid_0's l1: 11.4596\tvalid_0's l2: 1186.29\n",
      "MAE valid: 11.459616039100498\n",
      "Promedio de casos reales en validación: 171.20416333066453\n",
      "MAE como porcentaje: 6.6935381804748175\n"
     ]
    },
    {
     "name": "stderr",
     "output_type": "stream",
     "text": [
      "/tmp/ipykernel_2680639/805166244.py:61: FutureWarning: The default of observed=False is deprecated and will be changed to True in a future version of pandas. Pass observed=False to retain current behavior or observed=True to adopt the future default and silence this warning.\n",
      "  for depto, last in last_all.groupby('Departamento'):\n"
     ]
    },
    {
     "name": "stdout",
     "output_type": "stream",
     "text": [
      "              Departamento         ds  semanas_epidemiologicas  cantidad_casos_pred\n",
      "0  9 DE JULIO_Buenos Aires 2024-01-01                        1             4.925096\n",
      "1  9 DE JULIO_Buenos Aires 2024-01-08                        2             4.408566\n",
      "2  9 DE JULIO_Buenos Aires 2024-01-15                        3             5.217375\n",
      "3  9 DE JULIO_Buenos Aires 2024-01-22                        4             5.320851\n",
      "4  9 DE JULIO_Buenos Aires 2024-01-29                        5             4.952865\n",
      "5  9 DE JULIO_Buenos Aires 2024-02-05                        6             5.084340\n",
      "6  9 DE JULIO_Buenos Aires 2024-02-12                        7             4.970968\n",
      "7  9 DE JULIO_Buenos Aires 2024-02-19                        8             4.941649\n",
      "8  9 DE JULIO_Buenos Aires 2024-02-26                        9             4.975523\n",
      "9  9 DE JULIO_Buenos Aires 2024-03-04                       10             5.041042\n"
     ]
    }
   ],
   "source": [
    "import numpy as np\n",
    "import lightgbm as lgb\n",
    "from sklearn.metrics import mean_absolute_error\n",
    "\n",
    "pd.set_option('display.width', None)\n",
    "pd.set_option('display.max_columns', None)\n",
    "pd.set_option('display.expand_frame_repr', False)\n",
    "\n",
    "# ============================================================\n",
    "# 0) Función para predecir usando clima real (definir primero)\n",
    "# ============================================================\n",
    "def forecast_with_climate(\n",
    "    model,\n",
    "    grp_model,              # dataset ya featurizado con el que entrenaste\n",
    "    Temperaturas_2024,      # clima futuro real\n",
    "    feature_cols,\n",
    "    cat_cols,\n",
    "    cat_categories,\n",
    "    n_weeks=None            # si querés cortar las semanas del clima\n",
    "):\n",
    "    def estacion(sem):\n",
    "        if 22 <= sem <= 39:\n",
    "            return 'invierno'\n",
    "        elif 40 <= sem or sem <= 12:\n",
    "            return 'prim_ver'\n",
    "        else:\n",
    "            return 'oto_inv'\n",
    "\n",
    "    def make_ds(year, week):\n",
    "        return pd.to_datetime(f\"{int(year)}{int(week):02d}1\", format=\"%G%V%u\")\n",
    "\n",
    "    # Normalizamos columnas esperadas\n",
    "    clima_cols = ['Departamento', 'semanas_epidemiologicas',\n",
    "                  'Temperatura Max', 'Temperatura Min', 'Precip', 'Humedad']\n",
    "    missing = set(clima_cols) - set(Temperaturas_2024.columns)\n",
    "    if missing:\n",
    "        raise ValueError(f\"Temperaturas_2024 le faltan columnas: {missing}\")\n",
    "\n",
    "    # Año por defecto 2024 si no viene\n",
    "    if 'año' not in Temperaturas_2024.columns:\n",
    "        Temperaturas_2024 = Temperaturas_2024.copy()\n",
    "        Temperaturas_2024['año'] = 2024\n",
    "\n",
    "    # Asegurar tipos\n",
    "    Temperaturas_2024['semanas_epidemiologicas'] = Temperaturas_2024['semanas_epidemiologicas'].astype(int)\n",
    "\n",
    "    # Fecha ISO\n",
    "    Temperaturas_2024['ds'] = Temperaturas_2024.apply(\n",
    "        lambda r: make_ds(r['año'], r['semanas_epidemiologicas']), axis=1\n",
    "    )\n",
    "\n",
    "    Temperaturas_2024 = Temperaturas_2024.sort_values(\n",
    "        ['Departamento', 'año', 'semanas_epidemiologicas']\n",
    "    ).reset_index(drop=True)\n",
    "\n",
    "    by_keys = ['Departamento']\n",
    "    last_all = grp_model.groupby(by_keys, observed=True).tail(1).copy()\n",
    "\n",
    "    preds = []\n",
    "\n",
    "    for depto, last in last_all.groupby('Departamento'):\n",
    "        clima_dep = Temperaturas_2024[Temperaturas_2024['Departamento'] == depto].copy()\n",
    "        if clima_dep.empty:\n",
    "            continue\n",
    "        if n_weeks is not None:\n",
    "            clima_dep = clima_dep.head(n_weeks)\n",
    "\n",
    "        last = last.copy()\n",
    "        for _, row_c in clima_dep.iterrows():\n",
    "            cur = last.copy()\n",
    "\n",
    "            cur['ds'] = row_c['ds']\n",
    "            cur['semanas_epidemiologicas'] = int(row_c['semanas_epidemiologicas'])\n",
    "            cur['mes'] = cur['ds'].dt.month\n",
    "            cur['semana_iso'] = cur['ds'].dt.isocalendar().week.astype(int)\n",
    "            cur['estacion'] = cur['semana_iso'].apply(estacion)\n",
    "\n",
    "            # Clima real\n",
    "            cur['Temperatura Max'] = row_c['Temperatura Max']\n",
    "            cur['Temperatura Min'] = row_c['Temperatura Min']\n",
    "            cur['Precip']          = row_c['Precip']\n",
    "            cur['Humedad']         = row_c['Humedad']\n",
    "            cur['temp_mean']  = (cur['Temperatura Max'] + cur['Temperatura Min']) / 2\n",
    "            cur['temp_range'] =  cur['Temperatura Max'] - cur['Temperatura Min']\n",
    "\n",
    "            # Lags autoregresivos\n",
    "            for lag in [4,3,2,1]:\n",
    "                cur[f'y_lag{lag}'] = last['cantidad_casos'] if lag == 1 else last[f'y_lag{lag-1}']\n",
    "            for lag in [2,1]:\n",
    "                cur[f'tmin_lag{lag}'] = last['Temperatura Min'] if lag == 1 else last[f'tmin_lag{lag-1}']\n",
    "                cur[f'hum_lag{lag}']  = last['Humedad'] if lag == 1 else last[f'hum_lag{lag-1}']\n",
    "\n",
    "            cur['y_roll3'] = last[['cantidad_casos','y_lag1','y_lag2']].mean(axis=1)\n",
    "            cur['y_roll5'] = last[['cantidad_casos','y_lag1','y_lag2','y_lag3','y_lag4']].mean(axis=1)\n",
    "\n",
    "            # Reaplicar categorías\n",
    "            for c in cat_cols:\n",
    "                cur[c] = pd.Categorical(cur[c], categories=cat_categories[c])\n",
    "\n",
    "            # Predicción\n",
    "            cur_X = cur[feature_cols]\n",
    "            y_hat = model.predict(cur_X)\n",
    "            cur['cantidad_casos'] = y_hat\n",
    "\n",
    "            preds.append(cur[by_keys + ['ds','semanas_epidemiologicas','cantidad_casos']])\n",
    "            last = cur.copy()\n",
    "\n",
    "    forecast = (pd.concat(preds, ignore_index=True)\n",
    "                .rename(columns={'cantidad_casos':'cantidad_casos_pred'})\n",
    "                .sort_values(['Departamento','ds']))\n",
    "    return forecast\n",
    "\n",
    "# ============================================================\n",
    "# 1) A partir de acá, tu pipeline con df_sumado\n",
    "# ============================================================\n",
    "\n",
    "# 1) Fecha ISO\n",
    "df_sumado['ds'] = pd.to_datetime(\n",
    "    df_sumado['año'].astype(int).astype(str) +\n",
    "    df_sumado['semanas_epidemiologicas'].astype(int).astype(str) + '1',\n",
    "    format='%G%V%u'\n",
    ")\n",
    "\n",
    "grp = (df_sumado\n",
    "       .groupby(['Departamento','año','semanas_epidemiologicas','ds'], as_index=False, observed=True)\n",
    "       .agg({\n",
    "           'cantidad_casos': 'sum',\n",
    "           'Temperatura Max': 'mean',\n",
    "           'Temperatura Min': 'mean',\n",
    "           'Precip': 'mean',\n",
    "           'Humedad': 'mean'\n",
    "       }))\n",
    "\n",
    "# 2) Features\n",
    "grp['temp_mean']   = (grp['Temperatura Max'] + grp['Temperatura Min']) / 2\n",
    "grp['temp_range']  = grp['Temperatura Max'] - grp['Temperatura Min']\n",
    "grp['mes']         = grp['ds'].dt.month\n",
    "grp['semana_iso']  = grp['ds'].dt.isocalendar().week.astype(int)\n",
    "\n",
    "def estacion(sem):\n",
    "    if 22 <= sem <= 39:  # invierno aprox\n",
    "        return 'invierno'\n",
    "    elif 40 <= sem or sem <= 12:\n",
    "        return 'prim_ver'\n",
    "    else:\n",
    "        return 'oto_inv'\n",
    "\n",
    "grp['estacion'] = grp['semana_iso'].apply(estacion)\n",
    "\n",
    "by_keys = ['Departamento']\n",
    "for lag in [1,2,3,4]:\n",
    "    grp[f'y_lag{lag}'] = grp.groupby(by_keys, observed=True)['cantidad_casos'].shift(lag)\n",
    "for lag in [1,2]:\n",
    "    grp[f'tmin_lag{lag}'] = grp.groupby(by_keys, observed=True)['Temperatura Min'].shift(lag)\n",
    "    grp[f'hum_lag{lag}']  = grp.groupby(by_keys, observed=True)['Humedad'].shift(lag)\n",
    "\n",
    "grp['y_roll3'] = grp.groupby(by_keys, observed=True)['cantidad_casos'].transform(lambda s: s.rolling(3).mean())\n",
    "grp['y_roll5'] = grp.groupby(by_keys, observed=True)['cantidad_casos'].transform(lambda s: s.rolling(5).mean())\n",
    "\n",
    "grp_model = grp.dropna().reset_index(drop=True)\n",
    "\n",
    "# 3) Train\n",
    "target = 'cantidad_casos'\n",
    "cat_cols = ['Departamento','estacion']\n",
    "for c in cat_cols:\n",
    "    grp_model[c] = grp_model[c].astype('category')\n",
    "\n",
    "cat_categories = {c: grp_model[c].cat.categories for c in cat_cols}\n",
    "\n",
    "feature_cols = [\n",
    "    'Temperatura Max','Temperatura Min','temp_mean','temp_range',\n",
    "    'Precip','Humedad',\n",
    "    'tmin_lag1','tmin_lag2','hum_lag1','hum_lag2',\n",
    "    'y_lag1','y_lag2','y_lag3','y_lag4','y_roll3','y_roll5',\n",
    "    'mes','semana_iso','estacion',\n",
    "    'Departamento'\n",
    "]\n",
    "\n",
    "X = grp_model[feature_cols]\n",
    "y = grp_model[target]\n",
    "\n",
    "cut_date = grp_model['ds'].quantile(0.8)\n",
    "X_train = X[grp_model['ds'] <= cut_date]\n",
    "y_train = y[grp_model['ds'] <= cut_date]\n",
    "X_valid = X[grp_model['ds'] >  cut_date]\n",
    "y_valid = y[grp_model['ds'] >  cut_date]\n",
    "\n",
    "model = lgb.LGBMRegressor(\n",
    "    n_estimators=5000,\n",
    "    learning_rate=0.02,\n",
    "    num_leaves=63,\n",
    "    subsample=0.8,\n",
    "    colsample_bytree=0.8,\n",
    "    random_state=42\n",
    "   # objective='poisson',\n",
    ")\n",
    "\n",
    "model.fit(\n",
    "    X_train, y_train,\n",
    "    eval_set=[(X_valid, y_valid)],\n",
    "    eval_metric='mae',\n",
    "    categorical_feature=cat_cols,\n",
    "    callbacks=[lgb.early_stopping(200), lgb.log_evaluation(200)]\n",
    ")\n",
    "\n",
    "pred_valid = model.predict(X_valid)\n",
    "print(\"MAE valid:\", mean_absolute_error(y_valid, pred_valid))\n",
    "print(\"Promedio de casos reales en validación:\", y_valid.mean())\n",
    "print(\"MAE como porcentaje:\", mean_absolute_error(y_valid, pred_valid) / y_valid.mean() * 100)\n",
    "\n",
    "# 4) Forecast con clima real 2024\n",
    "Temperaturas_2024['semanas_epidemiologicas'] = Temperaturas_2024['semanas_epidemiologicas'].astype(int)\n",
    "\n",
    "forecast_2024 = forecast_with_climate(\n",
    "    model=model,\n",
    "    grp_model=grp_model,\n",
    "    Temperaturas_2024=Temperaturas_2024,\n",
    "    feature_cols=feature_cols,\n",
    "    cat_cols=cat_cols,\n",
    "    cat_categories=cat_categories,\n",
    "    n_weeks=None)\n",
    "\n",
    "print(forecast_2024.head(10))\n",
    "forecast_2024.to_csv(\"Resultado.csv\", index=False)"
   ]
  },
  {
   "cell_type": "markdown",
   "id": "649a08df-d34a-43db-8c23-73ddc7cfeef2",
   "metadata": {},
   "source": [
    "### "
   ]
  },
  {
   "cell_type": "markdown",
   "id": "01441021-9eb4-4017-ae6c-f42cc0a5667c",
   "metadata": {},
   "source": [
    "### COMPARACION DE RESULTADOS"
   ]
  },
  {
   "cell_type": "markdown",
   "id": "2f584833-6dc9-4cc8-a6a2-e0db42ee40f4",
   "metadata": {},
   "source": [
    "\n",
    "A continuacion, compararemos los resultados reales (df_respiratorios2024.csv) con los obtenidos en el modelo (resultado.csv)"
   ]
  },
  {
   "cell_type": "markdown",
   "id": "89e776f1-9f0c-4088-9563-7a92fa22e425",
   "metadata": {},
   "source": [
    "Pero antes, debemos limpiar el csv que contiene los datos reales"
   ]
  },
  {
   "cell_type": "code",
   "execution_count": 207,
   "id": "053a5e71-ca68-4f10-a8ee-43f3b4db9c9f",
   "metadata": {},
   "outputs": [],
   "source": [
    "#Lo leemos\n",
    "df_respiratorias2024 = pd.read_csv(\"./casos2024.csv\")"
   ]
  },
  {
   "cell_type": "code",
   "execution_count": 208,
   "id": "046b5ec8-362b-461c-bfac-e253104cca70",
   "metadata": {},
   "outputs": [
    {
     "name": "stdout",
     "output_type": "stream",
     "text": [
      "<class 'pandas.core.frame.DataFrame'>\n",
      "RangeIndex: 557855 entries, 0 to 557854\n",
      "Data columns (total 10 columns):\n",
      " #   Column                   Non-Null Count   Dtype \n",
      "---  ------                   --------------   ----- \n",
      " 0   departamento_id          557855 non-null  int64 \n",
      " 1   departamento_nombre      557855 non-null  object\n",
      " 2   provincia_id             557855 non-null  int64 \n",
      " 3   provincia_nombre         557855 non-null  object\n",
      " 4   año                      557855 non-null  int64 \n",
      " 5   semanas_epidemiologicas  557855 non-null  int64 \n",
      " 6   evento_nombre            557855 non-null  object\n",
      " 7   grupo_edad_id            557855 non-null  int64 \n",
      " 8   grupo_edad_desc          557855 non-null  object\n",
      " 9   cantidad_casos           557855 non-null  int64 \n",
      "dtypes: int64(6), object(4)\n",
      "memory usage: 42.6+ MB\n"
     ]
    },
    {
     "data": {
      "text/html": [
       "<div>\n",
       "<style scoped>\n",
       "    .dataframe tbody tr th:only-of-type {\n",
       "        vertical-align: middle;\n",
       "    }\n",
       "\n",
       "    .dataframe tbody tr th {\n",
       "        vertical-align: top;\n",
       "    }\n",
       "\n",
       "    .dataframe thead th {\n",
       "        text-align: right;\n",
       "    }\n",
       "</style>\n",
       "<table border=\"1\" class=\"dataframe\">\n",
       "  <thead>\n",
       "    <tr style=\"text-align: right;\">\n",
       "      <th></th>\n",
       "      <th>departamento_id</th>\n",
       "      <th>provincia_id</th>\n",
       "      <th>año</th>\n",
       "      <th>semanas_epidemiologicas</th>\n",
       "      <th>grupo_edad_id</th>\n",
       "      <th>cantidad_casos</th>\n",
       "    </tr>\n",
       "  </thead>\n",
       "  <tbody>\n",
       "    <tr>\n",
       "      <th>count</th>\n",
       "      <td>557855.000000</td>\n",
       "      <td>557855.000000</td>\n",
       "      <td>557855.000000</td>\n",
       "      <td>557855.000000</td>\n",
       "      <td>557855.000000</td>\n",
       "      <td>557855.000000</td>\n",
       "    </tr>\n",
       "    <tr>\n",
       "      <th>mean</th>\n",
       "      <td>160.489950</td>\n",
       "      <td>34.651115</td>\n",
       "      <td>2022.597103</td>\n",
       "      <td>25.592935</td>\n",
       "      <td>6.933976</td>\n",
       "      <td>6.234256</td>\n",
       "    </tr>\n",
       "    <tr>\n",
       "      <th>std</th>\n",
       "      <td>211.194573</td>\n",
       "      <td>27.826484</td>\n",
       "      <td>0.612642</td>\n",
       "      <td>14.418149</td>\n",
       "      <td>3.885756</td>\n",
       "      <td>13.016889</td>\n",
       "    </tr>\n",
       "    <tr>\n",
       "      <th>min</th>\n",
       "      <td>1.000000</td>\n",
       "      <td>2.000000</td>\n",
       "      <td>2022.000000</td>\n",
       "      <td>1.000000</td>\n",
       "      <td>1.000000</td>\n",
       "      <td>1.000000</td>\n",
       "    </tr>\n",
       "    <tr>\n",
       "      <th>25%</th>\n",
       "      <td>35.000000</td>\n",
       "      <td>6.000000</td>\n",
       "      <td>2022.000000</td>\n",
       "      <td>13.000000</td>\n",
       "      <td>3.000000</td>\n",
       "      <td>1.000000</td>\n",
       "    </tr>\n",
       "    <tr>\n",
       "      <th>50%</th>\n",
       "      <td>70.000000</td>\n",
       "      <td>26.000000</td>\n",
       "      <td>2023.000000</td>\n",
       "      <td>25.000000</td>\n",
       "      <td>7.000000</td>\n",
       "      <td>2.000000</td>\n",
       "    </tr>\n",
       "    <tr>\n",
       "      <th>75%</th>\n",
       "      <td>147.000000</td>\n",
       "      <td>58.000000</td>\n",
       "      <td>2023.000000</td>\n",
       "      <td>38.000000</td>\n",
       "      <td>10.000000</td>\n",
       "      <td>6.000000</td>\n",
       "    </tr>\n",
       "    <tr>\n",
       "      <th>max</th>\n",
       "      <td>882.000000</td>\n",
       "      <td>94.000000</td>\n",
       "      <td>2024.000000</td>\n",
       "      <td>52.000000</td>\n",
       "      <td>17.000000</td>\n",
       "      <td>604.000000</td>\n",
       "    </tr>\n",
       "  </tbody>\n",
       "</table>\n",
       "</div>"
      ],
      "text/plain": [
       "       departamento_id   provincia_id            año  semanas_epidemiologicas  grupo_edad_id  cantidad_casos\n",
       "count    557855.000000  557855.000000  557855.000000            557855.000000  557855.000000   557855.000000\n",
       "mean        160.489950      34.651115    2022.597103                25.592935       6.933976        6.234256\n",
       "std         211.194573      27.826484       0.612642                14.418149       3.885756       13.016889\n",
       "min           1.000000       2.000000    2022.000000                 1.000000       1.000000        1.000000\n",
       "25%          35.000000       6.000000    2022.000000                13.000000       3.000000        1.000000\n",
       "50%          70.000000      26.000000    2023.000000                25.000000       7.000000        2.000000\n",
       "75%         147.000000      58.000000    2023.000000                38.000000      10.000000        6.000000\n",
       "max         882.000000      94.000000    2024.000000                52.000000      17.000000      604.000000"
      ]
     },
     "execution_count": 208,
     "metadata": {},
     "output_type": "execute_result"
    }
   ],
   "source": [
    "#Observamos sus propiedades\n",
    "df_respiratorias2024.shape         # Dimensiones (filas, columnas)\n",
    "df_respiratorias2024.columns       # Lista de nombres de columnas\n",
    "df_respiratorias2024.dtypes        # Tipos de datos por columna\n",
    "df_respiratorias2024.info()        # Resumen: tipos de datos, no nulos\n",
    "df_respiratorias2024.describe()"
   ]
  },
  {
   "cell_type": "code",
   "execution_count": 209,
   "id": "f5992432-e03b-4164-8368-cdaea242227e",
   "metadata": {},
   "outputs": [
    {
     "data": {
      "text/plain": [
       "departamento_id            0\n",
       "departamento_nombre        0\n",
       "provincia_id               0\n",
       "provincia_nombre           0\n",
       "año                        0\n",
       "semanas_epidemiologicas    0\n",
       "evento_nombre              0\n",
       "grupo_edad_id              0\n",
       "grupo_edad_desc            0\n",
       "cantidad_casos             0\n",
       "dtype: int64"
      ]
     },
     "execution_count": 209,
     "metadata": {},
     "output_type": "execute_result"
    }
   ],
   "source": [
    "#Analizamos si alguna de sus columnas tiene valores faltantes (nulos, NaN)\n",
    "df_respiratorias2024.isnull().sum() "
   ]
  },
  {
   "cell_type": "code",
   "execution_count": 210,
   "id": "b270882a-f645-4ec2-8578-dd61f68f510b",
   "metadata": {},
   "outputs": [
    {
     "data": {
      "text/plain": [
       "departamento_id            142\n",
       "departamento_nombre        414\n",
       "provincia_id                24\n",
       "provincia_nombre            24\n",
       "año                          3\n",
       "semanas_epidemiologicas     52\n",
       "evento_nombre                7\n",
       "grupo_edad_id               14\n",
       "grupo_edad_desc             14\n",
       "cantidad_casos             306\n",
       "dtype: int64"
      ]
     },
     "execution_count": 210,
     "metadata": {},
     "output_type": "execute_result"
    }
   ],
   "source": [
    "#observamos la cantidad de valores unicos que tiene cada columna\n",
    "df_respiratorias2024.nunique() "
   ]
  },
  {
   "cell_type": "code",
   "execution_count": 211,
   "id": "28531154-3463-473f-886e-06e2b47e9535",
   "metadata": {},
   "outputs": [],
   "source": [
    "#Como podemos observar, la columna de año tiene 3 valores unicos, cuando deberia tener uno solo (2024), \n",
    "#es por eso que borraremos las filas que sean de otros años\n",
    "df_respiratorias2024 = df_respiratorias2024[df_respiratorias2024['año'] == 2024]"
   ]
  },
  {
   "cell_type": "code",
   "execution_count": 212,
   "id": "4947c29d-4080-4277-8e14-7ec44b10d54f",
   "metadata": {},
   "outputs": [
    {
     "data": {
      "text/plain": [
       "array(['Enfermedad tipo influenza (ETI)', 'Neumonía (sin especificar)',\n",
       "       'Bronquiolitis en menores de 2 años (sin especificar)',\n",
       "       'Bronquiolitis en menores de 2 años ambulatorios',\n",
       "       'Neumonía en pacientes ambulatorios',\n",
       "       'Bronquiolitis en menores de 2 años internados',\n",
       "       'Neumonía en pacientes internados'], dtype=object)"
      ]
     },
     "execution_count": 212,
     "metadata": {},
     "output_type": "execute_result"
    }
   ],
   "source": [
    "#Vemos los distintos tipos de enfermedades que hay, para eso\n",
    "df_respiratorias2024['evento_nombre'].unique()"
   ]
  },
  {
   "cell_type": "code",
   "execution_count": 213,
   "id": "00c355b0-8cf2-4de0-9bb3-be980608c290",
   "metadata": {},
   "outputs": [],
   "source": [
    "#Borramos las filas con enfermedades sin espeficar\n",
    "#Es el caso de \"neumonia (sin especificar)\"\n",
    "# Y con 'Bronquiolitis en menores de 2 años (sin especificar)'\n",
    "df_respiratorias2024 = df_respiratorias2024[df_respiratorias2024['evento_nombre'] != 'Neumonía (sin especificar)']\n",
    "df_respiratorias2024 = df_respiratorias2024[df_respiratorias2024['evento_nombre'] != 'Bronquiolitis en menores de 2 años (sin especificar)']"
   ]
  },
  {
   "cell_type": "code",
   "execution_count": 214,
   "id": "d2cc2a58-0956-4d30-b713-83fa018de861",
   "metadata": {},
   "outputs": [
    {
     "data": {
      "text/plain": [
       "array(['Enfermedad tipo influenza (ETI)',\n",
       "       'Bronquiolitis en menores de 2 años ambulatorios',\n",
       "       'Neumonía en pacientes ambulatorios',\n",
       "       'Bronquiolitis en menores de 2 años internados',\n",
       "       'Neumonía en pacientes internados'], dtype=object)"
      ]
     },
     "execution_count": 214,
     "metadata": {},
     "output_type": "execute_result"
    }
   ],
   "source": [
    "#verificamos\n",
    "df_respiratorias2024['evento_nombre'].unique()"
   ]
  },
  {
   "cell_type": "code",
   "execution_count": 215,
   "id": "b6669bb7-44a9-4c7d-ab21-730e104f5ee5",
   "metadata": {},
   "outputs": [
    {
     "data": {
      "text/plain": [
       "array(['65 a 74', '45 a 64', '< 6 m', '12 a 23 m', '25 a 34', '5 a 9',\n",
       "       '10 a 14', '6 a 11 m', '15 a 19', '20 a 24', '35 a 44', '2 a 4',\n",
       "       '>= a 75', 'Edad Sin Esp.'], dtype=object)"
      ]
     },
     "execution_count": 215,
     "metadata": {},
     "output_type": "execute_result"
    }
   ],
   "source": [
    "#Obsevamos los tipos de grupos etarios\n",
    "df_respiratorias2024['grupo_edad_desc'].unique()"
   ]
  },
  {
   "cell_type": "code",
   "execution_count": 216,
   "id": "7cff4e6f-1430-42bd-9bb0-61246d4cbe79",
   "metadata": {},
   "outputs": [],
   "source": [
    "#procederemos a borrar todas las filas con edades sin especificar\n",
    "df_respiratorias2024 = df_respiratorias2024[df_respiratorias2024['grupo_edad_desc'] != 'Edad Sin Esp.']"
   ]
  },
  {
   "cell_type": "code",
   "execution_count": 217,
   "id": "da220354-a8a7-45b5-982b-116ffa4ac032",
   "metadata": {},
   "outputs": [
    {
     "data": {
      "text/plain": [
       "array(['65 a 74', '45 a 64', '< 6 m', '12 a 23 m', '25 a 34', '5 a 9',\n",
       "       '10 a 14', '6 a 11 m', '15 a 19', '20 a 24', '35 a 44', '2 a 4',\n",
       "       '>= a 75'], dtype=object)"
      ]
     },
     "execution_count": 217,
     "metadata": {},
     "output_type": "execute_result"
    }
   ],
   "source": [
    "#volvemos a fijarnos ahora\n",
    "df_respiratorias2024['grupo_edad_desc'].unique()"
   ]
  },
  {
   "cell_type": "code",
   "execution_count": 218,
   "id": "794132c3-0262-4243-ba34-716efa6031f2",
   "metadata": {},
   "outputs": [
    {
     "data": {
      "text/html": [
       "<div>\n",
       "<style scoped>\n",
       "    .dataframe tbody tr th:only-of-type {\n",
       "        vertical-align: middle;\n",
       "    }\n",
       "\n",
       "    .dataframe tbody tr th {\n",
       "        vertical-align: top;\n",
       "    }\n",
       "\n",
       "    .dataframe thead th {\n",
       "        text-align: right;\n",
       "    }\n",
       "</style>\n",
       "<table border=\"1\" class=\"dataframe\">\n",
       "  <thead>\n",
       "    <tr style=\"text-align: right;\">\n",
       "      <th></th>\n",
       "      <th>departamento_id</th>\n",
       "      <th>departamento_nombre</th>\n",
       "      <th>provincia_id</th>\n",
       "      <th>provincia_nombre</th>\n",
       "      <th>año</th>\n",
       "      <th>semanas_epidemiologicas</th>\n",
       "      <th>evento_nombre</th>\n",
       "      <th>grupo_edad_id</th>\n",
       "      <th>grupo_edad_desc</th>\n",
       "      <th>cantidad_casos</th>\n",
       "    </tr>\n",
       "  </thead>\n",
       "  <tbody>\n",
       "    <tr>\n",
       "      <th>34</th>\n",
       "      <td>1</td>\n",
       "      <td>COMUNA 1_CABA</td>\n",
       "      <td>2</td>\n",
       "      <td>CABA</td>\n",
       "      <td>2024</td>\n",
       "      <td>4</td>\n",
       "      <td>Enfermedad tipo influenza (ETI)</td>\n",
       "      <td>12</td>\n",
       "      <td>65 a 74</td>\n",
       "      <td>1</td>\n",
       "    </tr>\n",
       "    <tr>\n",
       "      <th>35</th>\n",
       "      <td>1</td>\n",
       "      <td>COMUNA 1_CABA</td>\n",
       "      <td>2</td>\n",
       "      <td>CABA</td>\n",
       "      <td>2024</td>\n",
       "      <td>5</td>\n",
       "      <td>Enfermedad tipo influenza (ETI)</td>\n",
       "      <td>11</td>\n",
       "      <td>45 a 64</td>\n",
       "      <td>1</td>\n",
       "    </tr>\n",
       "    <tr>\n",
       "      <th>333</th>\n",
       "      <td>2</td>\n",
       "      <td>COMUNA 2_CABA</td>\n",
       "      <td>2</td>\n",
       "      <td>CABA</td>\n",
       "      <td>2024</td>\n",
       "      <td>6</td>\n",
       "      <td>Enfermedad tipo influenza (ETI)</td>\n",
       "      <td>1</td>\n",
       "      <td>&lt; 6 m</td>\n",
       "      <td>2</td>\n",
       "    </tr>\n",
       "    <tr>\n",
       "      <th>524</th>\n",
       "      <td>1</td>\n",
       "      <td>COMUNA 1_CABA</td>\n",
       "      <td>2</td>\n",
       "      <td>CABA</td>\n",
       "      <td>2024</td>\n",
       "      <td>4</td>\n",
       "      <td>Enfermedad tipo influenza (ETI)</td>\n",
       "      <td>11</td>\n",
       "      <td>45 a 64</td>\n",
       "      <td>1</td>\n",
       "    </tr>\n",
       "    <tr>\n",
       "      <th>728</th>\n",
       "      <td>2</td>\n",
       "      <td>COMUNA 2_CABA</td>\n",
       "      <td>2</td>\n",
       "      <td>CABA</td>\n",
       "      <td>2024</td>\n",
       "      <td>4</td>\n",
       "      <td>Enfermedad tipo influenza (ETI)</td>\n",
       "      <td>3</td>\n",
       "      <td>12 a 23 m</td>\n",
       "      <td>1</td>\n",
       "    </tr>\n",
       "  </tbody>\n",
       "</table>\n",
       "</div>"
      ],
      "text/plain": [
       "     departamento_id departamento_nombre  provincia_id provincia_nombre   año  semanas_epidemiologicas                    evento_nombre  grupo_edad_id grupo_edad_desc  cantidad_casos\n",
       "34                 1       COMUNA 1_CABA             2             CABA  2024                        4  Enfermedad tipo influenza (ETI)             12         65 a 74               1\n",
       "35                 1       COMUNA 1_CABA             2             CABA  2024                        5  Enfermedad tipo influenza (ETI)             11         45 a 64               1\n",
       "333                2       COMUNA 2_CABA             2             CABA  2024                        6  Enfermedad tipo influenza (ETI)              1           < 6 m               2\n",
       "524                1       COMUNA 1_CABA             2             CABA  2024                        4  Enfermedad tipo influenza (ETI)             11         45 a 64               1\n",
       "728                2       COMUNA 2_CABA             2             CABA  2024                        4  Enfermedad tipo influenza (ETI)              3       12 a 23 m               1"
      ]
     },
     "execution_count": 218,
     "metadata": {},
     "output_type": "execute_result"
    }
   ],
   "source": [
    "#Ponemos el formato de 'DEPARTAMENTO_Provincia'\n",
    "df_respiratorias2024['departamento_nombre'] = df_respiratorias2024['departamento_nombre'] + '_' + df_respiratorias2024['provincia_nombre']\n",
    "#Mostramos como quedaron las filas\n",
    "df_respiratorias2024.head()"
   ]
  },
  {
   "cell_type": "code",
   "execution_count": 219,
   "id": "37b2583e-d8d7-43a8-97e7-be7953b630aa",
   "metadata": {},
   "outputs": [],
   "source": [
    "#Eliminamos las filas donde la provincia no sea una de las que te interesan:\n",
    "provincias_deseadas = ['Buenos Aires', 'Neuquén', 'Tucumán', 'Córdoba', 'Misiones']\n",
    "df_respiratorias2024 = df_respiratorias2024[df_respiratorias2024['provincia_nombre'].isin(provincias_deseadas)].copy()"
   ]
  },
  {
   "cell_type": "code",
   "execution_count": 220,
   "id": "4c85bed1-61ae-40ef-99b8-1a1640d426a1",
   "metadata": {},
   "outputs": [
    {
     "data": {
      "text/plain": [
       "array(['ALUMINÉ_Neuquén', 'APÓSTOLES_Misiones', 'BURRUYACÚ_Tucumán',\n",
       "       'CALAMUCHITA_Córdoba', 'ADOLFO GONZALES CHAVES_Buenos Aires',\n",
       "       'AÑELO_Neuquén', 'CAINGUÁS_Misiones', 'CAPITAL_Córdoba',\n",
       "       'CRUZ ALTA_Tucumán', 'CANDELARIA_Misiones', 'CATÁN LIL_Neuquén',\n",
       "       'CHICLIGASTA_Tucumán', 'COLÓN_Córdoba',\n",
       "       'ALMIRANTE BROWN_Buenos Aires', 'CAPITAL_Misiones',\n",
       "       'CRUZ DEL EJE_Córdoba', 'FAMAILLÁ_Tucumán', 'COLLÓN CURÁ_Neuquén',\n",
       "       'AVELLANEDA_Buenos Aires', 'CONCEPCIÓN _Misiones',\n",
       "       'CONFLUENCIA_Neuquén', 'GENERAL ROCA_Córdoba', 'GRANEROS_Tucumán',\n",
       "       'AYACUCHO_Buenos Aires', 'CHOS MALAL_Neuquén', 'ELDORADO_Misiones',\n",
       "       'GENERAL SAN MARTÍN_Córdoba', 'JUAN BAUTISTA ALBERDI_Tucumán',\n",
       "       'AZUL_Buenos Aires', 'GENERAL MANUEL BELGRANO_Misiones',\n",
       "       'HUILICHES_Neuquén', 'ISCHILÍN_Córdoba', 'LA COCHA_Tucumán',\n",
       "       'BAHÍA BLANCA_Buenos Aires', 'JUÁREZ CELMAN_Córdoba',\n",
       "       'LÁCAR_Neuquén', 'LEALES_Tucumán', 'LONCOPUÉ_Neuquén',\n",
       "       'LULES_Tucumán', 'MARCOS JUÁREZ_Córdoba', 'GUARANÍ_Misiones',\n",
       "       'IGUAZÚ_Misiones', 'LEANDRO N. ALEM_Misiones', 'LOS LAGOS_Neuquén',\n",
       "       'MONTEROS_Tucumán', 'LIBERTADOR GRL. SAN MARTÍN_Misiones',\n",
       "       'MINAS_Neuquén', 'RÍO CHICO_Tucumán', 'BENITO JUÁREZ_Buenos Aires',\n",
       "       'CAPITAL_Tucumán', 'POCHO_Córdoba', 'ÑORQUÍN_Neuquén',\n",
       "       'PRESIDENTE ROQUE SÁENZ PEÑA_Córdoba', 'MONTECARLO_Misiones',\n",
       "       'OBERÁ_Misiones', 'PEHUENCHES_Neuquén', 'PUNILLA_Córdoba',\n",
       "       'BERISSO_Buenos Aires', 'BERAZATEGUI_Buenos Aires',\n",
       "       'PICÚN LEUFÚ_Neuquén', 'RÍO CUARTO_Córdoba',\n",
       "       'SAN IGNACIO_Misiones', 'TAFÍ DEL VALLE_Tucumán', 'SIMOCA_Tucumán',\n",
       "       'BOLÍVAR_Buenos Aires', 'PICUNCHES_Neuquén', 'RÍO PRIMERO_Córdoba',\n",
       "       'SAN JAVIER_Misiones', 'TAFÍ VIEJO_Tucumán', 'TRANCAS_Tucumán',\n",
       "       'ZAPALA _Neuquén', 'RÍO SEGUNDO_Córdoba', 'YERBA BUENA_Tucumán',\n",
       "       'CAMPANA_Buenos Aires', 'SAN ALBERTO_Córdoba',\n",
       "       'SAN JAVIER_Córdoba', 'SAN JUSTO_Córdoba',\n",
       "       'CARLOS CASARES_Buenos Aires', 'SANTA MARÍA_Córdoba',\n",
       "       'SOBREMONTE_Córdoba', 'CARMEN DE ARECO_Buenos Aires',\n",
       "       'TERCERO ARRIBA_Córdoba', 'TOTORAL_Córdoba', 'TULUMBA_Córdoba',\n",
       "       'CAÑUELAS_Buenos Aires',\n",
       "       'CORONEL DE MARINA L. ROSALES_Buenos Aires', 'UNIÓN_Córdoba',\n",
       "       'CARLOS TEJEDOR_Buenos Aires', 'CORONEL DORREGO_Buenos Aires',\n",
       "       'CORONEL PRINGLES_Buenos Aires', 'CHASCOMÚS_Buenos Aires',\n",
       "       'CHIVILCOY_Buenos Aires', 'DOLORES_Buenos Aires',\n",
       "       'ENSENADA_Buenos Aires', 'ESCOBAR_Buenos Aires',\n",
       "       'EZEIZA_Buenos Aires', 'FLORENCIO VARELA_Buenos Aires',\n",
       "       'FLORENTINO AMEGHINO_Buenos Aires',\n",
       "       'GENERAL ARENALES_Buenos Aires', 'GENERAL BELGRANO_Buenos Aires',\n",
       "       'GENERAL GUIDO_Buenos Aires', 'GENERAL PUEYRREDÓN_Buenos Aires',\n",
       "       'GENERAL RODRÍGUEZ_Buenos Aires',\n",
       "       'GENERAL SAN MARTÍN_Buenos Aires', 'GENERAL VILLEGAS_Buenos Aires',\n",
       "       'ITUZAINGÓ_Buenos Aires', 'JOSÉ C. PAZ_Buenos Aires',\n",
       "       'JUNÍN_Buenos Aires', 'LA COSTA_Buenos Aires',\n",
       "       'LA MATANZA_Buenos Aires', 'LANÚS_Buenos Aires',\n",
       "       'LA PLATA_Buenos Aires', 'LAS FLORES_Buenos Aires',\n",
       "       'LOBERÍA_Buenos Aires', 'LOBOS_Buenos Aires',\n",
       "       'LOMAS DE ZAMORA_Buenos Aires', 'LUJÁN_Buenos Aires',\n",
       "       'ESTEBAN ECHEVERRÍA_Buenos Aires',\n",
       "       'MALVINAS ARGENTINAS_Buenos Aires', 'MERLO_Buenos Aires',\n",
       "       'MONTE HERMOSO_Buenos Aires', 'MORENO_Buenos Aires',\n",
       "       'MORÓN_Buenos Aires', 'NAVARRO_Buenos Aires',\n",
       "       'NECOCHEA_Buenos Aires', '9 DE JULIO_Buenos Aires',\n",
       "       'OLAVARRÍA_Buenos Aires', 'LAPRIDA_Buenos Aires',\n",
       "       'PATAGONES_Buenos Aires', 'PEHUAJÓ_Buenos Aires',\n",
       "       'PELLEGRINI_Buenos Aires', 'PERGAMINO_Buenos Aires',\n",
       "       'PINAMAR _Buenos Aires', 'PRESIDENTE PERÓN_Buenos Aires',\n",
       "       'PUNTA INDIO_Buenos Aires', 'QUILMES_Buenos Aires',\n",
       "       'RAUCH_Buenos Aires', 'RIVADAVIA_Buenos Aires',\n",
       "       'ROQUE PÉREZ_Buenos Aires', 'SALADILLO_Buenos Aires',\n",
       "       'SAN ANDRÉS DE GILES_Buenos Aires', 'SAN FERNANDO_Buenos Aires',\n",
       "       'SAN ISIDRO_Buenos Aires', 'SAN MIGUEL_Buenos Aires',\n",
       "       'SAN NICOLÁS_Buenos Aires', 'SAN VICENTE_Buenos Aires',\n",
       "       'TANDIL_Buenos Aires', 'TAPALQUÉ_Buenos Aires',\n",
       "       'PUÁN_Buenos Aires', 'TIGRE_Buenos Aires',\n",
       "       'TRENQUE LAUQUEN_Buenos Aires', 'TRES ARROYOS_Buenos Aires',\n",
       "       'TRES DE FEBRERO_Buenos Aires', 'TRES LOMAS _Buenos Aires',\n",
       "       'ZÁRATE _Buenos Aires'], dtype=object)"
      ]
     },
     "execution_count": 220,
     "metadata": {},
     "output_type": "execute_result"
    }
   ],
   "source": [
    "#Renombramos de 'departamento_nombre' a 'Departamento'\n",
    "df_respiratorias2024 = df_respiratorias2024.rename(columns={'departamento_nombre': 'Departamento'})\n",
    "#Volvemos a ver como quedo el dataset\n",
    "df_respiratorias2024.columns\n",
    "df_respiratorias2024['Departamento'].unique()"
   ]
  },
  {
   "cell_type": "code",
   "execution_count": 221,
   "id": "4a663de6-ec3f-46ed-8989-f3013f718dba",
   "metadata": {},
   "outputs": [
    {
     "data": {
      "text/plain": [
       "Index(['Departamento', 'semanas_epidemiologicas', 'cantidad_casos'], dtype='object')"
      ]
     },
     "execution_count": 221,
     "metadata": {},
     "output_type": "execute_result"
    }
   ],
   "source": [
    "#Vamos a borrar las columnas que no nos interesan porque corresponden a identificadores (id)\n",
    "df_respiratorias2024 = df_respiratorias2024.drop(['departamento_id', 'provincia_id', 'provincia_nombre', 'año', 'grupo_edad_id', 'evento_nombre', 'grupo_edad_desc'], axis=1)\n",
    "#Volvemos a ver como quedo el dataset\n",
    "df_respiratorias2024.columns"
   ]
  },
  {
   "cell_type": "markdown",
   "id": "bd28f3d4-4d32-4436-8bb2-9abade2fa01b",
   "metadata": {},
   "source": [
    "### COMPARACION"
   ]
  },
  {
   "cell_type": "markdown",
   "id": "30fa0f35-24fc-47a7-999f-a0e84b7a7849",
   "metadata": {},
   "source": [
    "Una vez que tenemos el documento de la misma manera que el generado por el modelo, es posible compararlo"
   ]
  },
  {
   "cell_type": "code",
   "execution_count": 222,
   "id": "b8fcdc4b-1b31-44ca-a180-c283588367b7",
   "metadata": {},
   "outputs": [],
   "source": [
    "#Primero leemos el csv generado por el modelo\n",
    "resultadoLight = pd.read_csv(\"Resultado.csv\")"
   ]
  },
  {
   "cell_type": "code",
   "execution_count": 223,
   "id": "01fdbd47-a56c-48ec-b81c-de196996cd4f",
   "metadata": {},
   "outputs": [],
   "source": [
    "#Primero filtramos los predecidos hasta la semana 13\n",
    "#Esto se debe a que los resultados reales solo llegan hasta la semana 13\n",
    "resultadoLight = resultadoLight[resultadoLight['semanas_epidemiologicas'] <= 13]"
   ]
  },
  {
   "cell_type": "code",
   "execution_count": 224,
   "id": "a62d10ae-02b4-461f-bfcc-0ce6c30ba860",
   "metadata": {},
   "outputs": [],
   "source": [
    "# Agrupamos los datos reales exactamente igual a como lo agrupa el modelo\n",
    "df_reales_agrupado = (\n",
    "    df_respiratorias2024\n",
    "    .groupby(['Departamento', 'semanas_epidemiologicas'], as_index=False)\n",
    "    .agg({'cantidad_casos': 'sum'})\n",
    ")"
   ]
  },
  {
   "cell_type": "code",
   "execution_count": 225,
   "id": "0af45ea6-995e-4e8f-bd4e-b7805bdaaa3b",
   "metadata": {},
   "outputs": [
    {
     "name": "stdout",
     "output_type": "stream",
     "text": [
      "En reales pero no en predichos: {'FAMAILLÁ_Tucumán', 'RÍO CHICO_Tucumán', 'CONCEPCIÓN _Misiones', 'SAN JUSTO_Córdoba', 'TERCERO ARRIBA_Córdoba', 'CAINGUÁS_Misiones', 'CATÁN LIL_Neuquén', 'CORONEL DORREGO_Buenos Aires', 'CORONEL PRINGLES_Buenos Aires', 'TAFÍ DEL VALLE_Tucumán', 'PUNILLA_Córdoba', 'SAN JAVIER_Córdoba', 'GENERAL SAN MARTÍN_Buenos Aires', 'LUJÁN_Buenos Aires', 'GUARANÍ_Misiones', 'CRUZ ALTA_Tucumán', 'RÍO PRIMERO_Córdoba', 'SAN VICENTE_Buenos Aires', 'PELLEGRINI_Buenos Aires', 'TULUMBA_Córdoba', 'ELDORADO_Misiones', 'JOSÉ C. PAZ_Buenos Aires', 'GENERAL BELGRANO_Buenos Aires', 'MONTEROS_Tucumán', 'NECOCHEA_Buenos Aires', 'JUAN BAUTISTA ALBERDI_Tucumán', 'GENERAL ROCA_Córdoba', 'HUILICHES_Neuquén', 'ESTEBAN ECHEVERRÍA_Buenos Aires', 'POCHO_Córdoba', 'BURRUYACÚ_Tucumán', 'RIVADAVIA_Buenos Aires', 'UNIÓN_Córdoba', 'ZAPALA _Neuquén', 'SAN MIGUEL_Buenos Aires', 'SAN ALBERTO_Córdoba', 'PINAMAR _Buenos Aires', 'PATAGONES_Buenos Aires', 'SAN NICOLÁS_Buenos Aires', 'CAÑUELAS_Buenos Aires', 'ENSENADA_Buenos Aires', 'RAUCH_Buenos Aires', 'CALAMUCHITA_Córdoba', 'CARMEN DE ARECO_Buenos Aires', 'AYACUCHO_Buenos Aires', 'GENERAL VILLEGAS_Buenos Aires', 'AVELLANEDA_Buenos Aires', 'ADOLFO GONZALES CHAVES_Buenos Aires', 'GENERAL RODRÍGUEZ_Buenos Aires', 'CHOS MALAL_Neuquén', 'MONTE HERMOSO_Buenos Aires', 'COLLÓN CURÁ_Neuquén', 'CHIVILCOY_Buenos Aires', 'ALUMINÉ_Neuquén', 'LEALES_Tucumán', 'MINAS_Neuquén', 'RÍO SEGUNDO_Córdoba', 'ISCHILÍN_Córdoba', 'LA MATANZA_Buenos Aires', 'ITUZAINGÓ_Buenos Aires', 'CANDELARIA_Misiones', 'TOTORAL_Córdoba', 'LULES_Tucumán', 'LIBERTADOR GRL. SAN MARTÍN_Misiones', 'ZÁRATE _Buenos Aires', 'LOBOS_Buenos Aires', 'GENERAL SAN MARTÍN_Córdoba', 'SAN JAVIER_Misiones', 'TRANCAS_Tucumán', 'PRESIDENTE PERÓN_Buenos Aires', 'PEHUENCHES_Neuquén', 'GENERAL GUIDO_Buenos Aires', 'SANTA MARÍA_Córdoba', 'SAN IGNACIO_Misiones', 'ESCOBAR_Buenos Aires', 'NAVARRO_Buenos Aires', 'CHICLIGASTA_Tucumán', 'TRES LOMAS _Buenos Aires', 'LONCOPUÉ_Neuquén', 'TRES DE FEBRERO_Buenos Aires', 'AÑELO_Neuquén', 'SAN ISIDRO_Buenos Aires', 'GENERAL ARENALES_Buenos Aires', 'YERBA BUENA_Tucumán', 'ROQUE PÉREZ_Buenos Aires', 'JUÁREZ CELMAN_Córdoba', 'MONTECARLO_Misiones', 'MALVINAS ARGENTINAS_Buenos Aires', 'CHASCOMÚS_Buenos Aires', 'CORONEL DE MARINA L. ROSALES_Buenos Aires', 'PICUNCHES_Neuquén', 'MORENO_Buenos Aires', 'COLÓN_Córdoba', 'SAN ANDRÉS DE GILES_Buenos Aires', 'SOBREMONTE_Córdoba', 'QUILMES_Buenos Aires', 'FLORENCIO VARELA_Buenos Aires', 'CAMPANA_Buenos Aires', 'PERGAMINO_Buenos Aires', 'GRANEROS_Tucumán', 'LAPRIDA_Buenos Aires', 'ALMIRANTE BROWN_Buenos Aires', 'SIMOCA_Tucumán', 'LEANDRO N. ALEM_Misiones', 'APÓSTOLES_Misiones', 'PUÁN_Buenos Aires', 'SALADILLO_Buenos Aires', 'LOS LAGOS_Neuquén', 'LOBERÍA_Buenos Aires', 'ÑORQUÍN_Neuquén', 'LOMAS DE ZAMORA_Buenos Aires', 'TAPALQUÉ_Buenos Aires', 'CARLOS TEJEDOR_Buenos Aires', 'PICÚN LEUFÚ_Neuquén', 'LA COCHA_Tucumán', 'TIGRE_Buenos Aires', 'LA COSTA_Buenos Aires', 'BERAZATEGUI_Buenos Aires', 'FLORENTINO AMEGHINO_Buenos Aires', 'TAFÍ VIEJO_Tucumán', 'CRUZ DEL EJE_Córdoba', 'LANÚS_Buenos Aires', 'CARLOS CASARES_Buenos Aires', 'BERISSO_Buenos Aires'}\n",
      "En predichos pero no en reales: {'SAAVEDRA_Buenos Aires', 'CORONEL SUÁREZ_Buenos Aires'}\n"
     ]
    }
   ],
   "source": [
    "#Queremos observar que departamento se encuentran en un csv pero no el otro, para ello:\n",
    "\n",
    "# Departamentos en reales\n",
    "set_reales = set(df_reales_agrupado['Departamento'].unique())\n",
    "\n",
    "# Departamentos en predichos\n",
    "set_predichos = set(resultadoLight['Departamento'].unique())\n",
    "\n",
    "# Diferencias\n",
    "print(\"En reales pero no en predichos:\", set_reales - set_predichos)\n",
    "print(\"En predichos pero no en reales:\", set_predichos - set_reales)"
   ]
  },
  {
   "cell_type": "code",
   "execution_count": 226,
   "id": "2dfdb78b-ae51-4542-9026-3c9cf447ce13",
   "metadata": {},
   "outputs": [],
   "source": [
    "#Hacemos un join de ambos, esto nos asegura que quedan las filas que pertenecen a ambos csv\n",
    "df_comparacion = pd.merge(\n",
    "    df_reales_agrupado,\n",
    "    resultadoLight,\n",
    "    on=['Departamento', 'semanas_epidemiologicas'],\n",
    "    suffixes=('_real', '_pred')\n",
    ")"
   ]
  },
  {
   "cell_type": "code",
   "execution_count": 227,
   "id": "b8d74f22-d529-4331-bdf1-6c7c1e18a53b",
   "metadata": {},
   "outputs": [
    {
     "name": "stdout",
     "output_type": "stream",
     "text": [
      "       cantidad_casos  cantidad_casos_pred\n",
      "count      345.000000           345.000000\n",
      "mean        76.504348            85.709023\n",
      "std        106.840925           143.682360\n",
      "min          1.000000             2.497794\n",
      "25%         17.000000            11.462995\n",
      "50%         49.000000            48.970217\n",
      "75%         96.000000            92.849846\n",
      "max       1022.000000           869.754113\n"
     ]
    }
   ],
   "source": [
    "print(df_comparacion[['cantidad_casos', 'cantidad_casos_pred']].describe())"
   ]
  },
  {
   "cell_type": "markdown",
   "id": "e20ee470-0326-429c-8f41-f8342dc159a9",
   "metadata": {},
   "source": [
    "Hagamos un grafico para observar visualmente las predicciones del modelo y las reales segun semana epidemiologica"
   ]
  },
  {
   "cell_type": "code",
   "execution_count": 228,
   "id": "e463a6b5-f952-4cd3-87d4-85392774cc7f",
   "metadata": {},
   "outputs": [
    {
     "data": {
      "image/png": "[encoded data removed]",
      "text/plain": [
       "<Figure size 1000x600 with 1 Axes>"
      ]
     },
     "metadata": {},
     "output_type": "display_data"
    }
   ],
   "source": [
    "# Agrupar y graficar\n",
    "ax = df_comparacion.groupby('semanas_epidemiologicas')[['cantidad_casos', 'cantidad_casos_pred']].sum().plot(\n",
    "    figsize=(10, 6),\n",
    "    title=\"Casos reales vs. predichos (semanas 1 a 13)\",\n",
    "    ylabel=\"Cantidad de casos\",\n",
    "    xlabel=\"Semana epidemiológica\",\n",
    "    grid=True\n",
    ")\n",
    "\n",
    "# Sombreado entre las semanas 8 y 13\n",
    "plt.axvspan(8, 13, color='gray', alpha=0.2, label='Zona de mayor discrepancia')\n",
    "\n",
    "# Obtener valores para la anotación en semana 13\n",
    "semana_13 = 13\n",
    "valor_real_13 = df_comparacion[df_comparacion['semanas_epidemiologicas'] == semana_13]['cantidad_casos'].sum()\n",
    "valor_pred_13 = df_comparacion[df_comparacion['semanas_epidemiologicas'] == semana_13]['cantidad_casos_pred'].sum()\n",
    "\n",
    "# Anotar diferencia en semana 13\n",
    "plt.annotate(\n",
    "    f'Predicción: {int(valor_pred_13)}\\nReal: {int(valor_real_13)}',\n",
    "    xy=(semana_13, valor_pred_13),\n",
    "    xytext=(semana_13 - 2.5, valor_pred_13 + 1000),\n",
    "    arrowprops=dict(arrowstyle='->', color='black'),\n",
    "    bbox=dict(boxstyle='round,pad=0.3', facecolor='white', edgecolor='black'),\n",
    "    fontsize=9\n",
    ")\n",
    "\n",
    "plt.legend()\n",
    "plt.tight_layout()\n",
    "plt.show()\n"
   ]
  },
  {
   "cell_type": "markdown",
   "id": "c073a7d3-e23f-4f35-bd05-9663b4b40294",
   "metadata": {},
   "source": [
    "Podemos observar que las primeras semanas, hasta la 8, el modelo se mantiene casi a la par de los casos reales\n",
    "A medida que avanzan las semanas, los valores reales comenzaron a disminuir, mientras que las predicciones mantuvieron niveles mas elevados.\n",
    "Analizaremos por qué sucede esto"
   ]
  },
  {
   "cell_type": "code",
   "execution_count": 229,
   "id": "53b253ba-bbe7-4562-a999-bf5df8f4300c",
   "metadata": {},
   "outputs": [
    {
     "data": {
      "image/png": "[encoded data removed]",
      "text/plain": [
       "<Figure size 1000x500 with 1 Axes>"
      ]
     },
     "metadata": {},
     "output_type": "display_data"
    }
   ],
   "source": [
    "df_comparacion['error_absoluto'] = abs(df_comparacion['cantidad_casos'] - df_comparacion['cantidad_casos_pred'])\n",
    "df_comparacion['error_relativo_%'] = 100 * df_comparacion['error_absoluto'] / df_comparacion['cantidad_casos'].replace(0, 1)\n",
    "\n",
    "from sklearn.metrics import mean_absolute_error, mean_squared_error\n",
    "import numpy as np\n",
    "\n",
    "mae = mean_absolute_error(df_comparacion['cantidad_casos'], df_comparacion['cantidad_casos_pred'])\n",
    "rmse = np.sqrt(mean_squared_error(df_comparacion['cantidad_casos'], df_comparacion['cantidad_casos_pred']))\n",
    "mape = df_comparacion['error_relativo_%'].mean()\n",
    "\n",
    "errores_por_semana = df_comparacion.groupby('semanas_epidemiologicas')['error_absoluto'].mean()\n",
    "\n",
    "plt.figure(figsize=(10,5))\n",
    "errores_por_semana.plot(kind='bar', color='tomato')\n",
    "plt.title(\"Error absoluto promedio por semana epidemiológica\")\n",
    "plt.ylabel(\"Error absoluto promedio\")\n",
    "plt.xlabel(\"Semana epidemiológica\")\n",
    "plt.axvspan(7.5, 13.5, color='yellow', alpha=0.3, label=\"Semanas críticas (8–13)\")\n",
    "plt.legend()\n",
    "plt.grid(True)\n",
    "plt.tight_layout()\n",
    "plt.show()\n"
   ]
  },
  {
   "cell_type": "code",
   "execution_count": 230,
   "id": "ebac8245-ea54-40d7-b9f7-cfbc83f3dc13",
   "metadata": {},
   "outputs": [
    {
     "data": {
      "image/png": "[encoded data removed]",
      "text/plain": [
       "<Figure size 1000x600 with 1 Axes>"
      ]
     },
     "metadata": {},
     "output_type": "display_data"
    }
   ],
   "source": [
    "# Concatenar los tres DataFrames\n",
    "df_total = pd.concat([df_temp2019_2022, df_temp2022_2023, Temperaturas_2024], ignore_index=True)\n",
    "\n",
    "# Calcular temperatura media\n",
    "df_total['temp_media'] = (df_total['Temperatura Max'] + df_total['Temperatura Min']) / 2\n",
    "\n",
    "# Asegurar tipos\n",
    "df_total['año'] = df_total['año'].astype(int)\n",
    "df_total['semanas_epidemiologicas'] = df_total['semanas_epidemiologicas'].astype(int)\n",
    "\n",
    "# Filtrar semanas 1 a 20\n",
    "df_filtrado = df_total[\n",
    "    (df_total['semanas_epidemiologicas'] >= 1) & \n",
    "    (df_total['semanas_epidemiologicas'] <= 20)\n",
    "]\n",
    "\n",
    "# Agrupar por año y semana\n",
    "df_agg = df_filtrado.groupby(['año', 'semanas_epidemiologicas'], as_index=False)['temp_media'].mean()\n",
    "\n",
    "# Calcular promedio histórico 2019-2023\n",
    "df_historico = df_agg[df_agg['año'] < 2024].copy()\n",
    "promedio_historico = (\n",
    "    df_historico\n",
    "    .groupby('semanas_epidemiologicas', as_index=False)['temp_media']\n",
    "    .mean()\n",
    ")\n",
    "promedio_historico['año'] = 'Promedio 2019–2023'\n",
    "\n",
    "# Datos de 2024\n",
    "df_2024 = df_agg[df_agg['año'] == 2024].copy()\n",
    "\n",
    "# Unir para graficar\n",
    "df_plot = pd.concat([promedio_historico, df_2024], ignore_index=True)\n",
    "\n",
    "# Graficar\n",
    "plt.figure(figsize=(10,6))\n",
    "for etiqueta in df_plot['año'].unique():\n",
    "    datos = df_plot[df_plot['año'] == etiqueta]\n",
    "    estilo = '--' if etiqueta == 'Promedio 2019–2023' else '-'\n",
    "    plt.plot(datos['semanas_epidemiologicas'], datos['temp_media'], \n",
    "             linestyle=estilo, marker='o', label=str(etiqueta))\n",
    "\n",
    "plt.title(\"Comparación de temperatura media semanal: 2024 vs promedio 2019–2023 (semanas 1 a 20)\")\n",
    "plt.xlabel(\"Semana epidemiológica\")\n",
    "plt.ylabel(\"Temperatura media (°C)\")\n",
    "plt.grid(True)\n",
    "plt.legend(title=\"Año\")\n",
    "plt.tight_layout()\n",
    "plt.show()\n"
   ]
  },
  {
   "cell_type": "markdown",
   "id": "2e11606f-ff97-42b9-9526-9c23ec4644dd",
   "metadata": {},
   "source": [
    "Analizando los datos, observamos que la temperatura medía en la semana 5 del año 2024 presento un incremento, alcanzando los 27 grados, en comparacion con el promedio historico que se mantuvo por debajo de los 24 grados. \n",
    "Ademas, se refleja como a medida que pasan las semanas, el MAE se mantiene con valores relativamente bajos (entre 20 y 40), seguido a un incremento cercano a 78 en la semana 12"
   ]
  },
  {
   "cell_type": "markdown",
   "id": "97d2a531-7b3a-4f08-817d-676d1297da24",
   "metadata": {},
   "source": [
    "###"
   ]
  },
  {
   "cell_type": "markdown",
   "id": "459a6f8c-ab12-48c7-aa87-9016d447ca06",
   "metadata": {},
   "source": [
    "### Funcion para usar el modelo"
   ]
  },
  {
   "cell_type": "markdown",
   "id": "e422f14c-ef58-4c90-9e75-c5528b47b931",
   "metadata": {},
   "source": [
    "Para evaluar cómo se comporta el modelo ante casos concretos, implementamos una función llamada \"buscar_prediccion\" que permite predecir la cantidad de casos en una semana específica, para un determinado departamento y año. Esta predicción se realiza utilizando unicamente la información disponible hasta ese momento, tal como ocurriría en un escenario real.\n",
    "La función devuelve tanto el valor estimado como el valor real observado (si está disponible), y calcula el error de la predicción. Actualmente, la función se encuentra limitada a predicciones de años hasta 2023. Además, si bien la base de datos comienza en 2019, no todos los departamentos cuentan con registros disponibles desde ese año"
   ]
  },
  {
   "cell_type": "code",
   "execution_count": 231,
   "id": "9fd3b848-2cfd-4bb1-8847-ac49d1df6f95",
   "metadata": {},
   "outputs": [],
   "source": [
    "# Guardá los objetos necesarios en una vez (ejecutar una sola vez)\n",
    "model_entrenado = model\n",
    "datos_originales = df_sumado\n",
    "cat_cols_global = cat_cols\n",
    "cat_categories_global = cat_categories\n",
    "feature_cols_global = feature_cols\n"
   ]
  },
  {
   "cell_type": "code",
   "execution_count": 232,
   "id": "6ff5df4b-1c79-4fb1-89fc-7110ab31320d",
   "metadata": {},
   "outputs": [],
   "source": [
    "def buscar_departamento(departamento_simple, provincia, df):\n",
    "    dep = departamento_simple.strip().lower()\n",
    "    prov = provincia.strip().lower()\n",
    "    for d in df['Departamento'].unique():\n",
    "        partes = d.split(\"_\")\n",
    "        if len(partes) == 2:\n",
    "            dep_nom, prov_nom = partes\n",
    "            if dep in dep_nom.lower() and prov in prov_nom.lower():\n",
    "                return d\n",
    "    return None\n",
    "def buscar_prediccion(departamento_simple, provincia, semana_epi, año):\n",
    "    from datetime import datetime\n",
    "    import pandas as pd\n",
    "\n",
    "    # Validación de semana\n",
    "    if not (1 <= semana_epi <= 52):\n",
    "        return f\"Semana inválida: {semana_epi}. Debe estar entre 1 y 52.\"\n",
    "\n",
    "    df = datos_originales\n",
    "    model = model_entrenado\n",
    "    feature_cols = feature_cols_global\n",
    "    cat_cols = cat_cols_global\n",
    "    cat_categories = cat_categories_global\n",
    "\n",
    "    departamento = buscar_departamento(departamento_simple, provincia, df)\n",
    "    if not departamento:\n",
    "        return f\"No se encontró el nombre del departamento '{departamento_simple}' con provincia '{provincia}'\"\n",
    "\n",
    "    df = df.copy()\n",
    "    df['ds'] = pd.to_datetime(\n",
    "        df['año'].astype(str) + df['semanas_epidemiologicas'].astype(str).str.zfill(2) + '1',\n",
    "        format=\"%G%V%u\"\n",
    "    )\n",
    "    target_fecha = pd.to_datetime(f\"{año}{semana_epi:02d}1\", format=\"%G%V%u\")\n",
    "\n",
    "    historial = df[(df['Departamento'] == departamento) & (df['ds'] < target_fecha)].sort_values('ds')\n",
    "\n",
    "    if len(historial) < 4:\n",
    "        return f\"No hay suficientes datos previos para generar los lags (mínimo 4 semanas).\"\n",
    "\n",
    "    last = historial.iloc[-1:].copy()\n",
    "    cur = last.copy()\n",
    "    cur['ds'] = target_fecha\n",
    "    cur['semanas_epidemiologicas'] = semana_epi\n",
    "    cur['mes'] = cur['ds'].dt.month\n",
    "    cur['semana_iso'] = cur['ds'].dt.isocalendar().week.astype(int)\n",
    "\n",
    "    def estacion(sem):\n",
    "        if 22 <= sem <= 39:\n",
    "            return 'invierno'\n",
    "        elif 40 <= sem or sem <= 12:\n",
    "            return 'prim_ver'\n",
    "        else:\n",
    "            return 'oto_inv'\n",
    "\n",
    "    cur['estacion'] = cur['semana_iso'].apply(estacion)\n",
    "\n",
    "    clima_actual = df[(df['Departamento'] == departamento) & (df['ds'] == target_fecha)]\n",
    "    if clima_actual.empty:\n",
    "        return \"No se encontró información climática para esa semana\"\n",
    "\n",
    "    for col in ['Temperatura Max', 'Temperatura Min', 'Precip', 'Humedad']:\n",
    "        cur[col] = clima_actual[col].values[0]\n",
    "\n",
    "    cur['temp_mean']  = (cur['Temperatura Max'] + cur['Temperatura Min']) / 2\n",
    "    cur['temp_range'] = cur['Temperatura Max'] - cur['Temperatura Min']\n",
    "\n",
    "    lags = historial[['cantidad_casos', 'Temperatura Min', 'Humedad']].tail(4).reset_index(drop=True)\n",
    "    for i in range(1, 5):\n",
    "        cur[f'y_lag{i}'] = lags.loc[4 - i, 'cantidad_casos']\n",
    "    for i in range(1, 3):\n",
    "        cur[f'tmin_lag{i}'] = lags.loc[2 - i, 'Temperatura Min']\n",
    "        cur[f'hum_lag{i}']  = lags.loc[2 - i, 'Humedad']\n",
    "\n",
    "    cur['y_roll3'] = cur[[f'y_lag{i}' for i in range(1, 4)]].mean(axis=1)\n",
    "    cur['y_roll5'] = cur[[f'y_lag{i}' for i in range(1, 5)] + ['cantidad_casos']].mean(axis=1)\n",
    "\n",
    "    for c in cat_cols:\n",
    "        cur[c] = pd.Categorical(cur[c], categories=cat_categories[c])\n",
    "\n",
    "    pred = model.predict(cur[feature_cols])[0]\n",
    "    real = clima_actual['cantidad_casos'].values[0] if 'cantidad_casos' in clima_actual.columns else None\n",
    "\n",
    "    return {\n",
    "        'Departamento': departamento_simple.upper(),\n",
    "        'Provincia': provincia.capitalize(),\n",
    "        'Semana': semana_epi,\n",
    "        'Año': año,\n",
    "        'Predicción': float(round(pred, 2)),\n",
    "        'Real': int(real) if real is not None else \"No disponible\",\n",
    "        'Error Absoluto': float(round(abs(pred - real), 2)) if real is not None else \"No disponible\",\n",
    "        'Error %': float(round(abs(pred - real) / real * 100, 2)) if real else \"No disponible\"\n",
    "    }\n"
   ]
  },
  {
   "cell_type": "code",
   "execution_count": 233,
   "id": "d4fd0ea5-8f59-49fe-b493-5dbba8cab9f5",
   "metadata": {},
   "outputs": [
    {
     "data": {
      "text/plain": [
       "{'Departamento': 'AZUL',\n",
       " 'Provincia': 'Buenos aires',\n",
       " 'Semana': 5,\n",
       " 'Año': 2019,\n",
       " 'Predicción': 39.35,\n",
       " 'Real': 52,\n",
       " 'Error Absoluto': 12.65,\n",
       " 'Error %': 24.32}"
      ]
     },
     "execution_count": 233,
     "metadata": {},
     "output_type": "execute_result"
    }
   ],
   "source": [
    "#Probemos con un departamento aleatorio\n",
    "buscar_prediccion(\"AZUL\", \"buenos aires\", 5, 2019)"
   ]
  },
  {
   "cell_type": "code",
   "execution_count": 234,
   "id": "5e34065f-e87b-48c1-bb54-cc6c3570af1a",
   "metadata": {},
   "outputs": [
    {
     "data": {
      "image/png": "[encoded data removed]",
      "text/plain": [
       "<Figure size 400x500 with 1 Axes>"
      ]
     },
     "metadata": {},
     "output_type": "display_data"
    }
   ],
   "source": [
    "resultado = buscar_prediccion(\"Azul\", \"buenos aires\", 5, 2019)\n",
    "\n",
    "plt.figure(figsize=(4, 5))\n",
    "plt.bar([\"Real\", \"Predicción\"], [resultado[\"Real\"], resultado[\"Predicción\"]], color=[\"steelblue\", \"orange\"])\n",
    "plt.title(f\"{resultado['Departamento']} ({resultado['Provincia']}) - Semana {resultado['Semana']} - {resultado['Año']}\")\n",
    "plt.ylabel(\"Cantidad de casos\")\n",
    "plt.ylim(0, max(resultado[\"Real\"], resultado[\"Predicción\"]) * 1.3)\n",
    "plt.grid(axis='y', linestyle='--', alpha=0.6)\n",
    "plt.show()\n"
   ]
  }
 ],
 "metadata": {
  "kernelspec": {
   "display_name": "Python 3 (ipykernel)",
   "language": "python",
   "name": "python3"
  },
  "language_info": {
   "codemirror_mode": {
    "name": "ipython",
    "version": 3
   },
   "file_extension": ".py",
   "mimetype": "text/x-python",
   "name": "python",
   "nbconvert_exporter": "python",
   "pygments_lexer": "ipython3",
   "version": "3.11.2"
  }
 },
 "nbformat": 4,
 "nbformat_minor": 5
}
